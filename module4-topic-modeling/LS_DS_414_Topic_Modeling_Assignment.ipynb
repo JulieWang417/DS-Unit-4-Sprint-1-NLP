{
 "cells": [
  {
   "cell_type": "markdown",
   "metadata": {},
   "source": [
    "<img align=\"left\" src=\"https://lever-client-logos.s3.amazonaws.com/864372b1-534c-480e-acd5-9711f850815c-1524247202159.png\" width=200>\n",
    "<br></br>\n",
    "<br></br>\n",
    "\n",
    "# Topic Modeling\n",
    "## *Data Science Unit 4 Sprint 1 Assignment 4*\n",
    "\n",
    "Analyze a corpus of Amazon reviews from Unit 4 Sprint 1 Module 1's lecture using topic modeling: \n",
    "\n",
    "- Fit a Gensim LDA topic model on Amazon Reviews\n",
    "- Select appropriate number of topics\n",
    "- Create some dope visualization of the topics\n",
    "- Write a few bullets on your findings in markdown at the end\n",
    "- **Note**: You don't *have* to use generators for this assignment"
   ]
  },
  {
   "cell_type": "markdown",
   "metadata": {},
   "source": [
    "## Step 1 : Extract Data"
   ]
  },
  {
   "cell_type": "code",
   "execution_count": 2,
   "metadata": {},
   "outputs": [
    {
     "name": "stdout",
     "output_type": "stream",
     "text": [
      "Archive:  /Users/julie/Desktop/repos/DS-Unit-4-Sprint-1-NLP/module1-text-data/data/Datafiniti_Amazon_Consumer_Reviews_of_Amazon_Products_May19.csv.zip\n",
      "  inflating: Datafiniti_Amazon_Consumer_Reviews_of_Amazon_Products_May19.csv  \n",
      "   creating: __MACOSX/\n",
      "  inflating: __MACOSX/._Datafiniti_Amazon_Consumer_Reviews_of_Amazon_Products_May19.csv  \n"
     ]
    }
   ],
   "source": [
    "!unzip /Users/julie/Desktop/repos/DS-Unit-4-Sprint-1-NLP/module1-text-data/data/Datafiniti_Amazon_Consumer_Reviews_of_Amazon_Products_May19.csv.zip"
   ]
  },
  {
   "cell_type": "code",
   "execution_count": 6,
   "metadata": {},
   "outputs": [],
   "source": [
    "import numpy as np\n",
    "import gensim\n",
    "import os\n",
    "import re\n",
    "\n",
    "from gensim.utils import simple_preprocess\n",
    "from gensim.parsing.preprocessing import STOPWORDS\n",
    "from gensim import corpora\n",
    "\n",
    "from gensim.models.ldamulticore import LdaMulticore"
   ]
  },
  {
   "cell_type": "code",
   "execution_count": 7,
   "metadata": {},
   "outputs": [
    {
     "data": {
      "text/html": [
       "<div>\n",
       "<style scoped>\n",
       "    .dataframe tbody tr th:only-of-type {\n",
       "        vertical-align: middle;\n",
       "    }\n",
       "\n",
       "    .dataframe tbody tr th {\n",
       "        vertical-align: top;\n",
       "    }\n",
       "\n",
       "    .dataframe thead th {\n",
       "        text-align: right;\n",
       "    }\n",
       "</style>\n",
       "<table border=\"1\" class=\"dataframe\">\n",
       "  <thead>\n",
       "    <tr style=\"text-align: right;\">\n",
       "      <th></th>\n",
       "      <th>id</th>\n",
       "      <th>dateAdded</th>\n",
       "      <th>dateUpdated</th>\n",
       "      <th>name</th>\n",
       "      <th>asins</th>\n",
       "      <th>brand</th>\n",
       "      <th>categories</th>\n",
       "      <th>primaryCategories</th>\n",
       "      <th>imageURLs</th>\n",
       "      <th>keys</th>\n",
       "      <th>...</th>\n",
       "      <th>reviews.didPurchase</th>\n",
       "      <th>reviews.doRecommend</th>\n",
       "      <th>reviews.id</th>\n",
       "      <th>reviews.numHelpful</th>\n",
       "      <th>reviews.rating</th>\n",
       "      <th>reviews.sourceURLs</th>\n",
       "      <th>reviews.text</th>\n",
       "      <th>reviews.title</th>\n",
       "      <th>reviews.username</th>\n",
       "      <th>sourceURLs</th>\n",
       "    </tr>\n",
       "  </thead>\n",
       "  <tbody>\n",
       "    <tr>\n",
       "      <th>0</th>\n",
       "      <td>AVpgNzjwLJeJML43Kpxn</td>\n",
       "      <td>2015-10-30T08:59:32Z</td>\n",
       "      <td>2019-04-25T09:08:16Z</td>\n",
       "      <td>AmazonBasics AAA Performance Alkaline Batterie...</td>\n",
       "      <td>B00QWO9P0O,B00LH3DMUO</td>\n",
       "      <td>Amazonbasics</td>\n",
       "      <td>AA,AAA,Health,Electronics,Health &amp; Household,C...</td>\n",
       "      <td>Health &amp; Beauty</td>\n",
       "      <td>https://images-na.ssl-images-amazon.com/images...</td>\n",
       "      <td>amazonbasics/hl002619,amazonbasicsaaaperforman...</td>\n",
       "      <td>...</td>\n",
       "      <td>NaN</td>\n",
       "      <td>NaN</td>\n",
       "      <td>NaN</td>\n",
       "      <td>NaN</td>\n",
       "      <td>3</td>\n",
       "      <td>https://www.amazon.com/product-reviews/B00QWO9...</td>\n",
       "      <td>I order 3 of them and one of the item is bad q...</td>\n",
       "      <td>... 3 of them and one of the item is bad quali...</td>\n",
       "      <td>Byger yang</td>\n",
       "      <td>https://www.barcodable.com/upc/841710106442,ht...</td>\n",
       "    </tr>\n",
       "    <tr>\n",
       "      <th>1</th>\n",
       "      <td>AVpgNzjwLJeJML43Kpxn</td>\n",
       "      <td>2015-10-30T08:59:32Z</td>\n",
       "      <td>2019-04-25T09:08:16Z</td>\n",
       "      <td>AmazonBasics AAA Performance Alkaline Batterie...</td>\n",
       "      <td>B00QWO9P0O,B00LH3DMUO</td>\n",
       "      <td>Amazonbasics</td>\n",
       "      <td>AA,AAA,Health,Electronics,Health &amp; Household,C...</td>\n",
       "      <td>Health &amp; Beauty</td>\n",
       "      <td>https://images-na.ssl-images-amazon.com/images...</td>\n",
       "      <td>amazonbasics/hl002619,amazonbasicsaaaperforman...</td>\n",
       "      <td>...</td>\n",
       "      <td>NaN</td>\n",
       "      <td>NaN</td>\n",
       "      <td>NaN</td>\n",
       "      <td>NaN</td>\n",
       "      <td>4</td>\n",
       "      <td>https://www.amazon.com/product-reviews/B00QWO9...</td>\n",
       "      <td>Bulk is always the less expensive way to go fo...</td>\n",
       "      <td>... always the less expensive way to go for pr...</td>\n",
       "      <td>ByMG</td>\n",
       "      <td>https://www.barcodable.com/upc/841710106442,ht...</td>\n",
       "    </tr>\n",
       "    <tr>\n",
       "      <th>2</th>\n",
       "      <td>AVpgNzjwLJeJML43Kpxn</td>\n",
       "      <td>2015-10-30T08:59:32Z</td>\n",
       "      <td>2019-04-25T09:08:16Z</td>\n",
       "      <td>AmazonBasics AAA Performance Alkaline Batterie...</td>\n",
       "      <td>B00QWO9P0O,B00LH3DMUO</td>\n",
       "      <td>Amazonbasics</td>\n",
       "      <td>AA,AAA,Health,Electronics,Health &amp; Household,C...</td>\n",
       "      <td>Health &amp; Beauty</td>\n",
       "      <td>https://images-na.ssl-images-amazon.com/images...</td>\n",
       "      <td>amazonbasics/hl002619,amazonbasicsaaaperforman...</td>\n",
       "      <td>...</td>\n",
       "      <td>NaN</td>\n",
       "      <td>NaN</td>\n",
       "      <td>NaN</td>\n",
       "      <td>NaN</td>\n",
       "      <td>5</td>\n",
       "      <td>https://www.amazon.com/product-reviews/B00QWO9...</td>\n",
       "      <td>Well they are not Duracell but for the price i...</td>\n",
       "      <td>... are not Duracell but for the price i am ha...</td>\n",
       "      <td>BySharon Lambert</td>\n",
       "      <td>https://www.barcodable.com/upc/841710106442,ht...</td>\n",
       "    </tr>\n",
       "    <tr>\n",
       "      <th>3</th>\n",
       "      <td>AVpgNzjwLJeJML43Kpxn</td>\n",
       "      <td>2015-10-30T08:59:32Z</td>\n",
       "      <td>2019-04-25T09:08:16Z</td>\n",
       "      <td>AmazonBasics AAA Performance Alkaline Batterie...</td>\n",
       "      <td>B00QWO9P0O,B00LH3DMUO</td>\n",
       "      <td>Amazonbasics</td>\n",
       "      <td>AA,AAA,Health,Electronics,Health &amp; Household,C...</td>\n",
       "      <td>Health &amp; Beauty</td>\n",
       "      <td>https://images-na.ssl-images-amazon.com/images...</td>\n",
       "      <td>amazonbasics/hl002619,amazonbasicsaaaperforman...</td>\n",
       "      <td>...</td>\n",
       "      <td>NaN</td>\n",
       "      <td>NaN</td>\n",
       "      <td>NaN</td>\n",
       "      <td>NaN</td>\n",
       "      <td>5</td>\n",
       "      <td>https://www.amazon.com/product-reviews/B00QWO9...</td>\n",
       "      <td>Seem to work as well as name brand batteries a...</td>\n",
       "      <td>... as well as name brand batteries at a much ...</td>\n",
       "      <td>Bymark sexson</td>\n",
       "      <td>https://www.barcodable.com/upc/841710106442,ht...</td>\n",
       "    </tr>\n",
       "    <tr>\n",
       "      <th>4</th>\n",
       "      <td>AVpgNzjwLJeJML43Kpxn</td>\n",
       "      <td>2015-10-30T08:59:32Z</td>\n",
       "      <td>2019-04-25T09:08:16Z</td>\n",
       "      <td>AmazonBasics AAA Performance Alkaline Batterie...</td>\n",
       "      <td>B00QWO9P0O,B00LH3DMUO</td>\n",
       "      <td>Amazonbasics</td>\n",
       "      <td>AA,AAA,Health,Electronics,Health &amp; Household,C...</td>\n",
       "      <td>Health &amp; Beauty</td>\n",
       "      <td>https://images-na.ssl-images-amazon.com/images...</td>\n",
       "      <td>amazonbasics/hl002619,amazonbasicsaaaperforman...</td>\n",
       "      <td>...</td>\n",
       "      <td>NaN</td>\n",
       "      <td>NaN</td>\n",
       "      <td>NaN</td>\n",
       "      <td>NaN</td>\n",
       "      <td>5</td>\n",
       "      <td>https://www.amazon.com/product-reviews/B00QWO9...</td>\n",
       "      <td>These batteries are very long lasting the pric...</td>\n",
       "      <td>... batteries are very long lasting the price ...</td>\n",
       "      <td>Bylinda</td>\n",
       "      <td>https://www.barcodable.com/upc/841710106442,ht...</td>\n",
       "    </tr>\n",
       "  </tbody>\n",
       "</table>\n",
       "<p>5 rows × 24 columns</p>\n",
       "</div>"
      ],
      "text/plain": [
       "                     id             dateAdded           dateUpdated  \\\n",
       "0  AVpgNzjwLJeJML43Kpxn  2015-10-30T08:59:32Z  2019-04-25T09:08:16Z   \n",
       "1  AVpgNzjwLJeJML43Kpxn  2015-10-30T08:59:32Z  2019-04-25T09:08:16Z   \n",
       "2  AVpgNzjwLJeJML43Kpxn  2015-10-30T08:59:32Z  2019-04-25T09:08:16Z   \n",
       "3  AVpgNzjwLJeJML43Kpxn  2015-10-30T08:59:32Z  2019-04-25T09:08:16Z   \n",
       "4  AVpgNzjwLJeJML43Kpxn  2015-10-30T08:59:32Z  2019-04-25T09:08:16Z   \n",
       "\n",
       "                                                name                  asins  \\\n",
       "0  AmazonBasics AAA Performance Alkaline Batterie...  B00QWO9P0O,B00LH3DMUO   \n",
       "1  AmazonBasics AAA Performance Alkaline Batterie...  B00QWO9P0O,B00LH3DMUO   \n",
       "2  AmazonBasics AAA Performance Alkaline Batterie...  B00QWO9P0O,B00LH3DMUO   \n",
       "3  AmazonBasics AAA Performance Alkaline Batterie...  B00QWO9P0O,B00LH3DMUO   \n",
       "4  AmazonBasics AAA Performance Alkaline Batterie...  B00QWO9P0O,B00LH3DMUO   \n",
       "\n",
       "          brand                                         categories  \\\n",
       "0  Amazonbasics  AA,AAA,Health,Electronics,Health & Household,C...   \n",
       "1  Amazonbasics  AA,AAA,Health,Electronics,Health & Household,C...   \n",
       "2  Amazonbasics  AA,AAA,Health,Electronics,Health & Household,C...   \n",
       "3  Amazonbasics  AA,AAA,Health,Electronics,Health & Household,C...   \n",
       "4  Amazonbasics  AA,AAA,Health,Electronics,Health & Household,C...   \n",
       "\n",
       "  primaryCategories                                          imageURLs  \\\n",
       "0   Health & Beauty  https://images-na.ssl-images-amazon.com/images...   \n",
       "1   Health & Beauty  https://images-na.ssl-images-amazon.com/images...   \n",
       "2   Health & Beauty  https://images-na.ssl-images-amazon.com/images...   \n",
       "3   Health & Beauty  https://images-na.ssl-images-amazon.com/images...   \n",
       "4   Health & Beauty  https://images-na.ssl-images-amazon.com/images...   \n",
       "\n",
       "                                                keys  ... reviews.didPurchase  \\\n",
       "0  amazonbasics/hl002619,amazonbasicsaaaperforman...  ...                 NaN   \n",
       "1  amazonbasics/hl002619,amazonbasicsaaaperforman...  ...                 NaN   \n",
       "2  amazonbasics/hl002619,amazonbasicsaaaperforman...  ...                 NaN   \n",
       "3  amazonbasics/hl002619,amazonbasicsaaaperforman...  ...                 NaN   \n",
       "4  amazonbasics/hl002619,amazonbasicsaaaperforman...  ...                 NaN   \n",
       "\n",
       "  reviews.doRecommend reviews.id reviews.numHelpful reviews.rating  \\\n",
       "0                 NaN        NaN                NaN              3   \n",
       "1                 NaN        NaN                NaN              4   \n",
       "2                 NaN        NaN                NaN              5   \n",
       "3                 NaN        NaN                NaN              5   \n",
       "4                 NaN        NaN                NaN              5   \n",
       "\n",
       "                                  reviews.sourceURLs  \\\n",
       "0  https://www.amazon.com/product-reviews/B00QWO9...   \n",
       "1  https://www.amazon.com/product-reviews/B00QWO9...   \n",
       "2  https://www.amazon.com/product-reviews/B00QWO9...   \n",
       "3  https://www.amazon.com/product-reviews/B00QWO9...   \n",
       "4  https://www.amazon.com/product-reviews/B00QWO9...   \n",
       "\n",
       "                                        reviews.text  \\\n",
       "0  I order 3 of them and one of the item is bad q...   \n",
       "1  Bulk is always the less expensive way to go fo...   \n",
       "2  Well they are not Duracell but for the price i...   \n",
       "3  Seem to work as well as name brand batteries a...   \n",
       "4  These batteries are very long lasting the pric...   \n",
       "\n",
       "                                       reviews.title  reviews.username  \\\n",
       "0  ... 3 of them and one of the item is bad quali...        Byger yang   \n",
       "1  ... always the less expensive way to go for pr...              ByMG   \n",
       "2  ... are not Duracell but for the price i am ha...  BySharon Lambert   \n",
       "3  ... as well as name brand batteries at a much ...     Bymark sexson   \n",
       "4  ... batteries are very long lasting the price ...           Bylinda   \n",
       "\n",
       "                                          sourceURLs  \n",
       "0  https://www.barcodable.com/upc/841710106442,ht...  \n",
       "1  https://www.barcodable.com/upc/841710106442,ht...  \n",
       "2  https://www.barcodable.com/upc/841710106442,ht...  \n",
       "3  https://www.barcodable.com/upc/841710106442,ht...  \n",
       "4  https://www.barcodable.com/upc/841710106442,ht...  \n",
       "\n",
       "[5 rows x 24 columns]"
      ]
     },
     "execution_count": 7,
     "metadata": {},
     "output_type": "execute_result"
    }
   ],
   "source": [
    "import pandas as pd\n",
    "df = pd.read_csv(\"Datafiniti_Amazon_Consumer_Reviews_of_Amazon_Products_May19.csv\")\n",
    "df.head()"
   ]
  },
  {
   "cell_type": "markdown",
   "metadata": {},
   "source": [
    "## Step 2: Tokenizer, remove stopwords, lower case all text"
   ]
  },
  {
   "cell_type": "code",
   "execution_count": 8,
   "metadata": {},
   "outputs": [],
   "source": [
    "def tokenize(text):\n",
    "    \"Complete this function\"\n",
    "    tokens = re.sub(r'[^a-zA-Z ^0-9]', '', text)\n",
    "    tokens = tokens.lower().split()\n",
    "    return [token for token in simple_preprocess(text) if not token in STOPWORDS]"
   ]
  },
  {
   "cell_type": "code",
   "execution_count": 9,
   "metadata": {},
   "outputs": [],
   "source": [
    "df['tokens'] = df['reviews.text'].apply(tokenize)"
   ]
  },
  {
   "cell_type": "code",
   "execution_count": 10,
   "metadata": {},
   "outputs": [
    {
     "data": {
      "text/html": [
       "<div>\n",
       "<style scoped>\n",
       "    .dataframe tbody tr th:only-of-type {\n",
       "        vertical-align: middle;\n",
       "    }\n",
       "\n",
       "    .dataframe tbody tr th {\n",
       "        vertical-align: top;\n",
       "    }\n",
       "\n",
       "    .dataframe thead th {\n",
       "        text-align: right;\n",
       "    }\n",
       "</style>\n",
       "<table border=\"1\" class=\"dataframe\">\n",
       "  <thead>\n",
       "    <tr style=\"text-align: right;\">\n",
       "      <th></th>\n",
       "      <th>reviews.text</th>\n",
       "      <th>tokens</th>\n",
       "    </tr>\n",
       "  </thead>\n",
       "  <tbody>\n",
       "    <tr>\n",
       "      <th>0</th>\n",
       "      <td>I order 3 of them and one of the item is bad q...</td>\n",
       "      <td>[order, item, bad, quality, missing, backup, s...</td>\n",
       "    </tr>\n",
       "    <tr>\n",
       "      <th>1</th>\n",
       "      <td>Bulk is always the less expensive way to go fo...</td>\n",
       "      <td>[bulk, expensive, way, products, like]</td>\n",
       "    </tr>\n",
       "    <tr>\n",
       "      <th>2</th>\n",
       "      <td>Well they are not Duracell but for the price i...</td>\n",
       "      <td>[duracell, price, happy]</td>\n",
       "    </tr>\n",
       "    <tr>\n",
       "      <th>3</th>\n",
       "      <td>Seem to work as well as name brand batteries a...</td>\n",
       "      <td>[work, brand, batteries, better, price]</td>\n",
       "    </tr>\n",
       "    <tr>\n",
       "      <th>4</th>\n",
       "      <td>These batteries are very long lasting the pric...</td>\n",
       "      <td>[batteries, long, lasting, price, great]</td>\n",
       "    </tr>\n",
       "    <tr>\n",
       "      <th>5</th>\n",
       "      <td>Bought a lot of batteries for Christmas and th...</td>\n",
       "      <td>[bought, lot, batteries, christmas, amazonbasi...</td>\n",
       "    </tr>\n",
       "    <tr>\n",
       "      <th>6</th>\n",
       "      <td>ive not had any problame with these batteries ...</td>\n",
       "      <td>[ive, problame, batteries, ordered, past, plea...</td>\n",
       "    </tr>\n",
       "    <tr>\n",
       "      <th>7</th>\n",
       "      <td>Well if you are looking for cheap non-recharge...</td>\n",
       "      <td>[looking, cheap, non, rechargeable, batteries,...</td>\n",
       "    </tr>\n",
       "    <tr>\n",
       "      <th>8</th>\n",
       "      <td>These do not hold the amount of high power jui...</td>\n",
       "      <td>[hold, high, power, juice, like, energizer, du...</td>\n",
       "    </tr>\n",
       "    <tr>\n",
       "      <th>9</th>\n",
       "      <td>AmazonBasics AA AAA batteries have done well b...</td>\n",
       "      <td>[amazonbasics, aa, aaa, batteries, appear, goo...</td>\n",
       "    </tr>\n",
       "  </tbody>\n",
       "</table>\n",
       "</div>"
      ],
      "text/plain": [
       "                                        reviews.text  \\\n",
       "0  I order 3 of them and one of the item is bad q...   \n",
       "1  Bulk is always the less expensive way to go fo...   \n",
       "2  Well they are not Duracell but for the price i...   \n",
       "3  Seem to work as well as name brand batteries a...   \n",
       "4  These batteries are very long lasting the pric...   \n",
       "5  Bought a lot of batteries for Christmas and th...   \n",
       "6  ive not had any problame with these batteries ...   \n",
       "7  Well if you are looking for cheap non-recharge...   \n",
       "8  These do not hold the amount of high power jui...   \n",
       "9  AmazonBasics AA AAA batteries have done well b...   \n",
       "\n",
       "                                              tokens  \n",
       "0  [order, item, bad, quality, missing, backup, s...  \n",
       "1             [bulk, expensive, way, products, like]  \n",
       "2                           [duracell, price, happy]  \n",
       "3            [work, brand, batteries, better, price]  \n",
       "4           [batteries, long, lasting, price, great]  \n",
       "5  [bought, lot, batteries, christmas, amazonbasi...  \n",
       "6  [ive, problame, batteries, ordered, past, plea...  \n",
       "7  [looking, cheap, non, rechargeable, batteries,...  \n",
       "8  [hold, high, power, juice, like, energizer, du...  \n",
       "9  [amazonbasics, aa, aaa, batteries, appear, goo...  "
      ]
     },
     "execution_count": 10,
     "metadata": {},
     "output_type": "execute_result"
    }
   ],
   "source": [
    "df[['reviews.text', 'tokens']][:10]"
   ]
  },
  {
   "cell_type": "code",
   "execution_count": 11,
   "metadata": {},
   "outputs": [
    {
     "data": {
      "text/plain": [
       "(28332, 25)"
      ]
     },
     "execution_count": 11,
     "metadata": {},
     "output_type": "execute_result"
    }
   ],
   "source": [
    "df.shape"
   ]
  },
  {
   "cell_type": "code",
   "execution_count": 12,
   "metadata": {},
   "outputs": [],
   "source": [
    "data = df['tokens']"
   ]
  },
  {
   "cell_type": "code",
   "execution_count": 13,
   "metadata": {},
   "outputs": [
    {
     "data": {
      "text/plain": [
       "0    [order, item, bad, quality, missing, backup, s...\n",
       "1               [bulk, expensive, way, products, like]\n",
       "2                             [duracell, price, happy]\n",
       "3              [work, brand, batteries, better, price]\n",
       "4             [batteries, long, lasting, price, great]\n",
       "5    [bought, lot, batteries, christmas, amazonbasi...\n",
       "6    [ive, problame, batteries, ordered, past, plea...\n",
       "7    [looking, cheap, non, rechargeable, batteries,...\n",
       "8    [hold, high, power, juice, like, energizer, du...\n",
       "9    [amazonbasics, aa, aaa, batteries, appear, goo...\n",
       "Name: tokens, dtype: object"
      ]
     },
     "execution_count": 13,
     "metadata": {},
     "output_type": "execute_result"
    }
   ],
   "source": [
    "data[:10]"
   ]
  },
  {
   "cell_type": "markdown",
   "metadata": {},
   "source": [
    "## Step 3: Stemming using Snowball stemmer"
   ]
  },
  {
   "cell_type": "code",
   "execution_count": 14,
   "metadata": {},
   "outputs": [
    {
     "name": "stdout",
     "output_type": "stream",
     "text": [
      "[['order', 'item', 'bad', 'qualiti', 'miss', 'backup', 'spring', 'pcs', 'aluminum', 'batteri', 'work'], ['bulk', 'expens', 'way', 'product', 'like'], ['duracel', 'price', 'happi'], ['work', 'brand', 'batteri', 'better', 'price'], ['batteri', 'long', 'last', 'price', 'great'], ['bought', 'lot', 'batteri', 'christma', 'amazonbas', 'cell', 'good', 'haven', 'notic', 'differ', 'brand', 'batteri', 'amazon', 'basic', 'brand', 'lot', 'easier', 'purchas', 'arriv', 'hous', 'hand', 'buy'], ['ive', 'problam', 'batteri', 'order', 'past', 'pleas'], ['look', 'cheap', 'non', 'recharg', 'batteri', 'perfect'], ['hold', 'high', 'power', 'juic', 'like', 'energ', 'duracel', 'half', 'price'], ['amazonbas', 'aa', 'aaa', 'batteri', 'appear', 'good', 'shelf', 'life', 'll', 'buy']]\n"
     ]
    }
   ],
   "source": [
    "from nltk.stem.snowball import SnowballStemmer\n",
    "sb_stemmer = SnowballStemmer('english')\n",
    "stemmed_tokens = []\n",
    "for sent in data:\n",
    "    tokens = [sb_stemmer.stem(token) for token in sent]\n",
    "    stemmed_tokens.append(tokens)\n",
    "print(stemmed_tokens[:10])"
   ]
  },
  {
   "cell_type": "markdown",
   "metadata": {},
   "source": [
    "## Step 4: Create a dictonary using corpora"
   ]
  },
  {
   "cell_type": "code",
   "execution_count": 15,
   "metadata": {},
   "outputs": [
    {
     "name": "stdout",
     "output_type": "stream",
     "text": [
      "Dictionary(6511 unique tokens: ['aluminum', 'backup', 'bad', 'batteri', 'item']...)\n"
     ]
    }
   ],
   "source": [
    "texts_dictionary = corpora.Dictionary(stemmed_tokens)\n",
    "\n",
    "print(texts_dictionary)"
   ]
  },
  {
   "cell_type": "code",
   "execution_count": 16,
   "metadata": {},
   "outputs": [
    {
     "name": "stdout",
     "output_type": "stream",
     "text": [
      "IDs 1 through 10: [('aluminum', 0), ('backup', 1), ('bad', 2), ('batteri', 3), ('item', 4), ('miss', 5), ('order', 6), ('pcs', 7), ('qualiti', 8), ('spring', 9)]\n"
     ]
    }
   ],
   "source": [
    "# use the token2id method，assess the mapping between words and their's ids.\n",
    "import operator\n",
    "print(\"IDs 1 through 10: {}\".format(sorted(texts_dictionary.token2id.items(), key=operator.itemgetter(1), reverse = False)[:10]))"
   ]
  },
  {
   "cell_type": "code",
   "execution_count": 17,
   "metadata": {},
   "outputs": [
    {
     "data": {
      "image/png": "[encoded data removed]",
      "text/plain": [
       "<Figure size 432x288 with 1 Axes>"
      ]
     },
     "metadata": {
      "needs_background": "light"
     },
     "output_type": "display_data"
    }
   ],
   "source": [
    "#How many reviews have word 'complaint' in it\n",
    "complaints = df['reviews.text'].str.contains(\"complaint\").value_counts()\n",
    "ax = complaints.plot.bar(rot=0)"
   ]
  },
  {
   "cell_type": "markdown",
   "metadata": {},
   "source": [
    "## Step 5: Converting the dictionary to bag of words, get corpus\n"
   ]
  },
  {
   "cell_type": "code",
   "execution_count": 42,
   "metadata": {},
   "outputs": [
    {
     "data": {
      "text/plain": [
       "28332"
      ]
     },
     "execution_count": 42,
     "metadata": {},
     "output_type": "execute_result"
    }
   ],
   "source": [
    "corpus = [texts_dictionary.doc2bow(text) for text in data]\n",
    "len(corpus)"
   ]
  },
  {
   "cell_type": "code",
   "execution_count": 43,
   "metadata": {},
   "outputs": [
    {
     "data": {
      "text/plain": [
       "[[(0, 1), (1, 1), (2, 1), (4, 1), (6, 1), (7, 1), (9, 1), (10, 1)],\n",
       " [(11, 1), (13, 1), (15, 1)],\n",
       " [(18, 1)],\n",
       " [(10, 1), (18, 1), (19, 1), (20, 1)],\n",
       " [(18, 1), (21, 1), (23, 1)],\n",
       " [(20, 2),\n",
       "  (24, 1),\n",
       "  (27, 1),\n",
       "  (28, 1),\n",
       "  (29, 1),\n",
       "  (30, 1),\n",
       "  (33, 1),\n",
       "  (34, 1),\n",
       "  (35, 1),\n",
       "  (36, 1),\n",
       "  (38, 2)],\n",
       " [(41, 1), (42, 1)],\n",
       " [(45, 1), (47, 1), (48, 1)],\n",
       " [(13, 1), (18, 1), (51, 1), (52, 1), (53, 1), (55, 1)],\n",
       " [(29, 1), (34, 1), (56, 1), (57, 1), (58, 1), (59, 1), (60, 1), (61, 1)]]"
      ]
     },
     "execution_count": 43,
     "metadata": {},
     "output_type": "execute_result"
    }
   ],
   "source": [
    "corpus[:10]"
   ]
  },
  {
   "cell_type": "markdown",
   "metadata": {},
   "source": [
    "## Step 6: Fit LDA model"
   ]
  },
  {
   "cell_type": "code",
   "execution_count": 20,
   "metadata": {},
   "outputs": [],
   "source": [
    "lda = LdaMulticore(corpus=corpus,\n",
    "                   id2word=texts_dictionary,\n",
    "                   random_state=723812,\n",
    "                   num_topics = 15,\n",
    "                   passes=10,\n",
    "                   workers=8\n",
    "                  )"
   ]
  },
  {
   "cell_type": "code",
   "execution_count": 21,
   "metadata": {},
   "outputs": [
    {
     "data": {
      "text/plain": [
       "[(0,\n",
       "  '0.072*\"size\" + 0.069*\"tablet\" + 0.059*\"use\" + 0.057*\"great\" + 0.049*\"screen\" + 0.042*\"perfect\" + 0.039*\"nice\" + 0.026*\"love\" + 0.020*\"kid\" + 0.019*\"right\"'),\n",
       " (1,\n",
       "  '0.296*\"great\" + 0.221*\"price\" + 0.028*\"tablet\" + 0.027*\"beat\" + 0.027*\"buy\" + 0.024*\"deal\" + 0.021*\"product\" + 0.015*\"long\" + 0.014*\"gift\" + 0.013*\"best\"'),\n",
       " (2,\n",
       "  '0.051*\"screen\" + 0.047*\"better\" + 0.018*\"need\" + 0.016*\"like\" + 0.015*\"amazon\" + 0.015*\"new\" + 0.013*\"laptop\" + 0.012*\"bigger\" + 0.012*\"version\" + 0.011*\"model\"'),\n",
       " (3,\n",
       "  '0.090*\"tablet\" + 0.071*\"amazon\" + 0.027*\"bought\" + 0.024*\"great\" + 0.024*\"use\" + 0.022*\"prime\" + 0.020*\"play\" + 0.017*\"hd\" + 0.013*\"netflix\" + 0.013*\"ipad\"'),\n",
       " (4,\n",
       "  '0.061*\"amazon\" + 0.050*\"brand\" + 0.028*\"ve\" + 0.027*\"long\" + 0.021*\"aa\" + 0.019*\"aaa\" + 0.017*\"time\" + 0.017*\"cost\" + 0.016*\"use\" + 0.016*\"like\"'),\n",
       " (5,\n",
       "  '0.078*\"tablet\" + 0.049*\"read\" + 0.035*\"great\" + 0.030*\"reader\" + 0.027*\"use\" + 0.021*\"book\" + 0.020*\"love\" + 0.018*\"internet\" + 0.016*\"daughter\" + 0.015*\"ok\"'),\n",
       " (6,\n",
       "  '0.148*\"great\" + 0.124*\"product\" + 0.064*\"like\" + 0.051*\"recommend\" + 0.046*\"tablet\" + 0.037*\"children\" + 0.031*\"item\" + 0.026*\"use\" + 0.016*\"young\" + 0.013*\"time\"'),\n",
       " (7,\n",
       "  '0.061*\"buy\" + 0.060*\"best\" + 0.022*\"time\" + 0.022*\"use\" + 0.018*\"great\" + 0.017*\"amazon\" + 0.016*\"bought\" + 0.015*\"tablet\" + 0.014*\"came\" + 0.013*\"set\"'),\n",
       " (8,\n",
       "  '0.375*\"good\" + 0.082*\"price\" + 0.041*\"tablet\" + 0.038*\"far\" + 0.025*\"money\" + 0.024*\"buy\" + 0.019*\"long\" + 0.017*\"deal\" + 0.016*\"nice\" + 0.014*\"lot\"'),\n",
       " (9,\n",
       "  '0.044*\"time\" + 0.034*\"amazon\" + 0.031*\"alexa\" + 0.030*\"music\" + 0.030*\"sound\" + 0.027*\"free\" + 0.023*\"tap\" + 0.022*\"echo\" + 0.022*\"great\" + 0.022*\"speaker\"'),\n",
       " (10,\n",
       "  '0.055*\"use\" + 0.024*\"set\" + 0.024*\"tablet\" + 0.023*\"product\" + 0.021*\"like\" + 0.019*\"child\" + 0.019*\"bought\" + 0.013*\"case\" + 0.011*\"cover\" + 0.010*\"charger\"'),\n",
       " (11,\n",
       "  '0.165*\"work\" + 0.043*\"great\" + 0.029*\"fine\" + 0.026*\"cheap\" + 0.025*\"long\" + 0.020*\"cheaper\" + 0.018*\"use\" + 0.017*\"good\" + 0.017*\"buy\" + 0.017*\"like\"'),\n",
       " (12,\n",
       "  '0.060*\"fast\" + 0.053*\"ipad\" + 0.041*\"tablet\" + 0.034*\"like\" + 0.026*\"great\" + 0.023*\"use\" + 0.022*\"longer\" + 0.022*\"android\" + 0.022*\"slow\" + 0.018*\"wish\"'),\n",
       " (13,\n",
       "  '0.109*\"long\" + 0.036*\"great\" + 0.032*\"time\" + 0.023*\"read\" + 0.022*\"light\" + 0.017*\"got\" + 0.015*\"amazon\" + 0.015*\"life\" + 0.014*\"äôt\" + 0.013*\"big\"'),\n",
       " (14,\n",
       "  '0.101*\"love\" + 0.087*\"old\" + 0.081*\"bought\" + 0.075*\"tablet\" + 0.071*\"year\" + 0.039*\"son\" + 0.038*\"use\" + 0.030*\"gift\" + 0.027*\"daughter\" + 0.021*\"got\"')]"
      ]
     },
     "execution_count": 21,
     "metadata": {},
     "output_type": "execute_result"
    }
   ],
   "source": [
    "lda.print_topics()"
   ]
  },
  {
   "cell_type": "code",
   "execution_count": 22,
   "metadata": {},
   "outputs": [
    {
     "data": {
      "text/plain": [
       "[(8,\n",
       "  '0.375*\"good\" + 0.082*\"price\" + 0.041*\"tablet\" + 0.038*\"far\" + 0.025*\"money\"'),\n",
       " (0,\n",
       "  '0.072*\"size\" + 0.069*\"tablet\" + 0.059*\"use\" + 0.057*\"great\" + 0.049*\"screen\"'),\n",
       " (5,\n",
       "  '0.078*\"tablet\" + 0.049*\"read\" + 0.035*\"great\" + 0.030*\"reader\" + 0.027*\"use\"'),\n",
       " (3,\n",
       "  '0.090*\"tablet\" + 0.071*\"amazon\" + 0.027*\"bought\" + 0.024*\"great\" + 0.024*\"use\"'),\n",
       " (4,\n",
       "  '0.061*\"amazon\" + 0.050*\"brand\" + 0.028*\"ve\" + 0.027*\"long\" + 0.021*\"aa\"')]"
      ]
     },
     "execution_count": 22,
     "metadata": {},
     "output_type": "execute_result"
    }
   ],
   "source": [
    "lda.show_topics(num_topics=5,num_words=5)"
   ]
  },
  {
   "cell_type": "code",
   "execution_count": 23,
   "metadata": {},
   "outputs": [],
   "source": [
    "words = [re.findall(r'\"([^\"]*)\"',t[1]) for t in lda.print_topics()]"
   ]
  },
  {
   "cell_type": "code",
   "execution_count": 24,
   "metadata": {},
   "outputs": [],
   "source": [
    "topics = [' '.join(t[0:5]) for t in words]"
   ]
  },
  {
   "cell_type": "code",
   "execution_count": 35,
   "metadata": {},
   "outputs": [
    {
     "data": {
      "text/plain": [
       "['size tablet use great screen',\n",
       " 'great price tablet beat buy',\n",
       " 'screen better need like amazon',\n",
       " 'tablet amazon bought great use',\n",
       " 'amazon brand ve long aa',\n",
       " 'tablet read great reader use',\n",
       " 'great product like recommend tablet',\n",
       " 'buy best time use great',\n",
       " 'good price tablet far money',\n",
       " 'time amazon alexa music sound',\n",
       " 'use set tablet product like',\n",
       " 'work great fine cheap long',\n",
       " 'fast ipad tablet like great',\n",
       " 'long great time read light',\n",
       " 'love old bought tablet year']"
      ]
     },
     "execution_count": 35,
     "metadata": {},
     "output_type": "execute_result"
    }
   ],
   "source": [
    "topics"
   ]
  },
  {
   "cell_type": "code",
   "execution_count": 25,
   "metadata": {},
   "outputs": [
    {
     "name": "stdout",
     "output_type": "stream",
     "text": [
      "------ Topic 0 ------\n",
      "size tablet use great screen\n",
      "\n",
      "------ Topic 1 ------\n",
      "great price tablet beat buy\n",
      "\n",
      "------ Topic 2 ------\n",
      "screen better need like amazon\n",
      "\n",
      "------ Topic 3 ------\n",
      "tablet amazon bought great use\n",
      "\n",
      "------ Topic 4 ------\n",
      "amazon brand ve long aa\n",
      "\n",
      "------ Topic 5 ------\n",
      "tablet read great reader use\n",
      "\n",
      "------ Topic 6 ------\n",
      "great product like recommend tablet\n",
      "\n",
      "------ Topic 7 ------\n",
      "buy best time use great\n",
      "\n",
      "------ Topic 8 ------\n",
      "good price tablet far money\n",
      "\n",
      "------ Topic 9 ------\n",
      "time amazon alexa music sound\n",
      "\n",
      "------ Topic 10 ------\n",
      "use set tablet product like\n",
      "\n",
      "------ Topic 11 ------\n",
      "work great fine cheap long\n",
      "\n",
      "------ Topic 12 ------\n",
      "fast ipad tablet like great\n",
      "\n",
      "------ Topic 13 ------\n",
      "long great time read light\n",
      "\n",
      "------ Topic 14 ------\n",
      "love old bought tablet year\n",
      "\n"
     ]
    }
   ],
   "source": [
    "for id, t in enumerate(topics): \n",
    "    print(f\"------ Topic {id} ------\")\n",
    "    print(t, end=\"\\n\\n\")"
   ]
  },
  {
   "cell_type": "code",
   "execution_count": 29,
   "metadata": {},
   "outputs": [
    {
     "data": {
      "text/plain": [
       "[(11, 0.89618725)]"
      ]
     },
     "execution_count": 29,
     "metadata": {},
     "output_type": "execute_result"
    }
   ],
   "source": [
    "lda[corpus[0]]"
   ]
  },
  {
   "cell_type": "code",
   "execution_count": 30,
   "metadata": {},
   "outputs": [],
   "source": [
    "distro = [lda[d] for d in corpus]"
   ]
  },
  {
   "cell_type": "code",
   "execution_count": 31,
   "metadata": {},
   "outputs": [
    {
     "data": {
      "text/plain": [
       "[(11, 0.89618725)]"
      ]
     },
     "execution_count": 31,
     "metadata": {},
     "output_type": "execute_result"
    }
   ],
   "source": [
    "distro[0]"
   ]
  },
  {
   "cell_type": "code",
   "execution_count": 32,
   "metadata": {},
   "outputs": [],
   "source": [
    "distro = [lda[d] for d in corpus]\n",
    "\n",
    "def update(doc):\n",
    "        d_dist = {k:0 for k in range(0,15)}\n",
    "        for t in doc:\n",
    "            d_dist[t[0]] = t[1]\n",
    "        return d_dist\n",
    "    \n",
    "new_distro = [update(d) for d in distro]"
   ]
  },
  {
   "cell_type": "code",
   "execution_count": 33,
   "metadata": {},
   "outputs": [
    {
     "data": {
      "text/plain": [
       "28332"
      ]
     },
     "execution_count": 33,
     "metadata": {},
     "output_type": "execute_result"
    }
   ],
   "source": [
    "len(new_distro)"
   ]
  },
  {
   "cell_type": "code",
   "execution_count": 34,
   "metadata": {},
   "outputs": [
    {
     "data": {
      "text/html": [
       "<div>\n",
       "<style scoped>\n",
       "    .dataframe tbody tr th:only-of-type {\n",
       "        vertical-align: middle;\n",
       "    }\n",
       "\n",
       "    .dataframe tbody tr th {\n",
       "        vertical-align: top;\n",
       "    }\n",
       "\n",
       "    .dataframe thead th {\n",
       "        text-align: right;\n",
       "    }\n",
       "</style>\n",
       "<table border=\"1\" class=\"dataframe\">\n",
       "  <thead>\n",
       "    <tr style=\"text-align: right;\">\n",
       "      <th></th>\n",
       "      <th>id</th>\n",
       "      <th>dateAdded</th>\n",
       "      <th>dateUpdated</th>\n",
       "      <th>name</th>\n",
       "      <th>asins</th>\n",
       "      <th>brand</th>\n",
       "      <th>categories</th>\n",
       "      <th>primaryCategories</th>\n",
       "      <th>imageURLs</th>\n",
       "      <th>keys</th>\n",
       "      <th>...</th>\n",
       "      <th>reviews.doRecommend</th>\n",
       "      <th>reviews.id</th>\n",
       "      <th>reviews.numHelpful</th>\n",
       "      <th>reviews.rating</th>\n",
       "      <th>reviews.sourceURLs</th>\n",
       "      <th>reviews.text</th>\n",
       "      <th>reviews.title</th>\n",
       "      <th>reviews.username</th>\n",
       "      <th>sourceURLs</th>\n",
       "      <th>tokens</th>\n",
       "    </tr>\n",
       "  </thead>\n",
       "  <tbody>\n",
       "    <tr>\n",
       "      <th>0</th>\n",
       "      <td>AVpgNzjwLJeJML43Kpxn</td>\n",
       "      <td>2015-10-30T08:59:32Z</td>\n",
       "      <td>2019-04-25T09:08:16Z</td>\n",
       "      <td>AmazonBasics AAA Performance Alkaline Batterie...</td>\n",
       "      <td>B00QWO9P0O,B00LH3DMUO</td>\n",
       "      <td>Amazonbasics</td>\n",
       "      <td>AA,AAA,Health,Electronics,Health &amp; Household,C...</td>\n",
       "      <td>Health &amp; Beauty</td>\n",
       "      <td>https://images-na.ssl-images-amazon.com/images...</td>\n",
       "      <td>amazonbasics/hl002619,amazonbasicsaaaperforman...</td>\n",
       "      <td>...</td>\n",
       "      <td>NaN</td>\n",
       "      <td>NaN</td>\n",
       "      <td>NaN</td>\n",
       "      <td>3</td>\n",
       "      <td>https://www.amazon.com/product-reviews/B00QWO9...</td>\n",
       "      <td>I order 3 of them and one of the item is bad q...</td>\n",
       "      <td>... 3 of them and one of the item is bad quali...</td>\n",
       "      <td>Byger yang</td>\n",
       "      <td>https://www.barcodable.com/upc/841710106442,ht...</td>\n",
       "      <td>[order, item, bad, quality, missing, backup, s...</td>\n",
       "    </tr>\n",
       "    <tr>\n",
       "      <th>1</th>\n",
       "      <td>AVpgNzjwLJeJML43Kpxn</td>\n",
       "      <td>2015-10-30T08:59:32Z</td>\n",
       "      <td>2019-04-25T09:08:16Z</td>\n",
       "      <td>AmazonBasics AAA Performance Alkaline Batterie...</td>\n",
       "      <td>B00QWO9P0O,B00LH3DMUO</td>\n",
       "      <td>Amazonbasics</td>\n",
       "      <td>AA,AAA,Health,Electronics,Health &amp; Household,C...</td>\n",
       "      <td>Health &amp; Beauty</td>\n",
       "      <td>https://images-na.ssl-images-amazon.com/images...</td>\n",
       "      <td>amazonbasics/hl002619,amazonbasicsaaaperforman...</td>\n",
       "      <td>...</td>\n",
       "      <td>NaN</td>\n",
       "      <td>NaN</td>\n",
       "      <td>NaN</td>\n",
       "      <td>4</td>\n",
       "      <td>https://www.amazon.com/product-reviews/B00QWO9...</td>\n",
       "      <td>Bulk is always the less expensive way to go fo...</td>\n",
       "      <td>... always the less expensive way to go for pr...</td>\n",
       "      <td>ByMG</td>\n",
       "      <td>https://www.barcodable.com/upc/841710106442,ht...</td>\n",
       "      <td>[bulk, expensive, way, products, like]</td>\n",
       "    </tr>\n",
       "    <tr>\n",
       "      <th>2</th>\n",
       "      <td>AVpgNzjwLJeJML43Kpxn</td>\n",
       "      <td>2015-10-30T08:59:32Z</td>\n",
       "      <td>2019-04-25T09:08:16Z</td>\n",
       "      <td>AmazonBasics AAA Performance Alkaline Batterie...</td>\n",
       "      <td>B00QWO9P0O,B00LH3DMUO</td>\n",
       "      <td>Amazonbasics</td>\n",
       "      <td>AA,AAA,Health,Electronics,Health &amp; Household,C...</td>\n",
       "      <td>Health &amp; Beauty</td>\n",
       "      <td>https://images-na.ssl-images-amazon.com/images...</td>\n",
       "      <td>amazonbasics/hl002619,amazonbasicsaaaperforman...</td>\n",
       "      <td>...</td>\n",
       "      <td>NaN</td>\n",
       "      <td>NaN</td>\n",
       "      <td>NaN</td>\n",
       "      <td>5</td>\n",
       "      <td>https://www.amazon.com/product-reviews/B00QWO9...</td>\n",
       "      <td>Well they are not Duracell but for the price i...</td>\n",
       "      <td>... are not Duracell but for the price i am ha...</td>\n",
       "      <td>BySharon Lambert</td>\n",
       "      <td>https://www.barcodable.com/upc/841710106442,ht...</td>\n",
       "      <td>[duracell, price, happy]</td>\n",
       "    </tr>\n",
       "    <tr>\n",
       "      <th>3</th>\n",
       "      <td>AVpgNzjwLJeJML43Kpxn</td>\n",
       "      <td>2015-10-30T08:59:32Z</td>\n",
       "      <td>2019-04-25T09:08:16Z</td>\n",
       "      <td>AmazonBasics AAA Performance Alkaline Batterie...</td>\n",
       "      <td>B00QWO9P0O,B00LH3DMUO</td>\n",
       "      <td>Amazonbasics</td>\n",
       "      <td>AA,AAA,Health,Electronics,Health &amp; Household,C...</td>\n",
       "      <td>Health &amp; Beauty</td>\n",
       "      <td>https://images-na.ssl-images-amazon.com/images...</td>\n",
       "      <td>amazonbasics/hl002619,amazonbasicsaaaperforman...</td>\n",
       "      <td>...</td>\n",
       "      <td>NaN</td>\n",
       "      <td>NaN</td>\n",
       "      <td>NaN</td>\n",
       "      <td>5</td>\n",
       "      <td>https://www.amazon.com/product-reviews/B00QWO9...</td>\n",
       "      <td>Seem to work as well as name brand batteries a...</td>\n",
       "      <td>... as well as name brand batteries at a much ...</td>\n",
       "      <td>Bymark sexson</td>\n",
       "      <td>https://www.barcodable.com/upc/841710106442,ht...</td>\n",
       "      <td>[work, brand, batteries, better, price]</td>\n",
       "    </tr>\n",
       "    <tr>\n",
       "      <th>4</th>\n",
       "      <td>AVpgNzjwLJeJML43Kpxn</td>\n",
       "      <td>2015-10-30T08:59:32Z</td>\n",
       "      <td>2019-04-25T09:08:16Z</td>\n",
       "      <td>AmazonBasics AAA Performance Alkaline Batterie...</td>\n",
       "      <td>B00QWO9P0O,B00LH3DMUO</td>\n",
       "      <td>Amazonbasics</td>\n",
       "      <td>AA,AAA,Health,Electronics,Health &amp; Household,C...</td>\n",
       "      <td>Health &amp; Beauty</td>\n",
       "      <td>https://images-na.ssl-images-amazon.com/images...</td>\n",
       "      <td>amazonbasics/hl002619,amazonbasicsaaaperforman...</td>\n",
       "      <td>...</td>\n",
       "      <td>NaN</td>\n",
       "      <td>NaN</td>\n",
       "      <td>NaN</td>\n",
       "      <td>5</td>\n",
       "      <td>https://www.amazon.com/product-reviews/B00QWO9...</td>\n",
       "      <td>These batteries are very long lasting the pric...</td>\n",
       "      <td>... batteries are very long lasting the price ...</td>\n",
       "      <td>Bylinda</td>\n",
       "      <td>https://www.barcodable.com/upc/841710106442,ht...</td>\n",
       "      <td>[batteries, long, lasting, price, great]</td>\n",
       "    </tr>\n",
       "  </tbody>\n",
       "</table>\n",
       "<p>5 rows × 25 columns</p>\n",
       "</div>"
      ],
      "text/plain": [
       "                     id             dateAdded           dateUpdated  \\\n",
       "0  AVpgNzjwLJeJML43Kpxn  2015-10-30T08:59:32Z  2019-04-25T09:08:16Z   \n",
       "1  AVpgNzjwLJeJML43Kpxn  2015-10-30T08:59:32Z  2019-04-25T09:08:16Z   \n",
       "2  AVpgNzjwLJeJML43Kpxn  2015-10-30T08:59:32Z  2019-04-25T09:08:16Z   \n",
       "3  AVpgNzjwLJeJML43Kpxn  2015-10-30T08:59:32Z  2019-04-25T09:08:16Z   \n",
       "4  AVpgNzjwLJeJML43Kpxn  2015-10-30T08:59:32Z  2019-04-25T09:08:16Z   \n",
       "\n",
       "                                                name                  asins  \\\n",
       "0  AmazonBasics AAA Performance Alkaline Batterie...  B00QWO9P0O,B00LH3DMUO   \n",
       "1  AmazonBasics AAA Performance Alkaline Batterie...  B00QWO9P0O,B00LH3DMUO   \n",
       "2  AmazonBasics AAA Performance Alkaline Batterie...  B00QWO9P0O,B00LH3DMUO   \n",
       "3  AmazonBasics AAA Performance Alkaline Batterie...  B00QWO9P0O,B00LH3DMUO   \n",
       "4  AmazonBasics AAA Performance Alkaline Batterie...  B00QWO9P0O,B00LH3DMUO   \n",
       "\n",
       "          brand                                         categories  \\\n",
       "0  Amazonbasics  AA,AAA,Health,Electronics,Health & Household,C...   \n",
       "1  Amazonbasics  AA,AAA,Health,Electronics,Health & Household,C...   \n",
       "2  Amazonbasics  AA,AAA,Health,Electronics,Health & Household,C...   \n",
       "3  Amazonbasics  AA,AAA,Health,Electronics,Health & Household,C...   \n",
       "4  Amazonbasics  AA,AAA,Health,Electronics,Health & Household,C...   \n",
       "\n",
       "  primaryCategories                                          imageURLs  \\\n",
       "0   Health & Beauty  https://images-na.ssl-images-amazon.com/images...   \n",
       "1   Health & Beauty  https://images-na.ssl-images-amazon.com/images...   \n",
       "2   Health & Beauty  https://images-na.ssl-images-amazon.com/images...   \n",
       "3   Health & Beauty  https://images-na.ssl-images-amazon.com/images...   \n",
       "4   Health & Beauty  https://images-na.ssl-images-amazon.com/images...   \n",
       "\n",
       "                                                keys  ... reviews.doRecommend  \\\n",
       "0  amazonbasics/hl002619,amazonbasicsaaaperforman...  ...                 NaN   \n",
       "1  amazonbasics/hl002619,amazonbasicsaaaperforman...  ...                 NaN   \n",
       "2  amazonbasics/hl002619,amazonbasicsaaaperforman...  ...                 NaN   \n",
       "3  amazonbasics/hl002619,amazonbasicsaaaperforman...  ...                 NaN   \n",
       "4  amazonbasics/hl002619,amazonbasicsaaaperforman...  ...                 NaN   \n",
       "\n",
       "  reviews.id reviews.numHelpful reviews.rating  \\\n",
       "0        NaN                NaN              3   \n",
       "1        NaN                NaN              4   \n",
       "2        NaN                NaN              5   \n",
       "3        NaN                NaN              5   \n",
       "4        NaN                NaN              5   \n",
       "\n",
       "                                  reviews.sourceURLs  \\\n",
       "0  https://www.amazon.com/product-reviews/B00QWO9...   \n",
       "1  https://www.amazon.com/product-reviews/B00QWO9...   \n",
       "2  https://www.amazon.com/product-reviews/B00QWO9...   \n",
       "3  https://www.amazon.com/product-reviews/B00QWO9...   \n",
       "4  https://www.amazon.com/product-reviews/B00QWO9...   \n",
       "\n",
       "                                        reviews.text  \\\n",
       "0  I order 3 of them and one of the item is bad q...   \n",
       "1  Bulk is always the less expensive way to go fo...   \n",
       "2  Well they are not Duracell but for the price i...   \n",
       "3  Seem to work as well as name brand batteries a...   \n",
       "4  These batteries are very long lasting the pric...   \n",
       "\n",
       "                                       reviews.title  reviews.username  \\\n",
       "0  ... 3 of them and one of the item is bad quali...        Byger yang   \n",
       "1  ... always the less expensive way to go for pr...              ByMG   \n",
       "2  ... are not Duracell but for the price i am ha...  BySharon Lambert   \n",
       "3  ... as well as name brand batteries at a much ...     Bymark sexson   \n",
       "4  ... batteries are very long lasting the price ...           Bylinda   \n",
       "\n",
       "                                          sourceURLs  \\\n",
       "0  https://www.barcodable.com/upc/841710106442,ht...   \n",
       "1  https://www.barcodable.com/upc/841710106442,ht...   \n",
       "2  https://www.barcodable.com/upc/841710106442,ht...   \n",
       "3  https://www.barcodable.com/upc/841710106442,ht...   \n",
       "4  https://www.barcodable.com/upc/841710106442,ht...   \n",
       "\n",
       "                                              tokens  \n",
       "0  [order, item, bad, quality, missing, backup, s...  \n",
       "1             [bulk, expensive, way, products, like]  \n",
       "2                           [duracell, price, happy]  \n",
       "3            [work, brand, batteries, better, price]  \n",
       "4           [batteries, long, lasting, price, great]  \n",
       "\n",
       "[5 rows x 25 columns]"
      ]
     },
     "execution_count": 34,
     "metadata": {},
     "output_type": "execute_result"
    }
   ],
   "source": [
    "df.head()"
   ]
  },
  {
   "cell_type": "code",
   "execution_count": 37,
   "metadata": {},
   "outputs": [],
   "source": [
    "df = pd.DataFrame.from_records(new_distro)\n",
    "df.columns = topics\n"
   ]
  },
  {
   "cell_type": "code",
   "execution_count": 38,
   "metadata": {},
   "outputs": [
    {
     "data": {
      "text/html": [
       "<div>\n",
       "<style scoped>\n",
       "    .dataframe tbody tr th:only-of-type {\n",
       "        vertical-align: middle;\n",
       "    }\n",
       "\n",
       "    .dataframe tbody tr th {\n",
       "        vertical-align: top;\n",
       "    }\n",
       "\n",
       "    .dataframe thead th {\n",
       "        text-align: right;\n",
       "    }\n",
       "</style>\n",
       "<table border=\"1\" class=\"dataframe\">\n",
       "  <thead>\n",
       "    <tr style=\"text-align: right;\">\n",
       "      <th></th>\n",
       "      <th>size tablet use great screen</th>\n",
       "      <th>great price tablet beat buy</th>\n",
       "      <th>screen better need like amazon</th>\n",
       "      <th>tablet amazon bought great use</th>\n",
       "      <th>amazon brand ve long aa</th>\n",
       "      <th>tablet read great reader use</th>\n",
       "      <th>great product like recommend tablet</th>\n",
       "      <th>buy best time use great</th>\n",
       "      <th>good price tablet far money</th>\n",
       "      <th>time amazon alexa music sound</th>\n",
       "      <th>use set tablet product like</th>\n",
       "      <th>work great fine cheap long</th>\n",
       "      <th>fast ipad tablet like great</th>\n",
       "      <th>long great time read light</th>\n",
       "      <th>love old bought tablet year</th>\n",
       "    </tr>\n",
       "  </thead>\n",
       "  <tbody>\n",
       "    <tr>\n",
       "      <th>0</th>\n",
       "      <td>0.000000</td>\n",
       "      <td>0.000000</td>\n",
       "      <td>0.000000</td>\n",
       "      <td>0.000000</td>\n",
       "      <td>0.000000</td>\n",
       "      <td>0.000000</td>\n",
       "      <td>0.000000</td>\n",
       "      <td>0.000000</td>\n",
       "      <td>0.000000</td>\n",
       "      <td>0.000000</td>\n",
       "      <td>0.000000</td>\n",
       "      <td>0.896187</td>\n",
       "      <td>0.000000</td>\n",
       "      <td>0.000000</td>\n",
       "      <td>0.000000</td>\n",
       "    </tr>\n",
       "    <tr>\n",
       "      <th>1</th>\n",
       "      <td>0.016667</td>\n",
       "      <td>0.016667</td>\n",
       "      <td>0.016667</td>\n",
       "      <td>0.016667</td>\n",
       "      <td>0.016667</td>\n",
       "      <td>0.016667</td>\n",
       "      <td>0.016667</td>\n",
       "      <td>0.016667</td>\n",
       "      <td>0.016667</td>\n",
       "      <td>0.016667</td>\n",
       "      <td>0.016667</td>\n",
       "      <td>0.766664</td>\n",
       "      <td>0.016667</td>\n",
       "      <td>0.016667</td>\n",
       "      <td>0.016667</td>\n",
       "    </tr>\n",
       "    <tr>\n",
       "      <th>2</th>\n",
       "      <td>0.033333</td>\n",
       "      <td>0.533333</td>\n",
       "      <td>0.033333</td>\n",
       "      <td>0.033333</td>\n",
       "      <td>0.033333</td>\n",
       "      <td>0.033333</td>\n",
       "      <td>0.033333</td>\n",
       "      <td>0.033333</td>\n",
       "      <td>0.033333</td>\n",
       "      <td>0.033333</td>\n",
       "      <td>0.033333</td>\n",
       "      <td>0.033333</td>\n",
       "      <td>0.033333</td>\n",
       "      <td>0.033333</td>\n",
       "      <td>0.033333</td>\n",
       "    </tr>\n",
       "    <tr>\n",
       "      <th>3</th>\n",
       "      <td>0.013333</td>\n",
       "      <td>0.013334</td>\n",
       "      <td>0.013333</td>\n",
       "      <td>0.013333</td>\n",
       "      <td>0.013333</td>\n",
       "      <td>0.013333</td>\n",
       "      <td>0.013333</td>\n",
       "      <td>0.013333</td>\n",
       "      <td>0.013333</td>\n",
       "      <td>0.013333</td>\n",
       "      <td>0.013333</td>\n",
       "      <td>0.813332</td>\n",
       "      <td>0.013333</td>\n",
       "      <td>0.013333</td>\n",
       "      <td>0.013333</td>\n",
       "    </tr>\n",
       "    <tr>\n",
       "      <th>4</th>\n",
       "      <td>0.016667</td>\n",
       "      <td>0.766666</td>\n",
       "      <td>0.016667</td>\n",
       "      <td>0.016667</td>\n",
       "      <td>0.016667</td>\n",
       "      <td>0.016667</td>\n",
       "      <td>0.016667</td>\n",
       "      <td>0.016667</td>\n",
       "      <td>0.016667</td>\n",
       "      <td>0.016667</td>\n",
       "      <td>0.016667</td>\n",
       "      <td>0.016667</td>\n",
       "      <td>0.016667</td>\n",
       "      <td>0.016667</td>\n",
       "      <td>0.016667</td>\n",
       "    </tr>\n",
       "  </tbody>\n",
       "</table>\n",
       "</div>"
      ],
      "text/plain": [
       "   size tablet use great screen  great price tablet beat buy  \\\n",
       "0                      0.000000                     0.000000   \n",
       "1                      0.016667                     0.016667   \n",
       "2                      0.033333                     0.533333   \n",
       "3                      0.013333                     0.013334   \n",
       "4                      0.016667                     0.766666   \n",
       "\n",
       "   screen better need like amazon  tablet amazon bought great use  \\\n",
       "0                        0.000000                        0.000000   \n",
       "1                        0.016667                        0.016667   \n",
       "2                        0.033333                        0.033333   \n",
       "3                        0.013333                        0.013333   \n",
       "4                        0.016667                        0.016667   \n",
       "\n",
       "   amazon brand ve long aa  tablet read great reader use  \\\n",
       "0                 0.000000                      0.000000   \n",
       "1                 0.016667                      0.016667   \n",
       "2                 0.033333                      0.033333   \n",
       "3                 0.013333                      0.013333   \n",
       "4                 0.016667                      0.016667   \n",
       "\n",
       "   great product like recommend tablet  buy best time use great  \\\n",
       "0                             0.000000                 0.000000   \n",
       "1                             0.016667                 0.016667   \n",
       "2                             0.033333                 0.033333   \n",
       "3                             0.013333                 0.013333   \n",
       "4                             0.016667                 0.016667   \n",
       "\n",
       "   good price tablet far money  time amazon alexa music sound  \\\n",
       "0                     0.000000                       0.000000   \n",
       "1                     0.016667                       0.016667   \n",
       "2                     0.033333                       0.033333   \n",
       "3                     0.013333                       0.013333   \n",
       "4                     0.016667                       0.016667   \n",
       "\n",
       "   use set tablet product like  work great fine cheap long  \\\n",
       "0                     0.000000                    0.896187   \n",
       "1                     0.016667                    0.766664   \n",
       "2                     0.033333                    0.033333   \n",
       "3                     0.013333                    0.813332   \n",
       "4                     0.016667                    0.016667   \n",
       "\n",
       "   fast ipad tablet like great  long great time read light  \\\n",
       "0                     0.000000                    0.000000   \n",
       "1                     0.016667                    0.016667   \n",
       "2                     0.033333                    0.033333   \n",
       "3                     0.013333                    0.013333   \n",
       "4                     0.016667                    0.016667   \n",
       "\n",
       "   love old bought tablet year  \n",
       "0                     0.000000  \n",
       "1                     0.016667  \n",
       "2                     0.033333  \n",
       "3                     0.013333  \n",
       "4                     0.016667  "
      ]
     },
     "execution_count": 38,
     "metadata": {},
     "output_type": "execute_result"
    }
   ],
   "source": [
    "df.head()"
   ]
  },
  {
   "cell_type": "code",
   "execution_count": null,
   "metadata": {},
   "outputs": [],
   "source": []
  },
  {
   "cell_type": "code",
   "execution_count": 39,
   "metadata": {},
   "outputs": [],
   "source": [
    "from gensim.models.coherencemodel import CoherenceModel\n",
    "\n",
    "def compute_coherence_values(dictionary, corpus, limit, start=2, step=3, passes=5):\n",
    "    \"\"\"\n",
    "    Compute c_v coherence for various number of topics\n",
    "\n",
    "    Parameters:\n",
    "    ----------\n",
    "    dictionary : Gensim dictionary\n",
    "    corpus : Gensim corpus\n",
    "    limit : Max num of topics\n",
    "    passes: the number of times the entire lda model & coherence values are calculated\n",
    "\n",
    "    Returns:\n",
    "    -------\n",
    "    coherence_values : Coherence values corresponding to the LDA model with respective number of topics\n",
    "    \"\"\"\n",
    "    \n",
    "    coherence_values = []\n",
    "    \n",
    "    for iter_ in range(passes):\n",
    "        for num_topics in range(start, limit, step):\n",
    "            model = LdaMulticore(corpus=corpus, num_topics=num_topics, id2word=dictionary, workers=4)\n",
    "            coherencemodel = CoherenceModel(model=model,dictionary=dictionary,corpus=corpus, coherence='u_mass')\n",
    "            coherence_values.append({'pass': iter_, \n",
    "                                     'num_topics': num_topics, \n",
    "                                     'coherence_score': coherencemodel.get_coherence()\n",
    "                                    })\n",
    "\n",
    "    return coherence_values"
   ]
  },
  {
   "cell_type": "code",
   "execution_count": 45,
   "metadata": {},
   "outputs": [],
   "source": [
    "# Can take a long time to run.\n",
    "coherence_values = compute_coherence_values(dictionary=texts_dictionary, \n",
    "                                                        corpus=corpus,\n",
    "                                                        start=2, \n",
    "                                                        limit=40, \n",
    "                                                        step=6,\n",
    "                                                        passes=10)"
   ]
  },
  {
   "cell_type": "code",
   "execution_count": 46,
   "metadata": {},
   "outputs": [],
   "source": [
    "topic_coherence = pd.DataFrame.from_records(coherence_values)"
   ]
  },
  {
   "cell_type": "code",
   "execution_count": 70,
   "metadata": {},
   "outputs": [
    {
     "data": {
      "text/html": [
       "<div>\n",
       "<style scoped>\n",
       "    .dataframe tbody tr th:only-of-type {\n",
       "        vertical-align: middle;\n",
       "    }\n",
       "\n",
       "    .dataframe tbody tr th {\n",
       "        vertical-align: top;\n",
       "    }\n",
       "\n",
       "    .dataframe thead th {\n",
       "        text-align: right;\n",
       "    }\n",
       "</style>\n",
       "<table border=\"1\" class=\"dataframe\">\n",
       "  <thead>\n",
       "    <tr style=\"text-align: right;\">\n",
       "      <th></th>\n",
       "      <th>coherence_score</th>\n",
       "      <th>num_topics</th>\n",
       "      <th>pass</th>\n",
       "    </tr>\n",
       "  </thead>\n",
       "  <tbody>\n",
       "    <tr>\n",
       "      <th>0</th>\n",
       "      <td>-2.634333</td>\n",
       "      <td>2</td>\n",
       "      <td>0</td>\n",
       "    </tr>\n",
       "    <tr>\n",
       "      <th>21</th>\n",
       "      <td>-2.623912</td>\n",
       "      <td>2</td>\n",
       "      <td>3</td>\n",
       "    </tr>\n",
       "    <tr>\n",
       "      <th>28</th>\n",
       "      <td>-2.620699</td>\n",
       "      <td>2</td>\n",
       "      <td>4</td>\n",
       "    </tr>\n",
       "    <tr>\n",
       "      <th>56</th>\n",
       "      <td>-2.651378</td>\n",
       "      <td>2</td>\n",
       "      <td>8</td>\n",
       "    </tr>\n",
       "    <tr>\n",
       "      <th>35</th>\n",
       "      <td>-2.657047</td>\n",
       "      <td>2</td>\n",
       "      <td>5</td>\n",
       "    </tr>\n",
       "    <tr>\n",
       "      <th>7</th>\n",
       "      <td>-2.632309</td>\n",
       "      <td>2</td>\n",
       "      <td>1</td>\n",
       "    </tr>\n",
       "    <tr>\n",
       "      <th>49</th>\n",
       "      <td>-2.716396</td>\n",
       "      <td>2</td>\n",
       "      <td>7</td>\n",
       "    </tr>\n",
       "    <tr>\n",
       "      <th>14</th>\n",
       "      <td>-2.653948</td>\n",
       "      <td>2</td>\n",
       "      <td>2</td>\n",
       "    </tr>\n",
       "    <tr>\n",
       "      <th>63</th>\n",
       "      <td>-2.645378</td>\n",
       "      <td>2</td>\n",
       "      <td>9</td>\n",
       "    </tr>\n",
       "    <tr>\n",
       "      <th>42</th>\n",
       "      <td>-2.604965</td>\n",
       "      <td>2</td>\n",
       "      <td>6</td>\n",
       "    </tr>\n",
       "    <tr>\n",
       "      <th>29</th>\n",
       "      <td>-2.649517</td>\n",
       "      <td>8</td>\n",
       "      <td>4</td>\n",
       "    </tr>\n",
       "    <tr>\n",
       "      <th>36</th>\n",
       "      <td>-2.708351</td>\n",
       "      <td>8</td>\n",
       "      <td>5</td>\n",
       "    </tr>\n",
       "    <tr>\n",
       "      <th>15</th>\n",
       "      <td>-2.778714</td>\n",
       "      <td>8</td>\n",
       "      <td>2</td>\n",
       "    </tr>\n",
       "    <tr>\n",
       "      <th>43</th>\n",
       "      <td>-2.778578</td>\n",
       "      <td>8</td>\n",
       "      <td>6</td>\n",
       "    </tr>\n",
       "    <tr>\n",
       "      <th>8</th>\n",
       "      <td>-2.838041</td>\n",
       "      <td>8</td>\n",
       "      <td>1</td>\n",
       "    </tr>\n",
       "    <tr>\n",
       "      <th>50</th>\n",
       "      <td>-2.854134</td>\n",
       "      <td>8</td>\n",
       "      <td>7</td>\n",
       "    </tr>\n",
       "    <tr>\n",
       "      <th>57</th>\n",
       "      <td>-2.741036</td>\n",
       "      <td>8</td>\n",
       "      <td>8</td>\n",
       "    </tr>\n",
       "    <tr>\n",
       "      <th>1</th>\n",
       "      <td>-2.844364</td>\n",
       "      <td>8</td>\n",
       "      <td>0</td>\n",
       "    </tr>\n",
       "    <tr>\n",
       "      <th>22</th>\n",
       "      <td>-2.811235</td>\n",
       "      <td>8</td>\n",
       "      <td>3</td>\n",
       "    </tr>\n",
       "    <tr>\n",
       "      <th>64</th>\n",
       "      <td>-2.988171</td>\n",
       "      <td>8</td>\n",
       "      <td>9</td>\n",
       "    </tr>\n",
       "  </tbody>\n",
       "</table>\n",
       "</div>"
      ],
      "text/plain": [
       "    coherence_score  num_topics  pass\n",
       "0         -2.634333           2     0\n",
       "21        -2.623912           2     3\n",
       "28        -2.620699           2     4\n",
       "56        -2.651378           2     8\n",
       "35        -2.657047           2     5\n",
       "7         -2.632309           2     1\n",
       "49        -2.716396           2     7\n",
       "14        -2.653948           2     2\n",
       "63        -2.645378           2     9\n",
       "42        -2.604965           2     6\n",
       "29        -2.649517           8     4\n",
       "36        -2.708351           8     5\n",
       "15        -2.778714           8     2\n",
       "43        -2.778578           8     6\n",
       "8         -2.838041           8     1\n",
       "50        -2.854134           8     7\n",
       "57        -2.741036           8     8\n",
       "1         -2.844364           8     0\n",
       "22        -2.811235           8     3\n",
       "64        -2.988171           8     9"
      ]
     },
     "execution_count": 70,
     "metadata": {},
     "output_type": "execute_result"
    }
   ],
   "source": [
    "topic_coherence.sort_values(\"num_topics\").head(20)"
   ]
  },
  {
   "cell_type": "code",
   "execution_count": 48,
   "metadata": {},
   "outputs": [
    {
     "name": "stderr",
     "output_type": "stream",
     "text": [
      "/Users/julie/anaconda3/envs/U4-S1-NLP/lib/python3.7/site-packages/scipy/stats/stats.py:1713: FutureWarning: Using a non-tuple sequence for multidimensional indexing is deprecated; use `arr[tuple(seq)]` instead of `arr[seq]`. In the future this will be interpreted as an array index, `arr[np.array(seq)]`, which will result either in an error or a different result.\n",
      "  return np.add.reduce(sorted[indexer] * weights, axis=axis) / sumval\n"
     ]
    },
    {
     "data": {
      "image/png": "[encoded data removed]",
      "text/plain": [
       "<Figure size 432x288 with 1 Axes>"
      ]
     },
     "metadata": {
      "needs_background": "light"
     },
     "output_type": "display_data"
    }
   ],
   "source": [
    "import seaborn as sns\n",
    "\n",
    "ax = sns.lineplot(x=\"num_topics\", y=\"coherence_score\", data=topic_coherence)"
   ]
  },
  {
   "cell_type": "code",
   "execution_count": 69,
   "metadata": {},
   "outputs": [
    {
     "ename": "TypeError",
     "evalue": "type dict doesn't define __round__ method",
     "output_type": "error",
     "traceback": [
      "\u001b[0;31m---------------------------------------------------------------------------\u001b[0m",
      "\u001b[0;31mTypeError\u001b[0m                                 Traceback (most recent call last)",
      "\u001b[0;32m<ipython-input-69-ad118278e54a>\u001b[0m in \u001b[0;36m<module>\u001b[0;34m\u001b[0m\n\u001b[1;32m      4\u001b[0m \u001b[0;31m# Print the coherence scores\u001b[0m\u001b[0;34m\u001b[0m\u001b[0;34m\u001b[0m\u001b[0m\n\u001b[1;32m      5\u001b[0m \u001b[0;32mfor\u001b[0m \u001b[0mm\u001b[0m\u001b[0;34m,\u001b[0m \u001b[0mcv\u001b[0m \u001b[0;32min\u001b[0m \u001b[0mzip\u001b[0m\u001b[0;34m(\u001b[0m\u001b[0mx\u001b[0m\u001b[0;34m,\u001b[0m \u001b[0mcoherence_values\u001b[0m\u001b[0;34m)\u001b[0m\u001b[0;34m:\u001b[0m\u001b[0;34m\u001b[0m\u001b[0m\n\u001b[0;32m----> 6\u001b[0;31m     \u001b[0mprint\u001b[0m\u001b[0;34m(\u001b[0m\u001b[0;34m\"Num Topics =\"\u001b[0m\u001b[0;34m,\u001b[0m \u001b[0mm\u001b[0m\u001b[0;34m,\u001b[0m \u001b[0;34m\" has Coherence Value of\"\u001b[0m\u001b[0;34m,\u001b[0m \u001b[0mround\u001b[0m\u001b[0;34m(\u001b[0m\u001b[0mcv\u001b[0m\u001b[0;34m,\u001b[0m \u001b[0;36m4\u001b[0m\u001b[0;34m)\u001b[0m\u001b[0;34m)\u001b[0m\u001b[0;34m\u001b[0m\u001b[0m\n\u001b[0m",
      "\u001b[0;31mTypeError\u001b[0m: type dict doesn't define __round__ method"
     ]
    }
   ],
   "source": [
    "limit=40; start=2; step=6;\n",
    "x = range(start, limit, step)\n",
    "\n",
    "# Print the coherence scores\n",
    "for m, cv in zip(x, coherence_values):\n",
    "    print(\"Num Topics =\", m, \" has Coherence Value of\", round(cv, 4))"
   ]
  },
  {
   "cell_type": "code",
   "execution_count": 51,
   "metadata": {},
   "outputs": [
    {
     "data": {
      "text/plain": [
       "[(0, 0.016717833),\n",
       " (1, 0.016717833),\n",
       " (2, 0.016717868),\n",
       " (3, 0.016717888),\n",
       " (4, 0.016717833),\n",
       " (5, 0.016717833),\n",
       " (6, 0.016717833),\n",
       " (7, 0.49997768),\n",
       " (8, 0.016717833),\n",
       " (9, 0.016717833),\n",
       " (10, 0.01671792),\n",
       " (11, 0.28269032),\n",
       " (12, 0.016717833),\n",
       " (13, 0.016717833),\n",
       " (14, 0.016717833)]"
      ]
     },
     "execution_count": 51,
     "metadata": {},
     "output_type": "execute_result"
    }
   ],
   "source": [
    "lda[texts_dictionary.doc2bow(tokenize(\"This is a sample document to score with a topic distribution.\"))]"
   ]
  },
  {
   "cell_type": "code",
   "execution_count": 52,
   "metadata": {},
   "outputs": [],
   "source": [
    "import pyLDAvis.gensim # To visualise LDA model effectively"
   ]
  },
  {
   "cell_type": "code",
   "execution_count": 53,
   "metadata": {},
   "outputs": [
    {
     "name": "stderr",
     "output_type": "stream",
     "text": [
      "/Users/julie/anaconda3/envs/U4-S1-NLP/lib/python3.7/site-packages/pyLDAvis/_prepare.py:257: FutureWarning: Sorting because non-concatenation axis is not aligned. A future version\n",
      "of pandas will change to not sort by default.\n",
      "\n",
      "To accept the future behavior, pass 'sort=False'.\n",
      "\n",
      "To retain the current behavior and silence the warning, pass 'sort=True'.\n",
      "\n",
      "  return pd.concat([default_term_info] + list(topic_dfs))\n"
     ]
    },
    {
     "data": {
      "text/html": [
       "\n",
       "<link rel=\"stylesheet\" type=\"text/css\" href=\"https://cdn.rawgit.com/bmabey/pyLDAvis/files/ldavis.v1.0.0.css\">\n",
       "\n",
       "\n",
       "<div id=\"ldavis_el6164150907164324270239031\"></div>\n",
       "<script type=\"text/javascript\">\n",
       "\n",
       "var ldavis_el6164150907164324270239031_data = {\"mdsDat\": {\"x\": [0.14241000108849075, -0.09828330440535757, -0.01870801126567635, 0.046217348551873934, -0.17646313241494474, 0.12991361826775683, 0.05198268708490788, 0.022714076287223512, -0.2159157161250762, 0.035494410342295134, 0.08619376043555721, -0.18172958568576647, -0.003190187799495423, -0.05064451174853275, 0.23000854738674475], \"y\": [0.046421940607242716, 0.24563765374451946, -0.11255748147255716, -0.008384150965431658, -0.12984868232369676, -0.006034473347901206, 0.1329228445658677, -0.04680606566732312, 0.11001050579756295, -0.09794769832439963, -0.0535879032348996, -0.025558322976622472, -0.02904877301420989, -0.07392992858198133, 0.04871053519382993], \"topics\": [1, 2, 3, 4, 5, 6, 7, 8, 9, 10, 11, 12, 13, 14, 15], \"cluster\": [1, 1, 1, 1, 1, 1, 1, 1, 1, 1, 1, 1, 1, 1, 1], \"Freq\": [6.2435126304626465, 7.274867057800293, 6.477290153503418, 9.383578300476074, 9.404929161071777, 6.239441871643066, 5.116006374359131, 6.466176986694336, 6.410911560058594, 5.749715805053711, 5.265285968780518, 6.411418437957764, 4.440855503082275, 4.424382209777832, 10.69162368774414]}, \"tinfo\": {\"Category\": [\"Default\", \"Default\", \"Default\", \"Default\", \"Default\", \"Default\", \"Default\", \"Default\", \"Default\", \"Default\", \"Default\", \"Default\", \"Default\", \"Default\", \"Default\", \"Default\", \"Default\", \"Default\", \"Default\", \"Default\", \"Default\", \"Default\", \"Default\", \"Default\", \"Default\", \"Default\", \"Default\", \"Default\", \"Default\", \"Default\", \"Topic1\", \"Topic1\", \"Topic1\", \"Topic1\", \"Topic1\", \"Topic1\", \"Topic1\", \"Topic1\", \"Topic1\", \"Topic1\", \"Topic1\", \"Topic1\", \"Topic1\", \"Topic1\", \"Topic1\", \"Topic1\", \"Topic1\", \"Topic1\", \"Topic1\", \"Topic1\", \"Topic1\", \"Topic1\", \"Topic1\", \"Topic1\", \"Topic1\", \"Topic1\", \"Topic1\", \"Topic1\", \"Topic1\", \"Topic1\", \"Topic1\", \"Topic1\", \"Topic1\", \"Topic1\", \"Topic1\", \"Topic1\", \"Topic1\", \"Topic1\", \"Topic1\", \"Topic1\", \"Topic1\", \"Topic1\", \"Topic1\", \"Topic1\", \"Topic1\", \"Topic1\", \"Topic1\", \"Topic1\", \"Topic1\", \"Topic1\", \"Topic1\", \"Topic1\", \"Topic1\", \"Topic1\", \"Topic1\", \"Topic1\", \"Topic1\", \"Topic1\", \"Topic1\", \"Topic1\", \"Topic1\", \"Topic1\", \"Topic1\", \"Topic1\", \"Topic1\", \"Topic1\", \"Topic1\", \"Topic1\", \"Topic1\", \"Topic1\", \"Topic1\", \"Topic1\", \"Topic2\", \"Topic2\", \"Topic2\", \"Topic2\", \"Topic2\", \"Topic2\", \"Topic2\", \"Topic2\", \"Topic2\", \"Topic2\", \"Topic2\", \"Topic2\", \"Topic2\", \"Topic2\", \"Topic2\", \"Topic2\", \"Topic2\", \"Topic2\", \"Topic2\", \"Topic2\", \"Topic2\", \"Topic2\", \"Topic2\", \"Topic2\", \"Topic2\", \"Topic2\", \"Topic2\", \"Topic2\", \"Topic2\", \"Topic2\", \"Topic2\", \"Topic2\", \"Topic2\", \"Topic2\", \"Topic2\", \"Topic2\", \"Topic2\", \"Topic2\", \"Topic2\", \"Topic2\", \"Topic2\", \"Topic2\", \"Topic2\", \"Topic2\", \"Topic2\", \"Topic2\", \"Topic2\", \"Topic2\", \"Topic2\", \"Topic2\", \"Topic2\", \"Topic2\", \"Topic2\", \"Topic2\", \"Topic2\", \"Topic2\", \"Topic2\", \"Topic2\", \"Topic2\", \"Topic2\", \"Topic2\", \"Topic2\", \"Topic2\", \"Topic2\", \"Topic2\", \"Topic2\", \"Topic3\", \"Topic3\", \"Topic3\", \"Topic3\", \"Topic3\", \"Topic3\", \"Topic3\", \"Topic3\", \"Topic3\", \"Topic3\", \"Topic3\", \"Topic3\", \"Topic3\", \"Topic3\", \"Topic3\", \"Topic3\", \"Topic3\", \"Topic3\", \"Topic3\", \"Topic3\", \"Topic3\", \"Topic3\", \"Topic3\", \"Topic3\", \"Topic3\", \"Topic3\", \"Topic3\", \"Topic3\", \"Topic3\", \"Topic3\", \"Topic3\", \"Topic3\", \"Topic3\", \"Topic3\", \"Topic3\", \"Topic3\", \"Topic3\", \"Topic3\", \"Topic3\", \"Topic3\", \"Topic3\", \"Topic3\", \"Topic3\", \"Topic3\", \"Topic3\", \"Topic3\", \"Topic3\", \"Topic3\", \"Topic3\", \"Topic3\", \"Topic3\", \"Topic3\", \"Topic3\", \"Topic3\", \"Topic3\", \"Topic3\", \"Topic3\", \"Topic3\", \"Topic3\", \"Topic3\", \"Topic3\", \"Topic3\", \"Topic3\", \"Topic3\", \"Topic3\", \"Topic3\", \"Topic3\", \"Topic3\", \"Topic3\", \"Topic3\", \"Topic3\", \"Topic3\", \"Topic3\", \"Topic3\", \"Topic3\", \"Topic3\", \"Topic3\", \"Topic3\", \"Topic3\", \"Topic4\", \"Topic4\", \"Topic4\", \"Topic4\", \"Topic4\", \"Topic4\", \"Topic4\", \"Topic4\", \"Topic4\", \"Topic4\", \"Topic4\", \"Topic4\", \"Topic4\", \"Topic4\", \"Topic4\", \"Topic4\", \"Topic4\", \"Topic4\", \"Topic4\", \"Topic4\", \"Topic4\", \"Topic4\", \"Topic4\", \"Topic4\", \"Topic4\", \"Topic4\", \"Topic4\", \"Topic4\", \"Topic4\", \"Topic4\", \"Topic4\", \"Topic4\", \"Topic4\", \"Topic4\", \"Topic4\", \"Topic4\", \"Topic4\", \"Topic4\", \"Topic4\", \"Topic4\", \"Topic4\", \"Topic4\", \"Topic4\", \"Topic4\", \"Topic4\", \"Topic4\", \"Topic4\", \"Topic4\", \"Topic4\", \"Topic4\", \"Topic4\", \"Topic4\", \"Topic4\", \"Topic4\", \"Topic4\", \"Topic4\", \"Topic4\", \"Topic4\", \"Topic4\", \"Topic4\", \"Topic4\", \"Topic4\", \"Topic4\", \"Topic4\", \"Topic4\", \"Topic4\", \"Topic4\", \"Topic4\", \"Topic4\", \"Topic4\", \"Topic4\", \"Topic4\", \"Topic4\", \"Topic4\", \"Topic4\", \"Topic4\", \"Topic4\", \"Topic5\", \"Topic5\", \"Topic5\", \"Topic5\", \"Topic5\", \"Topic5\", \"Topic5\", \"Topic5\", \"Topic5\", \"Topic5\", \"Topic5\", \"Topic5\", \"Topic5\", \"Topic5\", \"Topic5\", \"Topic5\", \"Topic5\", \"Topic5\", \"Topic5\", \"Topic5\", \"Topic5\", \"Topic5\", \"Topic5\", \"Topic5\", \"Topic5\", \"Topic5\", \"Topic5\", \"Topic5\", \"Topic5\", \"Topic5\", \"Topic5\", \"Topic5\", \"Topic5\", \"Topic5\", \"Topic5\", \"Topic5\", \"Topic5\", \"Topic5\", \"Topic5\", \"Topic5\", \"Topic5\", \"Topic5\", \"Topic5\", \"Topic5\", \"Topic5\", \"Topic5\", \"Topic5\", \"Topic5\", \"Topic5\", \"Topic5\", \"Topic5\", \"Topic5\", \"Topic5\", \"Topic5\", \"Topic5\", \"Topic5\", \"Topic5\", \"Topic5\", \"Topic5\", \"Topic5\", \"Topic5\", \"Topic5\", \"Topic5\", \"Topic5\", \"Topic5\", \"Topic5\", \"Topic5\", \"Topic5\", \"Topic5\", \"Topic5\", \"Topic5\", \"Topic6\", \"Topic6\", \"Topic6\", \"Topic6\", \"Topic6\", \"Topic6\", \"Topic6\", \"Topic6\", \"Topic6\", \"Topic6\", \"Topic6\", \"Topic6\", \"Topic6\", \"Topic6\", \"Topic6\", \"Topic6\", \"Topic6\", \"Topic6\", \"Topic6\", \"Topic6\", \"Topic6\", \"Topic6\", \"Topic6\", \"Topic6\", \"Topic6\", \"Topic6\", \"Topic6\", \"Topic6\", \"Topic6\", \"Topic6\", \"Topic6\", \"Topic6\", \"Topic6\", \"Topic6\", \"Topic6\", \"Topic6\", \"Topic6\", \"Topic6\", \"Topic6\", \"Topic6\", \"Topic6\", \"Topic6\", \"Topic6\", \"Topic6\", \"Topic6\", \"Topic6\", \"Topic6\", \"Topic6\", \"Topic6\", \"Topic6\", \"Topic6\", \"Topic6\", \"Topic6\", \"Topic6\", \"Topic6\", \"Topic6\", \"Topic6\", \"Topic6\", \"Topic6\", \"Topic6\", \"Topic6\", \"Topic6\", \"Topic6\", \"Topic6\", \"Topic6\", \"Topic6\", \"Topic6\", \"Topic6\", \"Topic6\", \"Topic6\", \"Topic6\", \"Topic6\", \"Topic6\", \"Topic6\", \"Topic6\", \"Topic6\", \"Topic6\", \"Topic6\", \"Topic6\", \"Topic7\", \"Topic7\", \"Topic7\", \"Topic7\", \"Topic7\", \"Topic7\", \"Topic7\", \"Topic7\", \"Topic7\", \"Topic7\", \"Topic7\", \"Topic7\", \"Topic7\", \"Topic7\", \"Topic7\", \"Topic7\", \"Topic7\", \"Topic7\", \"Topic7\", \"Topic7\", \"Topic7\", \"Topic7\", \"Topic7\", \"Topic7\", \"Topic7\", \"Topic7\", \"Topic7\", \"Topic7\", \"Topic7\", \"Topic7\", \"Topic7\", \"Topic7\", \"Topic7\", \"Topic7\", \"Topic7\", \"Topic7\", \"Topic7\", \"Topic7\", \"Topic7\", \"Topic7\", \"Topic7\", \"Topic7\", \"Topic7\", \"Topic7\", \"Topic7\", \"Topic7\", \"Topic7\", \"Topic7\", \"Topic7\", \"Topic7\", \"Topic7\", \"Topic7\", \"Topic7\", \"Topic7\", \"Topic7\", \"Topic7\", \"Topic7\", \"Topic7\", \"Topic7\", \"Topic7\", \"Topic7\", \"Topic7\", \"Topic7\", \"Topic7\", \"Topic7\", \"Topic7\", \"Topic7\", \"Topic7\", \"Topic7\", \"Topic7\", \"Topic7\", \"Topic8\", \"Topic8\", \"Topic8\", \"Topic8\", \"Topic8\", \"Topic8\", \"Topic8\", \"Topic8\", \"Topic8\", \"Topic8\", \"Topic8\", \"Topic8\", \"Topic8\", \"Topic8\", \"Topic8\", \"Topic8\", \"Topic8\", \"Topic8\", \"Topic8\", \"Topic8\", \"Topic8\", \"Topic8\", \"Topic8\", \"Topic8\", \"Topic8\", \"Topic8\", \"Topic8\", \"Topic8\", \"Topic8\", \"Topic8\", \"Topic8\", \"Topic8\", \"Topic8\", \"Topic8\", \"Topic8\", \"Topic8\", \"Topic8\", \"Topic8\", \"Topic8\", \"Topic8\", \"Topic8\", \"Topic8\", \"Topic8\", \"Topic8\", \"Topic8\", \"Topic8\", \"Topic8\", \"Topic8\", \"Topic8\", \"Topic8\", \"Topic8\", \"Topic8\", \"Topic8\", \"Topic8\", \"Topic8\", \"Topic8\", \"Topic8\", \"Topic8\", \"Topic8\", \"Topic8\", \"Topic8\", \"Topic8\", \"Topic8\", \"Topic8\", \"Topic8\", \"Topic8\", \"Topic8\", \"Topic8\", \"Topic8\", \"Topic8\", \"Topic8\", \"Topic8\", \"Topic8\", \"Topic8\", \"Topic8\", \"Topic8\", \"Topic8\", \"Topic8\", \"Topic9\", \"Topic9\", \"Topic9\", \"Topic9\", \"Topic9\", \"Topic9\", \"Topic9\", \"Topic9\", \"Topic9\", \"Topic9\", \"Topic9\", \"Topic9\", \"Topic9\", \"Topic9\", \"Topic9\", \"Topic9\", \"Topic9\", \"Topic9\", \"Topic9\", \"Topic9\", \"Topic9\", \"Topic9\", \"Topic9\", \"Topic9\", \"Topic9\", \"Topic9\", \"Topic9\", \"Topic9\", \"Topic9\", \"Topic9\", \"Topic9\", \"Topic9\", \"Topic9\", \"Topic9\", \"Topic9\", \"Topic9\", \"Topic9\", \"Topic9\", \"Topic9\", \"Topic9\", \"Topic9\", \"Topic9\", \"Topic9\", \"Topic9\", \"Topic9\", \"Topic9\", \"Topic9\", \"Topic9\", \"Topic9\", \"Topic9\", \"Topic9\", \"Topic9\", \"Topic9\", \"Topic9\", \"Topic9\", \"Topic9\", \"Topic9\", \"Topic9\", \"Topic9\", \"Topic9\", \"Topic9\", \"Topic9\", \"Topic9\", \"Topic9\", \"Topic9\", \"Topic9\", \"Topic9\", \"Topic9\", \"Topic10\", \"Topic10\", \"Topic10\", \"Topic10\", \"Topic10\", \"Topic10\", \"Topic10\", \"Topic10\", \"Topic10\", \"Topic10\", \"Topic10\", \"Topic10\", \"Topic10\", \"Topic10\", \"Topic10\", \"Topic10\", \"Topic10\", \"Topic10\", \"Topic10\", \"Topic10\", \"Topic10\", \"Topic10\", \"Topic10\", \"Topic10\", \"Topic10\", \"Topic10\", \"Topic10\", \"Topic10\", \"Topic10\", \"Topic10\", \"Topic10\", \"Topic10\", \"Topic10\", \"Topic10\", \"Topic10\", \"Topic10\", \"Topic10\", \"Topic10\", \"Topic10\", \"Topic10\", \"Topic10\", \"Topic10\", \"Topic10\", \"Topic10\", \"Topic10\", \"Topic10\", \"Topic10\", \"Topic10\", \"Topic10\", \"Topic10\", \"Topic10\", \"Topic10\", \"Topic10\", \"Topic10\", \"Topic10\", \"Topic10\", \"Topic10\", \"Topic10\", \"Topic10\", \"Topic10\", \"Topic10\", \"Topic10\", \"Topic10\", \"Topic10\", \"Topic10\", \"Topic10\", \"Topic10\", \"Topic10\", \"Topic11\", \"Topic11\", \"Topic11\", \"Topic11\", \"Topic11\", \"Topic11\", \"Topic11\", \"Topic11\", \"Topic11\", \"Topic11\", \"Topic11\", \"Topic11\", \"Topic11\", \"Topic11\", \"Topic11\", \"Topic11\", \"Topic11\", \"Topic11\", \"Topic11\", \"Topic11\", \"Topic11\", \"Topic11\", \"Topic11\", \"Topic11\", \"Topic11\", \"Topic11\", \"Topic11\", \"Topic11\", \"Topic11\", \"Topic11\", \"Topic11\", \"Topic11\", \"Topic11\", \"Topic11\", \"Topic11\", \"Topic11\", \"Topic11\", \"Topic11\", \"Topic11\", \"Topic11\", \"Topic11\", \"Topic11\", \"Topic11\", \"Topic11\", \"Topic11\", \"Topic11\", \"Topic11\", \"Topic11\", \"Topic11\", \"Topic11\", \"Topic11\", \"Topic11\", \"Topic11\", \"Topic11\", \"Topic11\", \"Topic11\", \"Topic11\", \"Topic11\", \"Topic11\", \"Topic11\", \"Topic11\", \"Topic11\", \"Topic11\", \"Topic11\", \"Topic11\", \"Topic11\", \"Topic11\", \"Topic11\", \"Topic11\", \"Topic11\", \"Topic11\", \"Topic11\", \"Topic11\", \"Topic11\", \"Topic11\", \"Topic11\", \"Topic11\", \"Topic11\", \"Topic11\", \"Topic11\", \"Topic12\", \"Topic12\", \"Topic12\", \"Topic12\", \"Topic12\", \"Topic12\", \"Topic12\", \"Topic12\", \"Topic12\", \"Topic12\", \"Topic12\", \"Topic12\", \"Topic12\", \"Topic12\", \"Topic12\", \"Topic12\", \"Topic12\", \"Topic12\", \"Topic12\", \"Topic12\", \"Topic12\", \"Topic12\", \"Topic12\", \"Topic12\", \"Topic12\", \"Topic12\", \"Topic12\", \"Topic12\", \"Topic12\", \"Topic12\", \"Topic12\", \"Topic12\", \"Topic12\", \"Topic12\", \"Topic12\", \"Topic12\", \"Topic12\", \"Topic12\", \"Topic12\", \"Topic12\", \"Topic12\", \"Topic12\", \"Topic12\", \"Topic12\", \"Topic12\", \"Topic12\", \"Topic12\", \"Topic12\", \"Topic12\", \"Topic12\", \"Topic12\", \"Topic12\", \"Topic12\", \"Topic12\", \"Topic12\", \"Topic12\", \"Topic12\", \"Topic12\", \"Topic12\", \"Topic12\", \"Topic12\", \"Topic12\", \"Topic12\", \"Topic12\", \"Topic12\", \"Topic12\", \"Topic12\", \"Topic12\", \"Topic12\", \"Topic12\", \"Topic12\", \"Topic12\", \"Topic12\", \"Topic12\", \"Topic12\", \"Topic13\", \"Topic13\", \"Topic13\", \"Topic13\", \"Topic13\", \"Topic13\", \"Topic13\", \"Topic13\", \"Topic13\", \"Topic13\", \"Topic13\", \"Topic13\", \"Topic13\", \"Topic13\", \"Topic13\", \"Topic13\", \"Topic13\", \"Topic13\", \"Topic13\", \"Topic13\", \"Topic13\", \"Topic13\", \"Topic13\", \"Topic13\", \"Topic13\", \"Topic13\", \"Topic13\", \"Topic13\", \"Topic13\", \"Topic13\", \"Topic13\", \"Topic13\", \"Topic13\", \"Topic13\", \"Topic13\", \"Topic13\", \"Topic13\", \"Topic13\", \"Topic13\", \"Topic13\", \"Topic13\", \"Topic13\", \"Topic13\", \"Topic13\", \"Topic13\", \"Topic13\", \"Topic13\", \"Topic13\", \"Topic13\", \"Topic13\", \"Topic13\", \"Topic13\", \"Topic13\", \"Topic13\", \"Topic13\", \"Topic13\", \"Topic13\", \"Topic13\", \"Topic13\", \"Topic13\", \"Topic13\", \"Topic13\", \"Topic13\", \"Topic13\", \"Topic13\", \"Topic13\", \"Topic13\", \"Topic13\", \"Topic13\", \"Topic13\", \"Topic13\", \"Topic13\", \"Topic13\", \"Topic13\", \"Topic13\", \"Topic13\", \"Topic14\", \"Topic14\", \"Topic14\", \"Topic14\", \"Topic14\", \"Topic14\", \"Topic14\", \"Topic14\", \"Topic14\", \"Topic14\", \"Topic14\", \"Topic14\", \"Topic14\", \"Topic14\", \"Topic14\", \"Topic14\", \"Topic14\", \"Topic14\", \"Topic14\", \"Topic14\", \"Topic14\", \"Topic14\", \"Topic14\", \"Topic14\", \"Topic14\", \"Topic14\", \"Topic14\", \"Topic14\", \"Topic14\", \"Topic14\", \"Topic14\", \"Topic14\", \"Topic14\", \"Topic14\", \"Topic14\", \"Topic14\", \"Topic14\", \"Topic14\", \"Topic14\", \"Topic14\", \"Topic14\", \"Topic14\", \"Topic14\", \"Topic14\", \"Topic14\", \"Topic14\", \"Topic14\", \"Topic14\", \"Topic14\", \"Topic14\", \"Topic14\", \"Topic14\", \"Topic14\", \"Topic14\", \"Topic14\", \"Topic14\", \"Topic14\", \"Topic14\", \"Topic14\", \"Topic14\", \"Topic14\", \"Topic14\", \"Topic14\", \"Topic14\", \"Topic14\", \"Topic14\", \"Topic14\", \"Topic14\", \"Topic14\", \"Topic14\", \"Topic14\", \"Topic14\", \"Topic14\", \"Topic14\", \"Topic14\", \"Topic15\", \"Topic15\", \"Topic15\", \"Topic15\", \"Topic15\", \"Topic15\", \"Topic15\", \"Topic15\", \"Topic15\", \"Topic15\", \"Topic15\", \"Topic15\", \"Topic15\", \"Topic15\", \"Topic15\", \"Topic15\", \"Topic15\", \"Topic15\", \"Topic15\", \"Topic15\", \"Topic15\", \"Topic15\", \"Topic15\", \"Topic15\", \"Topic15\", \"Topic15\", \"Topic15\", \"Topic15\", \"Topic15\", \"Topic15\", \"Topic15\", \"Topic15\", \"Topic15\", \"Topic15\", \"Topic15\", \"Topic15\", \"Topic15\", \"Topic15\", \"Topic15\", \"Topic15\", \"Topic15\", \"Topic15\", \"Topic15\", \"Topic15\", \"Topic15\", \"Topic15\", \"Topic15\", \"Topic15\", \"Topic15\", \"Topic15\", \"Topic15\", \"Topic15\", \"Topic15\", \"Topic15\", \"Topic15\", \"Topic15\", \"Topic15\", \"Topic15\", \"Topic15\", \"Topic15\", \"Topic15\"], \"Freq\": [5300.0, 8697.0, 4637.0, 2151.0, 1940.0, 2204.0, 2055.0, 6857.0, 1723.0, 3344.0, 973.0, 1624.0, 1252.0, 3051.0, 662.0, 2096.0, 807.0, 1364.0, 1173.0, 2444.0, 3850.0, 937.0, 1066.0, 2072.0, 4361.0, 1123.0, 452.0, 1437.0, 335.0, 1167.0, 11.780722618103027, 7.210097789764404, 6.709351539611816, 6.709166526794434, 6.708219528198242, 42.588043212890625, 44.599735260009766, 5.405886650085449, 9.503755569458008, 811.3709106445312, 4.495138168334961, 4.480770587921143, 20.035301208496094, 9.474355697631836, 3.62394118309021, 3.9597976207733154, 3.3890814781188965, 3.3886559009552, 3.3868892192840576, 3.3825767040252686, 3.381962537765503, 3.3821489810943604, 3.3821494579315186, 3.3820157051086426, 3.3787620067596436, 3.3735923767089844, 4.218684196472168, 3.3355696201324463, 3.1618900299072266, 2.9662272930145264, 12.956287384033203, 29.441194534301758, 5.407683372497559, 85.8409423828125, 8.275269508361816, 27.58795928955078, 137.96316528320312, 175.2947998046875, 53.91264724731445, 78.82916259765625, 469.37139892578125, 219.56356811523438, 220.42764282226562, 442.4435119628906, 85.243408203125, 554.6845703125, 24.85081672668457, 32.2678337097168, 30.584665298461914, 46.98462677001953, 46.89238357543945, 50.376564025878906, 666.37451171875, 92.07304382324219, 131.51321411132812, 79.44307708740234, 773.801025390625, 82.72611236572266, 146.34164428710938, 145.50387573242188, 647.1948852539062, 297.25616455078125, 60.711585998535156, 100.32115173339844, 97.35640716552734, 99.25457000732422, 62.73717498779297, 80.46492767333984, 72.28945922851562, 87.49286651611328, 76.25226593017578, 66.17762756347656, 21.838321685791016, 19.840560913085938, 7.615581035614014, 7.0638017654418945, 4.844973564147949, 354.821044921875, 4.385036945343018, 10.944377899169922, 4.1200056076049805, 3.9018399715423584, 3.649794578552246, 3.6486589908599854, 3.6455953121185303, 3.6420981884002686, 3.6429386138916016, 3.6318249702453613, 3.6354308128356934, 4.28579044342041, 4.056718826293945, 3.6642112731933594, 3.1808595657348633, 3.1792640686035156, 2.9763009548187256, 2.9608376026153564, 2.9536049365997314, 3.52201247215271, 2.911431312561035, 5.991949081420898, 8.776406288146973, 2.4527623653411865, 2901.142333984375, 3889.22900390625, 316.3792419433594, 92.47317504882812, 6.213743209838867, 51.216087341308594, 353.4902648925781, 276.14398193359375, 181.23182678222656, 86.55821990966797, 30.92038917541504, 167.5928192138672, 14.32249927520752, 203.56700134277344, 65.5245590209961, 24.385101318359375, 73.22705078125, 374.4875793457031, 35.86161422729492, 32.31000900268555, 39.273956298828125, 39.02962112426758, 152.1388702392578, 80.32771301269531, 146.6086883544922, 62.89488983154297, 33.77680969238281, 21.717607498168945, 35.17123031616211, 86.89307403564453, 52.290367126464844, 46.521541595458984, 69.18647766113281, 49.61085510253906, 51.07166290283203, 35.58387756347656, 19.815961837768555, 9.892205238342285, 17.747434616088867, 9.695398330688477, 7.510858535766602, 7.285956859588623, 7.276472568511963, 7.251949310302734, 6.284135341644287, 6.2767252922058105, 6.585411071777344, 10.31205940246582, 6.5017547607421875, 12.17764949798584, 12.572924613952637, 5.7787184715271, 5.729377269744873, 5.390285015106201, 5.368164539337158, 11.20637035369873, 4.509920120239258, 13.716176986694336, 4.0559983253479, 4.628087997436523, 3.7848145961761475, 3.782451868057251, 3.780489206314087, 3.7657344341278076, 3.7662930488586426, 21.675552368164062, 13.217388153076172, 153.58782958984375, 27.83483123779297, 136.72998046875, 90.49887084960938, 8.625579833984375, 20.4560604095459, 22.316635131835938, 47.82094192504883, 28.860485076904297, 116.99456787109375, 130.49362182617188, 20.375715255737305, 547.5167236328125, 602.7553100585938, 90.30228424072266, 30.720935821533203, 108.2393798828125, 23.974559783935547, 135.57948303222656, 115.14755249023438, 74.3172378540039, 102.65235137939453, 81.09793853759766, 77.96255493164062, 32.198890686035156, 206.5936737060547, 105.89474487304688, 93.5157241821289, 63.604305267333984, 175.33480834960938, 56.544639587402344, 60.327632904052734, 81.94639587402344, 108.33512878417969, 122.06192016601562, 191.87661743164062, 64.2671127319336, 58.09657287597656, 122.18949127197266, 176.0442352294922, 111.18345642089844, 92.65974426269531, 99.16938781738281, 85.88471984863281, 89.56609344482422, 97.00916290283203, 88.4202880859375, 86.53749084472656, 8.53056526184082, 8.363022804260254, 8.11954116821289, 7.823383808135986, 28.03087043762207, 72.0061264038086, 6.588686943054199, 6.578195095062256, 8.357483863830566, 6.762052536010742, 6.380775451660156, 6.139848232269287, 5.7028350830078125, 6.098563194274902, 5.431534290313721, 32.189292907714844, 5.012185096740723, 4.406376361846924, 4.574771404266357, 4.354526042938232, 4.195010662078857, 372.5444641113281, 3.9694344997406006, 3.9623889923095703, 3.9499340057373047, 227.57313537597656, 3.547128438949585, 3.5476303100585938, 4.595921516418457, 3.317976951599121, 103.23739624023438, 16.173076629638672, 171.51768493652344, 20.39044952392578, 126.87904357910156, 16.057960510253906, 19.440488815307617, 12.65893840789795, 22.6380558013916, 156.26849365234375, 17.827983856201172, 58.06150817871094, 292.9643859863281, 1207.8853759765625, 28.931671142578125, 135.88253784179688, 212.868896484375, 98.3097152709961, 58.548858642578125, 112.81256103515625, 1520.6588134765625, 75.55326080322266, 194.62533569335938, 332.4310302734375, 108.22262573242188, 173.29891967773438, 45.06680679321289, 142.11343383789062, 225.98092651367188, 462.2304382324219, 213.74795532226562, 104.07965087890625, 92.2731704711914, 408.3594055175781, 86.45801544189453, 408.92645263671875, 102.21427917480469, 115.04718017578125, 202.2949676513672, 101.5765151977539, 126.21369171142578, 125.4958267211914, 106.8773422241211, 140.56964111328125, 113.88581085205078, 113.07819366455078, 106.00640106201172, 38.70902633666992, 27.36386489868164, 23.585132598876953, 22.545642852783203, 23.159048080444336, 36.756500244140625, 11.671393394470215, 52.2809944152832, 97.52510833740234, 14.65685749053955, 11.982061386108398, 23.18639373779297, 23.82680892944336, 180.62962341308594, 6.772082805633545, 323.93902587890625, 5.956550121307373, 5.953727722167969, 10.857466697692871, 17.525861740112305, 9.873241424560547, 6.704977035522461, 4.904365539550781, 7.361372470855713, 8.051024436950684, 4.8826799392700195, 4.295274257659912, 92.46463775634766, 19.42106056213379, 11.37305736541748, 361.2492980957031, 21.253021240234375, 262.80792236328125, 845.0538330078125, 40.5692024230957, 129.14292907714844, 117.58800506591797, 25.02725601196289, 23.467527389526367, 286.5457763671875, 236.58892822265625, 113.45024108886719, 46.078365325927734, 473.71044921875, 60.76326370239258, 200.65548706054688, 70.5975112915039, 67.64450073242188, 133.9998016357422, 229.25660705566406, 1029.601806640625, 97.97030639648438, 54.176124572753906, 175.06707763671875, 55.296974182128906, 456.00390625, 266.2933044433594, 126.72847747802734, 126.80978393554688, 289.6544189453125, 134.40452575683594, 125.0816650390625, 272.8500061035156, 158.52552795410156, 185.98165893554688, 279.5647888183594, 159.89511108398438, 156.95240783691406, 176.16519165039062, 138.59730529785156, 131.9071044921875, 29.59625816345215, 9.359304428100586, 7.9008026123046875, 6.425570964813232, 5.346732139587402, 5.314892768859863, 5.354441165924072, 19.886371612548828, 5.442922592163086, 4.30264949798584, 4.301570892333984, 4.288237571716309, 3.899491310119629, 3.8775696754455566, 3.8666388988494873, 33.18561553955078, 9.358856201171875, 3.4695513248443604, 3.4614365100860596, 3.2465226650238037, 3.240933656692505, 3.239995241165161, 3.2399981021881104, 3.238649368286133, 3.2381386756896973, 3.2378180027008057, 3.237697124481201, 3.2374391555786133, 3.233050584793091, 3.232799530029297, 53.595096588134766, 336.80706787109375, 7.036425590515137, 241.24224853515625, 57.28366470336914, 10.264759063720703, 115.85739135742188, 172.96434020996094, 170.20948791503906, 57.248435974121094, 550.3245849609375, 94.78441619873047, 24.953346252441406, 31.43195343017578, 149.36741638183594, 27.10331153869629, 208.16607666015625, 38.49880599975586, 79.84517669677734, 65.90132904052734, 43.012176513671875, 37.54203796386719, 36.9409294128418, 16.7774715423584, 68.8482666015625, 884.3650512695312, 26.039064407348633, 28.563526153564453, 177.2980194091797, 59.588802337646484, 139.4293212890625, 47.544166564941406, 169.41262817382812, 89.99285125732422, 299.6399841308594, 389.83740234375, 229.9797821044922, 85.80213928222656, 66.15434265136719, 114.03457641601562, 128.97024536132812, 85.91259765625, 96.73854064941406, 118.38202667236328, 109.68626403808594, 72.01206970214844, 71.36349487304688, 74.8997802734375, 69.10120391845703, 12.689983367919922, 17.851646423339844, 6.918182849884033, 147.47755432128906, 4.639514446258545, 4.639348983764648, 4.6369309425354, 5.073314189910889, 16.714744567871094, 4.182173728942871, 4.230841159820557, 4.116018295288086, 3.7206034660339355, 3.4991085529327393, 3.498945474624634, 3.4983627796173096, 3.7086586952209473, 3.9182848930358887, 3.4955201148986816, 3.488159656524658, 3.4874680042266846, 3.480292558670044, 3.4744372367858887, 4.953425407409668, 3.0513575077056885, 3.04844069480896, 3.044936180114746, 3.042665481567383, 3.0410163402557373, 344.8406066894531, 288.061767578125, 1145.67236328125, 10.14777660369873, 9.119325637817383, 67.25450134277344, 472.0813293457031, 26.277631759643555, 7.571763038635254, 13.672009468078613, 34.14449691772461, 45.93428039550781, 15.277297019958496, 10.220293045043945, 590.652099609375, 50.757301330566406, 1365.518798828125, 39.37535858154297, 55.82701873779297, 51.81267547607422, 10.978265762329102, 12.738399505615234, 38.584434509277344, 428.8499755859375, 42.984352111816406, 243.89500427246094, 40.77104949951172, 61.05912780761719, 120.06092834472656, 52.51204299926758, 24.433185577392578, 39.68673324584961, 60.33597183227539, 29.664796829223633, 80.07652282714844, 33.27280807495117, 52.86603927612305, 52.751220703125, 59.815086364746094, 42.041446685791016, 38.32972717285156, 41.19717788696289, 9.939138412475586, 8.464770317077637, 7.682443141937256, 10.363737106323242, 7.034502029418945, 6.459976673126221, 40.9301872253418, 8.417400360107422, 8.846269607543945, 9.645804405212402, 4.70823860168457, 4.705103397369385, 4.5241007804870605, 4.491920471191406, 4.2577290534973145, 4.247058868408203, 4.890822410583496, 18.508771896362305, 3.798563241958618, 3.8068654537200928, 4.159717559814453, 3.629664421081543, 3.5515127182006836, 3.551164150238037, 3.5511581897735596, 3.5510661602020264, 3.549379348754883, 3.548985004425049, 3.547083854675293, 3.543635129928589, 60.15221405029297, 45.23800277709961, 5.312615394592285, 27.373493194580078, 54.386497497558594, 23.33478355407715, 697.5540771484375, 36.681461334228516, 10.98171329498291, 109.87184143066406, 166.27027893066406, 7.185779094696045, 109.90853118896484, 710.3985595703125, 51.23025131225586, 142.2376708984375, 50.121734619140625, 28.956737518310547, 13.33809757232666, 26.651426315307617, 150.6587677001953, 34.49966812133789, 157.70286560058594, 21.213062286376953, 258.7662353515625, 149.67721557617188, 29.615921020507812, 109.17412567138672, 52.00863265991211, 51.42023468017578, 78.8524398803711, 133.77276611328125, 257.1644592285156, 155.4945831298828, 189.79150390625, 116.34715270996094, 198.36976623535156, 97.69255828857422, 126.09310913085938, 212.95126342773438, 134.30857849121094, 170.4561004638672, 74.91279602050781, 98.4111557006836, 77.65319061279297, 100.86363220214844, 83.776123046875, 59.09783172607422, 11.038261413574219, 4.556798934936523, 4349.8486328125, 5.543762683868408, 3.917468309402466, 3.659184455871582, 3.7002859115600586, 3.6986193656921387, 3.6229162216186523, 4.216928005218506, 3.437761068344116, 3.2029218673706055, 3.183549165725708, 3.6913979053497314, 2.72413969039917, 2.684844732284546, 2.4644014835357666, 2.4643945693969727, 2.4624247550964355, 2.4624216556549072, 2.450648307800293, 2.449308156967163, 2.457550287246704, 2.4506399631500244, 2.2548117637634277, 8.59036636352539, 2.2204136848449707, 2.0003292560577393, 1.9916292428970337, 1.9880608320236206, 3.657888650894165, 3.1359705924987793, 3.390141487121582, 292.0624694824219, 439.8847351074219, 48.55020523071289, 5.779542446136475, 947.1558227539062, 10.43227481842041, 195.3170623779297, 91.82743072509766, 35.89406204223633, 68.99002838134766, 13.693459510803223, 64.78231048583984, 160.86647033691406, 185.25006103515625, 276.8641662597656, 40.285865783691406, 224.62747192382812, 478.9700012207031, 76.15365600585938, 152.2283477783203, 13.712017059326172, 41.33304977416992, 29.463123321533203, 38.64316940307617, 85.2768783569336, 85.57586669921875, 57.44332504272461, 122.10856628417969, 42.11737060546875, 96.87362670898438, 33.91234588623047, 75.88223266601562, 42.95691680908203, 85.41496276855469, 66.35095977783203, 233.67298889160156, 223.94052124023438, 240.89854431152344, 49.21953582763672, 128.24618530273438, 318.2313232421875, 19.360149383544922, 17.110557556152344, 15.19342041015625, 42.49552917480469, 12.322776794433594, 7.4278388023376465, 45.29684066772461, 13.037480354309082, 6.124805927276611, 5.655009746551514, 5.27360200881958, 4.816631317138672, 4.747648239135742, 4.09135627746582, 4.0159525871276855, 4.0145111083984375, 4.00970458984375, 4.008121967315674, 3.9963226318359375, 4.234156131744385, 4.2329277992248535, 4.23105001449585, 12.616878509521484, 84.35465240478516, 314.67974853515625, 22.18579864501953, 31.067167282104492, 27.499536514282227, 109.62699127197266, 10.631559371948242, 35.76559829711914, 314.7142639160156, 6.178715229034424, 32.86052322387695, 173.02845764160156, 24.551532745361328, 31.666301727294922, 73.94429016113281, 143.53053283691406, 17.97481346130371, 277.3201904296875, 128.8666229248047, 61.904930114746094, 208.4781036376953, 461.5243835449219, 35.91389846801758, 39.813053131103516, 32.101890563964844, 351.1690368652344, 44.83381271362305, 72.84335327148438, 68.7216567993164, 76.91160583496094, 184.97093200683594, 109.51493072509766, 226.50323486328125, 91.50151062011719, 130.94183349609375, 144.915283203125, 72.65664672851562, 81.28980255126953, 81.28919982910156, 9.897798538208008, 10.189546585083008, 7.643753528594971, 6.7987494468688965, 7.998572826385498, 6.265993595123291, 19.77811050415039, 5.22567081451416, 5.058333396911621, 5.783630847930908, 4.801474571228027, 4.788670063018799, 4.5401930809021, 4.516976356506348, 7.5961198806762695, 4.110284328460693, 4.114135265350342, 4.09946870803833, 4.087046146392822, 4.085402965545654, 4.545343399047852, 3.437674045562744, 3.4383203983306885, 3.437030792236328, 3.437016725540161, 3.4267418384552, 3.4041550159454346, 9.5261812210083, 5.664175987243652, 3.002133846282959, 85.35193634033203, 16.75996971130371, 28.43203353881836, 42.438011169433594, 62.2974853515625, 27.789859771728516, 11.295440673828125, 13.075270652770996, 9.327122688293457, 99.30056762695312, 62.94346618652344, 13.921663284301758, 55.20388412475586, 85.04402160644531, 26.207347869873047, 93.59719848632812, 27.635150909423828, 11.102835655212402, 185.6653594970703, 26.209705352783203, 101.72816467285156, 16.52071762084961, 49.978641510009766, 232.28733825683594, 45.366424560546875, 70.58366394042969, 82.8177719116211, 73.17398071289062, 525.7905883789062, 25.77785873413086, 219.81671142578125, 126.69624328613281, 70.56534576416016, 201.9762725830078, 49.3602294921875, 76.22061920166016, 181.93524169921875, 231.1534423828125, 47.31633377075195, 74.4663314819336, 66.71749114990234, 93.56370544433594, 72.65702819824219, 72.0587387084961, 66.28071594238281, 65.114501953125, 74.04405212402344, 71.82738494873047, 64.58731079101562, 67.23334503173828, 17.660287857055664, 50.6439094543457, 8.32132339477539, 16.370487213134766, 1918.53125, 7.655752658843994, 7.370974540710449, 7.333850860595703, 6.327231407165527, 5.804657459259033, 5.803534984588623, 5.04798698425293, 5.217706680297852, 4.958736419677734, 4.979433536529541, 12.253813743591309, 4.226268768310547, 4.13396692276001, 4.134324550628662, 4.127679824829102, 4.128746032714844, 4.127144813537598, 4.126833915710449, 4.12683629989624, 4.1490559577941895, 4.140899658203125, 10.13548755645752, 3.6108310222625732, 3.6099607944488525, 3.598081350326538, 7.3918633460998535, 26.527585983276367, 339.81988525390625, 92.99665832519531, 305.2392272949219, 12.984270095825195, 226.84805297851562, 32.27174758911133, 18.673667907714844, 10.337986946105957, 6.655015468597412, 119.7122573852539, 6.705398082733154, 19.32949447631836, 118.25619506835938, 83.77154541015625, 25.741233825683594, 18.47098731994629, 37.56252670288086, 34.01372528076172, 101.85609436035156, 27.224567413330078, 20.435325622558594, 130.77793884277344, 289.0836486816406, 196.9733428955078, 60.23362731933594, 83.65374755859375, 183.04710388183594, 141.5681610107422, 493.0002746582031, 199.92201232910156, 80.72354125976562, 199.21180725097656, 101.76338958740234, 113.62732696533203, 207.61778259277344, 173.06422424316406, 200.37196350097656, 172.59349060058594, 181.40013122558594, 125.49879455566406, 65.17716217041016, 77.09100341796875, 61.292484283447266, 10.402237892150879, 10.448741912841797, 6.801116943359375, 6.320146083831787, 6.218491077423096, 5.5689473152160645, 4.406980991363525, 4.356914043426514, 4.955699920654297, 4.201931953430176, 107.73340606689453, 3.934239149093628, 3.678267240524292, 3.6754305362701416, 3.6673617362976074, 3.625131607055664, 21.765968322753906, 3.208883762359619, 3.183115243911743, 2.9904210567474365, 2.9907989501953125, 2.972090482711792, 81.42829132080078, 2.7085981369018555, 2.6999213695526123, 4.444229602813721, 2.475698709487915, 2.4744458198547363, 9.350577354431152, 2.4638423919677734, 477.9510803222656, 26.235923767089844, 9.900334358215332, 15.528786659240723, 178.89744567871094, 180.53834533691406, 428.7660217285156, 146.5894317626953, 137.67845153808594, 180.61663818359375, 12.999186515808105, 72.3542251586914, 45.43982696533203, 33.34424591064453, 9.210010528564453, 16.56972885131836, 17.054885864257812, 36.885780334472656, 24.004735946655273, 15.314739227294922, 24.038936614990234, 49.41648483276367, 51.46489715576172, 78.13597106933594, 37.092716217041016, 36.51835250854492, 27.434913635253906, 272.6553649902344, 141.52676391601562, 134.5109405517578, 332.8489990234375, 56.4165153503418, 51.278263092041016, 31.4022274017334, 187.9562530517578, 207.3523712158203, 90.49109649658203, 80.05745697021484, 67.17342376708984, 54.24012756347656, 89.9081039428711, 80.95209503173828, 70.76818084716797, 53.961551666259766, 48.7448844909668, 49.04134750366211, 108.42345428466797, 31.205097198486328, 12.16226577758789, 8.321893692016602, 8.006707191467285, 6.6717939376831055, 6.663499355316162, 13.873294830322266, 6.167323112487793, 5.847926139831543, 5.838854789733887, 16.709915161132812, 88.88162231445312, 5.068980693817139, 6.130524635314941, 8.97244930267334, 4.672863960266113, 6.470861434936523, 4.10857629776001, 4.87718391418457, 8.629323959350586, 3.8398423194885254, 3.837125778198242, 3.8345530033111572, 3.8179240226745605, 3.8124682903289795, 3.7628281116485596, 4.200281143188477, 3.7345869541168213, 3.3533401489257812, 31.68984603881836, 22.8287296295166, 8.47905445098877, 9.640497207641602, 9.273414611816406, 26.09370231628418, 874.6761474609375, 6.197967052459717, 6.490366458892822, 40.70320510864258, 50.24020004272461, 34.9850959777832, 34.44136428833008, 178.3572235107422, 34.75628662109375, 20.22722053527832, 11.626855850219727, 21.956470489501953, 184.63832092285156, 257.8293762207031, 101.40692901611328, 93.2632064819336, 43.47869110107422, 68.7412338256836, 34.269161224365234, 137.86129760742188, 79.09288024902344, 118.24307250976562, 46.53202819824219, 31.386119842529297, 285.38201904296875, 61.5693359375, 38.47492599487305, 65.53598022460938, 56.53001403808594, 118.92022705078125, 84.36498260498047, 82.65238952636719, 43.62690353393555, 69.88816833496094, 63.55510711669922, 52.226402282714844, 37.123817443847656, 39.06641387939453, 41.97129440307617, 14.50178050994873, 295.72613525390625, 11.379256248474121, 13.804536819458008, 8.117708206176758, 197.0450439453125, 4.820350646972656, 4.982640266418457, 5.502082824707031, 32.81996154785156, 53.79902648925781, 1686.0684814453125, 4.379673480987549, 4.159181594848633, 756.61865234375, 3.7775778770446777, 3.757734775543213, 3.7455320358276367, 1366.640625, 3.3819668292999268, 3.157895565032959, 3.157388687133789, 3.1508853435516357, 3.1452395915985107, 376.811279296875, 4.15216588973999, 6.745076656341553, 158.27792358398438, 7.069972038269043, 52.34434127807617, 108.10295104980469, 179.18421936035156, 34.03861999511719, 109.61229705810547, 1950.0384521484375, 43.888458251953125, 1572.1285400390625, 523.4811401367188, 583.5775756835938, 240.30490112304688, 38.61640167236328, 52.652347564697266, 29.95522117614746, 88.08726501464844, 129.76693725585938, 82.503173828125, 404.4372253417969, 1448.953857421875, 743.4310302734375, 268.7906494140625, 200.12001037597656, 93.23206329345703, 217.97731018066406, 130.38009643554688, 114.33372497558594, 399.2435607910156, 82.09423828125, 116.1298828125, 118.13671875, 105.61588287353516, 92.28507232666016], \"Term\": [\"good\", \"great\", \"price\", \"work\", \"product\", \"long\", \"old\", \"tablet\", \"year\", \"love\", \"size\", \"screen\", \"brand\", \"bought\", \"fast\", \"buy\", \"ipad\", \"best\", \"read\", \"like\", \"amazon\", \"son\", \"recommend\", \"time\", \"use\", \"perfect\", \"children\", \"better\", \"alexa\", \"nice\", \"asleep\", \"prefect\", \"rhythm\", \"safeguard\", \"circadian\", \"bang\", \"buck\", \"ty\", \"resist\", \"size\", \"conceal\", \"lovin\", \"sleek\", \"bedroom\", \"tuck\", \"reg\", \"redesign\", \"quieter\", \"daugter\", \"pare\", \"oonz\", \"hover\", \"assumwd\", \"sport\", \"onext\", \"brightest\", \"bloat\", \"traditionalist\", \"distinguish\", \"golden\", \"grown\", \"protect\", \"ya\", \"setup\", \"coat\", \"bonus\", \"color\", \"enjoy\", \"blue\", \"inch\", \"perfect\", \"right\", \"kid\", \"nice\", \"travel\", \"screen\", \"hdx\", \"proof\", \"bed\", \"useful\", \"design\", \"mode\", \"use\", \"black\", \"small\", \"hand\", \"tablet\", \"clear\", \"light\", \"hd\", \"great\", \"love\", \"friday\", \"case\", \"set\", \"new\", \"phone\", \"got\", \"life\", \"amazon\", \"time\", \"read\", \"ray\", \"superb\", \"correct\", \"sooo\", \"getjar\", \"beat\", \"cent\", \"vac\", \"habit\", \"depth\", \"headstart\", \"theach\", \"phooey\", \"hugh\", \"baskey\", \"wheni\", \"jissela\", \"restock\", \"mainstream\", \"ikea\", \"pove\", \"usr\", \"lacka\", \"beet\", \"cvs\", \"mag\", \"row\", \"ratio\", \"tad\", \"samaumg\", \"price\", \"great\", \"deal\", \"point\", \"pic\", \"tech\", \"buy\", \"product\", \"gift\", \"worth\", \"nook\", \"best\", \"fresh\", \"long\", \"low\", \"alot\", \"right\", \"tablet\", \"stuff\", \"mother\", \"sale\", \"decent\", \"love\", \"recommend\", \"use\", \"life\", \"high\", \"solid\", \"haven\", \"amazon\", \"nice\", \"need\", \"good\", \"better\", \"bought\", \"lot\", \"clearer\", \"binder\", \"draw\", \"excelent\", \"crisper\", \"stood\", \"visual\", \"sleeker\", \"clutter\", \"kindel\", \"macbook\", \"metal\", \"grey\", \"grader\", \"tree\", \"screed\", \"stone\", \"insulin\", \"cooler\", \"slip\", \"bleed\", \"odd\", \"wet\", \"refresh\", \"angel\", \"soooooo\", \"phablet\", \"pokemon\", \"mtv\", \"soft\", \"backlit\", \"laptop\", \"current\", \"bigger\", \"th\", \"slight\", \"quicker\", \"swipe\", \"rd\", \"font\", \"page\", \"model\", \"gen\", \"better\", \"screen\", \"smaller\", \"flash\", \"turn\", \"shut\", \"version\", \"high\", \"spend\", \"faster\", \"larger\", \"touch\", \"latest\", \"need\", \"hold\", \"older\", \"keyboard\", \"new\", \"option\", \"feel\", \"camera\", \"hd\", \"ve\", \"like\", \"look\", \"previous\", \"best\", \"amazon\", \"nice\", \"case\", \"read\", \"money\", \"recommend\", \"use\", \"good\", \"love\", \"matthew\", \"dish\", \"nvidia\", \"ur\", \"ecosystem\", \"surf\", \"att\", \"iceland\", \"rain\", \"vlc\", \"shield\", \"withstand\", \"insignia\", \"cake\", \"hbo\", \"hulu\", \"root\", \"flag\", \"foray\", \"hack\", \"patient\", \"prime\", \"dreamtab\", \"custom\", \"portal\", \"netflix\", \"wikipedia\", \"goog\", \"wanna\", \"slr\", \"member\", \"fault\", \"account\", \"player\", \"email\", \"meant\", \"link\", \"claim\", \"membership\", \"web\", \"microsd\", \"adult\", \"hd\", \"amazon\", \"heard\", \"gb\", \"watch\", \"friday\", \"paid\", \"sale\", \"tablet\", \"load\", \"want\", \"play\", \"black\", \"app\", \"trip\", \"access\", \"ipad\", \"bought\", \"store\", \"user\", \"android\", \"use\", \"card\", \"great\", \"internet\", \"money\", \"price\", \"download\", \"got\", \"best\", \"free\", \"good\", \"read\", \"like\", \"recommend\", \"kirkland\", \"mah\", \"ma\", \"acdelco\", \"duracel\", \"span\", \"coppertop\", \"rayovac\", \"perform\", \"yeah\", \"firestick\", \"motion\", \"wii\", \"thank\", \"center\", \"aaa\", \"rt\", \"disch\", \"rc\", \"scale\", \"yup\", \"blister\", \"knack\", \"tomorrow\", \"drug\", \"burnt\", \"unbox\", \"led\", \"lithium\", \"march\", \"aa\", \"tester\", \"pack\", \"brand\", \"generic\", \"dead\", \"short\", \"shorter\", \"smoke\", \"cost\", \"power\", \"xbox\", \"win\", \"ve\", \"idea\", \"ll\", \"fraction\", \"test\", \"tell\", \"box\", \"amazon\", \"half\", \"costco\", \"longer\", \"shelf\", \"long\", \"life\", \"haven\", \"low\", \"time\", \"big\", \"think\", \"like\", \"lot\", \"better\", \"use\", \"gift\", \"far\", \"buy\", \"price\", \"love\", \"ebook\", \"quad\", \"vision\", \"pintrest\", \"worm\", \"lte\", \"leg\", \"strain\", \"carrier\", \"australia\", \"watcher\", \"snappier\", \"straightforward\", \"whilst\", \"ear\", \"smooth\", \"core\", \"mindless\", \"ar\", \"morn\", \"brainier\", \"grownup\", \"usin\", \"contorl\", \"visa\", \"ration\", \"heft\", \"marketchild\", \"adapt\", \"interact\", \"paper\", \"reader\", \"input\", \"book\", \"micro\", \"lil\", \"sd\", \"ok\", \"card\", \"white\", \"read\", \"grand\", \"backlight\", \"slot\", \"easier\", \"mail\", \"internet\", \"audio\", \"weight\", \"check\", \"lighter\", \"dad\", \"text\", \"transfer\", \"add\", \"tablet\", \"rough\", \"avid\", \"daughter\", \"space\", \"light\", \"facebook\", \"play\", \"access\", \"use\", \"great\", \"love\", \"wife\", \"clear\", \"new\", \"screen\", \"fast\", \"far\", \"like\", \"bought\", \"need\", \"nice\", \"amazon\", \"lot\", \"charm\", \"station\", \"steelbook\", \"young\", \"byod\", \"howto\", \"exam\", \"hide\", \"seller\", \"fo\", \"namebrand\", \"rectangular\", \"disappear\", \"kiosk\", \"menial\", \"trys\", \"death\", \"gun\", \"partial\", \"pumper\", \"goodidn\", \"squarish\", \"sone\", \"extent\", \"bland\", \"hidden\", \"boredom\", \"anyday\", \"clerk\", \"children\", \"item\", \"product\", \"pool\", \"entertain\", \"tool\", \"recommend\", \"met\", \"dauther\", \"dog\", \"starter\", \"understand\", \"platform\", \"weren\", \"like\", \"friend\", \"great\", \"kept\", \"learn\", \"wonderful\", \"particular\", \"water\", \"fit\", \"tablet\", \"previous\", \"use\", \"feel\", \"child\", \"time\", \"small\", \"person\", \"web\", \"case\", \"husband\", \"amazon\", \"control\", \"nice\", \"play\", \"buy\", \"new\", \"way\", \"better\", \"vudu\", \"godson\", \"wizard\", \"town\", \"baught\", \"pw\", \"squad\", \"august\", \"daugther\", \"band\", \"bedt\", \"sega\", \"address\", \"rival\", \"breaker\", \"allot\", \"blood\", \"shown\", \"renew\", \"prone\", \"defect\", \"seal\", \"quetion\", \"mgr\", \"jerk\", \"shatter\", \"appschild\", \"llite\", \"stair\", \"soo\", \"told\", \"social\", \"lantern\", \"rear\", \"bumper\", \"weak\", \"best\", \"geek\", \"robust\", \"help\", \"came\", \"rep\", \"went\", \"buy\", \"media\", \"camera\", \"sister\", \"lost\", \"group\", \"fix\", \"kid\", \"hour\", \"set\", \"timer\", \"time\", \"store\", \"lol\", \"free\", \"took\", \"said\", \"day\", \"got\", \"use\", \"year\", \"bought\", \"far\", \"amazon\", \"new\", \"old\", \"great\", \"love\", \"tablet\", \"hd\", \"product\", \"play\", \"good\", \"like\", \"come\", \"highest\", \"alexia\", \"good\", \"mesh\", \"iam\", \"wrath\", \"contain\", \"earth\", \"washer\", \"dryer\", \"cam\", \"lifw\", \"keeper\", \"session\", \"hub\", \"fancier\", \"kathleen\", \"stroyek\", \"barley\", \"fox\", \"easyto\", \"spill\", \"hug\", \"tmtis\", \"interior\", \"lg\", \"dude\", \"smell\", \"mexico\", \"salesgirl\", \"til\", \"famous\", \"fort\", \"money\", \"far\", \"solid\", \"halloween\", \"price\", \"common\", \"deal\", \"basic\", \"major\", \"bad\", \"backup\", \"decent\", \"lot\", \"nice\", \"buy\", \"quick\", \"long\", \"tablet\", \"worth\", \"brand\", \"tag\", \"feel\", \"start\", \"tell\", \"need\", \"life\", \"cheap\", \"like\", \"haven\", \"time\", \"video\", \"better\", \"cheaper\", \"amazon\", \"great\", \"echo\", \"speaker\", \"tap\", \"dot\", \"bluetooth\", \"alexa\", \"hang\", \"pandora\", \"deck\", \"fi\", \"newstand\", \"reward\", \"wi\", \"bass\", \"repossess\", \"siri\", \"fed\", \"gf\", \"nt\", \"dock\", \"gleeful\", \"chipper\", \"wad\", \"hitch\", \"mere\", \"carpal\", \"spin\", \"slik\", \"outlet\", \"connect\", \"sound\", \"speak\", \"menu\", \"word\", \"button\", \"playback\", \"hate\", \"music\", \"drag\", \"press\", \"home\", \"base\", \"talk\", \"listen\", \"fun\", \"respond\", \"free\", \"wifi\", \"limit\", \"app\", \"time\", \"weather\", \"view\", \"radio\", \"amazon\", \"ask\", \"thought\", \"phone\", \"thing\", \"use\", \"play\", \"great\", \"set\", \"like\", \"love\", \"nice\", \"good\", \"tablet\", \"login\", \"origami\", \"cast\", \"grandpa\", \"jacket\", \"booklet\", \"snap\", \"palm\", \"foot\", \"childproof\", \"backward\", \"lay\", \"toast\", \"tot\", \"citizen\", \"housework\", \"attract\", \"haptic\", \"audiobook\", \"unreal\", \"mix\", \"mobi\", \"trace\", \"sf\", \"maui\", \"align\", \"adhd\", \"worthless\", \"weekend\", \"infant\", \"everyday\", \"lap\", \"homework\", \"cord\", \"parent\", \"youngest\", \"boyfriend\", \"glass\", \"lunch\", \"charger\", \"port\", \"familiar\", \"plug\", \"lightweight\", \"boy\", \"school\", \"class\", \"senior\", \"child\", \"rubber\", \"cover\", \"sit\", \"safe\", \"set\", \"market\", \"week\", \"won\", \"turn\", \"use\", \"dark\", \"product\", \"case\", \"problem\", \"like\", \"help\", \"reader\", \"bought\", \"tablet\", \"page\", \"lot\", \"light\", \"time\", \"perfect\", \"best\", \"daughter\", \"need\", \"old\", \"buy\", \"year\", \"good\", \"logic\", \"clock\", \"brush\", \"ipod\", \"work\", \"nose\", \"sam\", \"yep\", \"score\", \"cds\", \"trimmer\", \"els\", \"forgotten\", \"wine\", \"cheep\", \"thermostat\", \"nomad\", \"hay\", \"cautious\", \"lighweight\", \"ixl\", \"tinier\", \"spoiler\", \"nextbook\", \"closer\", \"experiment\", \"nervous\", \"goggleplay\", \"whit\", \"bough\", \"warm\", \"shrink\", \"fine\", \"bulk\", \"cheap\", \"wouldnt\", \"cheaper\", \"happier\", \"ship\", \"club\", \"hair\", \"run\", \"bout\", \"red\", \"order\", \"couldn\", \"wont\", \"wrap\", \"ton\", \"twice\", \"pay\", \"junk\", \"premium\", \"way\", \"long\", \"brand\", \"stuff\", \"come\", \"better\", \"store\", \"great\", \"buy\", \"box\", \"like\", \"case\", \"far\", \"use\", \"bought\", \"good\", \"amazon\", \"price\", \"time\", \"sure\", \"lot\", \"know\", \"gripe\", \"blank\", \"jr\", \"hp\", \"thicker\", \"pdfs\", \"alight\", \"git\", \"repair\", \"boat\", \"mini\", \"ugh\", \"hammer\", \"tablett\", \"prof\", \"froze\", \"sooner\", \"lick\", \"robot\", \"batter\", \"adv\", \"headset\", \"os\", \"beef\", \"driven\", \"channel\", \"redbox\", \"stringer\", \"trash\", \"poloroid\", \"fast\", \"nexus\", \"upset\", \"hey\", \"slow\", \"android\", \"ipad\", \"wish\", \"bit\", \"longer\", \"wide\", \"unit\", \"die\", \"complain\", \"modern\", \"underground\", \"expand\", \"brought\", \"nabi\", \"holiday\", \"forward\", \"real\", \"toddler\", \"faster\", \"pad\", \"dont\", \"world\", \"like\", \"store\", \"life\", \"tablet\", \"run\", \"display\", \"fan\", \"use\", \"great\", \"better\", \"screen\", \"new\", \"download\", \"amazon\", \"good\", \"price\", \"play\", \"way\", \"bought\", \"\\u00e4\\u00f4t\", \"\\u00e4\\u00f4m\", \"paperback\", \"closet\", \"summer\", \"www\", \"https\", \"forth\", \"doa\", \"fat\", \"personnel\", \"period\", \"\\u00e4\\u00f4s\", \"taught\", \"street\", \"gold\", \"dp\", \"pace\", \"nbc\", \"relax\", \"heart\", \"ligher\", \"tabletyou\", \"autofocus\", \"craft\", \"werent\", \"dnt\", \"giant\", \"occur\", \"didon\", \"sunlight\", \"beach\", \"\\u00e4\\u00f9\", \"magic\", \"companion\", \"glare\", \"long\", \"deadbolt\", \"dud\", \"main\", \"compact\", \"date\", \"knew\", \"light\", \"stream\", \"copper\", \"spare\", \"yo\", \"read\", \"time\", \"big\", \"box\", \"review\", \"version\", \"wait\", \"got\", \"small\", \"life\", \"week\", \"yes\", \"great\", \"day\", \"wrong\", \"deal\", \"watch\", \"amazon\", \"bought\", \"use\", \"come\", \"love\", \"like\", \"product\", \"bad\", \"store\", \"tablet\", \"fianc\", \"yr\", \"hes\", \"autism\", \"fir\", \"age\", \"juju\", \"beaten\", \"dvd\", \"grandchild\", \"grandchildren\", \"old\", \"woo\", \"acess\", \"son\", \"dose\", \"homerun\", \"acct\", \"year\", \"blu\", \"map\", \"author\", \"dif\", \"whey\", \"grandson\", \"pickup\", \"layout\", \"birthday\", \"curfew\", \"brother\", \"nephew\", \"mom\", \"xmas\", \"present\", \"love\", \"pink\", \"bought\", \"daughter\", \"gift\", \"wife\", \"father\", \"law\", \"hasn\", \"mother\", \"older\", \"learn\", \"got\", \"tablet\", \"use\", \"perfect\", \"case\", \"second\", \"play\", \"watch\", \"kid\", \"great\", \"control\", \"set\", \"new\", \"lot\", \"download\"], \"Total\": [5300.0, 8697.0, 4637.0, 2151.0, 1940.0, 2204.0, 2055.0, 6857.0, 1723.0, 3344.0, 973.0, 1624.0, 1252.0, 3051.0, 662.0, 2096.0, 807.0, 1364.0, 1173.0, 2444.0, 3850.0, 937.0, 1066.0, 2072.0, 4361.0, 1123.0, 452.0, 1437.0, 335.0, 1167.0, 12.764047622680664, 8.131288528442383, 7.626612663269043, 7.6266326904296875, 7.626711845397949, 48.52603530883789, 52.06956100463867, 6.334191799163818, 11.306922912597656, 973.2701416015625, 5.397350311279297, 5.399343490600586, 24.19419288635254, 11.696089744567871, 4.539646625518799, 4.974213123321533, 4.284442901611328, 4.285301208496094, 4.283536911010742, 4.28165864944458, 4.281524658203125, 4.285053730010986, 4.285112380981445, 4.285466194152832, 4.285979270935059, 4.284666061401367, 5.397811412811279, 4.281321048736572, 4.099615573883057, 3.8544790744781494, 17.06531524658203, 39.56330490112305, 7.144750118255615, 135.6287384033203, 11.293465614318848, 42.781795501708984, 262.5235595703125, 353.2503967285156, 95.2279281616211, 147.0564727783203, 1123.390380859375, 482.3908996582031, 507.03662109375, 1167.45263671875, 173.63487243652344, 1624.822021484375, 42.17621612548828, 57.50105667114258, 55.00828552246094, 97.66519165039062, 98.17203521728516, 112.00048828125, 4361.2177734375, 281.330810546875, 485.31182861328125, 244.2980499267578, 6857.330078125, 266.6287841796875, 682.94677734375, 706.7119140625, 8697.66015625, 3344.30517578125, 210.20265197753906, 837.248046875, 810.386962890625, 955.47216796875, 321.5641784667969, 1227.7108154296875, 987.9265747070312, 3850.986083984375, 2072.166748046875, 1173.5079345703125, 23.762489318847656, 22.420774459838867, 8.699984550476074, 8.347521781921387, 5.728869915008545, 427.4596252441406, 5.348851680755615, 13.427763938903809, 5.0673508644104, 4.805939197540283, 4.53369140625, 4.53255558013916, 4.529492378234863, 4.533106327056885, 4.534313201904297, 4.528314590454102, 4.53354549407959, 5.349363803863525, 5.063658714294434, 4.614622116088867, 4.064757347106934, 4.070054054260254, 3.886087656021118, 3.878513813018799, 3.8774287700653076, 4.626523971557617, 3.872807741165161, 8.005369186401367, 11.926694869995117, 3.3366594314575195, 4637.13818359375, 8697.66015625, 765.7308349609375, 203.0897979736328, 9.513465881347656, 124.5932388305664, 2096.98388671875, 1940.511962890625, 1098.514892578125, 444.2318115234375, 106.44115447998047, 1364.746826171875, 35.22893142700195, 2204.580078125, 389.41229248046875, 85.51715087890625, 482.3908996582031, 6857.330078125, 205.99827575683594, 180.65936279296875, 259.91259765625, 265.4813537597656, 3344.30517578125, 1066.15185546875, 4361.2177734375, 987.9265747070312, 272.7355041503906, 100.3301010131836, 349.2569580078125, 3850.986083984375, 1167.45263671875, 904.0517578125, 5300.51171875, 1437.227783203125, 3051.876220703125, 915.0370483398438, 21.749998092651367, 10.883284568786621, 19.66135597229004, 10.789913177490234, 8.418661117553711, 8.217059135437012, 8.213591575622559, 8.216012001037598, 7.1731719970703125, 7.170544624328613, 7.533729553222656, 11.807352066040039, 7.449361324310303, 14.049016952514648, 14.535928726196289, 6.6928324699401855, 6.686234474182129, 6.291950225830078, 6.294708728790283, 13.326605796813965, 5.441228866577148, 16.588233947753906, 4.963587284088135, 5.697310447692871, 4.6796417236328125, 4.680587291717529, 4.6790547370910645, 4.67323112487793, 4.675673484802246, 26.971139907836914, 17.001678466796875, 219.1966552734375, 37.009544372558594, 197.6998748779297, 130.23583984375, 11.064016342163086, 27.7923583984375, 30.680631637573242, 70.2966079711914, 41.165626525878906, 203.14772033691406, 230.36532592773438, 28.911561965942383, 1437.227783203125, 1624.822021484375, 171.35629272460938, 47.51032257080078, 225.72052001953125, 35.79149627685547, 326.9453430175781, 272.7355041503906, 155.9602813720703, 257.6638488769531, 188.60067749023438, 180.9513702392578, 56.486778259277344, 904.0517578125, 338.0711975097656, 297.65936279296875, 174.0584259033203, 955.47216796875, 165.15841674804688, 200.97348022460938, 392.0166320800781, 706.7119140625, 927.7880249023438, 2444.50439453125, 250.5853271484375, 200.11721801757812, 1364.746826171875, 3850.986083984375, 1167.45263671875, 837.248046875, 1173.5079345703125, 709.1653442382812, 1066.15185546875, 4361.2177734375, 5300.51171875, 3344.30517578125, 9.483598709106445, 9.312390327453613, 9.070116996765137, 8.827512741088867, 31.640459060668945, 81.37610626220703, 7.478178024291992, 7.480208873748779, 9.525705337524414, 7.736565113067627, 7.310064315795898, 7.059974670410156, 6.6429619789123535, 7.131952285766602, 6.410516738891602, 38.333457946777344, 5.99157190322876, 5.3018975257873535, 5.557057857513428, 5.30213737487793, 5.132933139801025, 457.2998352050781, 4.873234748840332, 4.886104583740234, 4.883718490600586, 281.5692443847656, 4.4619598388671875, 4.467052459716797, 5.81015682220459, 4.212021827697754, 132.86767578125, 20.87166404724121, 234.42405700683594, 26.733110427856445, 177.5648651123047, 21.07837677001953, 26.49188232421875, 17.24338150024414, 33.29648208618164, 297.6436767578125, 26.07006072998047, 101.62042999267578, 706.7119140625, 3850.986083984375, 46.11650466918945, 300.3785705566406, 528.064697265625, 210.20265197753906, 111.52594757080078, 259.91259765625, 6857.330078125, 161.51303100585938, 558.1173706054688, 1188.218017578125, 281.330810546875, 550.097412109375, 89.63155364990234, 427.2679748535156, 807.7012329101562, 3051.876220703125, 982.7421875, 350.34320068359375, 316.3292541503906, 4361.2177734375, 292.2261047363281, 8697.66015625, 492.7019348144531, 709.1653442382812, 4637.13818359375, 501.53289794921875, 1227.7108154296875, 1364.746826171875, 660.1878662109375, 5300.51171875, 1173.5079345703125, 2444.50439453125, 1066.15185546875, 40.342193603515625, 28.591350555419922, 24.66696548461914, 23.670337677001953, 24.56104850769043, 39.83579635620117, 12.766775131225586, 57.439449310302734, 107.63490295410156, 16.17637062072754, 13.237833976745605, 26.085966110229492, 26.862539291381836, 204.27301025390625, 7.7259721755981445, 371.8764343261719, 6.8738226890563965, 6.874153137207031, 12.565696716308594, 20.373291015625, 11.48763370513916, 7.804703235626221, 5.780651569366455, 8.68664264678955, 9.608743667602539, 5.84962272644043, 5.157402038574219, 111.9167709350586, 23.641738891601562, 13.866450309753418, 477.6080017089844, 26.38373374938965, 357.0730895996094, 1252.47998046875, 52.55351638793945, 178.07852172851562, 163.99050903320312, 32.01070022583008, 29.92840003967285, 448.234619140625, 366.2032470703125, 166.00514221191406, 63.65357208251953, 927.7880249023438, 89.27835083007812, 358.6675720214844, 106.35625457763672, 101.84310150146484, 232.03648376464844, 455.77581787109375, 3850.986083984375, 182.61264038085938, 82.2310791015625, 439.599609375, 86.83072662353516, 2204.580078125, 987.9265747070312, 349.2569580078125, 389.41229248046875, 2072.166748046875, 502.33160400390625, 445.9018249511719, 2444.50439453125, 915.0370483398438, 1437.227783203125, 4361.2177734375, 1098.514892578125, 1157.074951171875, 2096.98388671875, 4637.13818359375, 3344.30517578125, 30.666086196899414, 10.522887229919434, 8.88404655456543, 7.333636283874512, 6.26755952835083, 6.272667407989502, 6.345824241638184, 23.716821670532227, 6.574049949645996, 5.202036380767822, 5.202351093292236, 5.2013678550720215, 4.790290832519531, 4.792825222015381, 4.788253307342529, 41.153404235839844, 11.648308753967285, 4.379006862640381, 4.381750106811523, 4.137321949005127, 4.137393951416016, 4.137789726257324, 4.137794017791748, 4.136662483215332, 4.140869617462158, 4.1407790184021, 4.1409525871276855, 4.1407623291015625, 4.137807369232178, 4.13755464553833, 69.71549987792969, 465.47210693359375, 9.11281967163086, 344.013427734375, 81.03565979003906, 13.606574058532715, 174.85137939453125, 294.04693603515625, 292.2261047363281, 95.26490783691406, 1173.5079345703125, 169.82025146484375, 38.9197998046875, 51.215579986572266, 301.3290710449219, 44.790740966796875, 492.7019348144531, 68.79701232910156, 181.7709197998047, 146.10877990722656, 86.25679016113281, 73.91997528076172, 73.9301986694336, 27.168617248535156, 189.11773681640625, 6857.330078125, 50.89186096191406, 59.1435546875, 941.134521484375, 182.50828552246094, 682.94677734375, 134.14378356933594, 1188.218017578125, 427.2679748535156, 4361.2177734375, 8697.66015625, 3344.30517578125, 433.8585205078125, 266.6287841796875, 955.47216796875, 1624.822021484375, 662.2927856445312, 1157.074951171875, 2444.50439453125, 3051.876220703125, 904.0517578125, 1167.45263671875, 3850.986083984375, 915.0370483398438, 13.823033332824707, 19.48484992980957, 7.833524227142334, 175.5906982421875, 5.532034873962402, 5.532057762145996, 5.536527633666992, 6.069509506225586, 20.212377548217773, 5.093628883361816, 5.171186447143555, 5.0926313400268555, 4.640474796295166, 4.3870720863342285, 4.387074947357178, 4.3870954513549805, 4.652219772338867, 4.919955253601074, 4.389669895172119, 4.387612342834473, 4.388326644897461, 4.389360427856445, 4.383513927459717, 6.272340774536133, 3.9452037811279297, 3.9420859813690186, 3.946596384048462, 3.944761037826538, 3.945561170578003, 452.9365539550781, 391.0403747558594, 1940.511962890625, 14.299638748168945, 12.77578067779541, 115.77789306640625, 1066.15185546875, 42.712890625, 10.7931489944458, 21.49918556213379, 63.5615234375, 92.78040313720703, 25.49858283996582, 16.012592315673828, 2444.50439453125, 122.92335510253906, 8697.66015625, 92.75924682617188, 174.65011596679688, 164.043701171875, 19.993043899536133, 25.010482788085938, 143.22752380371094, 6857.330078125, 200.11721801757812, 4361.2177734375, 200.97348022460938, 499.9959716796875, 2072.166748046875, 485.31182861328125, 101.16702270507812, 297.6436767578125, 837.248046875, 170.14492797851562, 3850.986083984375, 264.3094482421875, 1167.45263671875, 1188.218017578125, 2096.98388671875, 955.47216796875, 617.3174438476562, 1437.227783203125, 10.963306427001953, 9.357834815979004, 8.64147663116455, 11.661317825317383, 7.929300308227539, 7.374997615814209, 46.893226623535156, 9.658306121826172, 10.235640525817871, 11.215408325195312, 5.601276397705078, 5.601772785186768, 5.415684700012207, 5.412905216217041, 5.151756763458252, 5.146838665008545, 5.9495391845703125, 22.56627082824707, 4.686437129974365, 4.6994757652282715, 5.163719654083252, 4.515616416931152, 4.437102317810059, 4.436753749847412, 4.436748027801514, 4.4366559982299805, 4.434969425201416, 4.434575080871582, 4.437361240386963, 4.435816287994385, 79.18411254882812, 59.477718353271484, 6.718247890472412, 38.67399597167969, 80.89762115478516, 33.963134765625, 1364.746826171875, 55.622406005859375, 15.129441261291504, 193.89218139648438, 321.9486999511719, 9.529829978942871, 221.25999450683594, 2096.98388671875, 108.27899932861328, 392.0166320800781, 107.56114196777344, 54.73683547973633, 20.923967361450195, 50.809539794921875, 507.03662109375, 81.21769714355469, 810.386962890625, 41.681236267089844, 2072.166748046875, 982.7421875, 73.41500854492188, 660.1878662109375, 192.46343994140625, 205.67251586914062, 450.61407470703125, 1227.7108154296875, 4361.2177734375, 1723.0390625, 3051.876220703125, 1157.074951171875, 3850.986083984375, 955.47216796875, 2055.724853515625, 8697.66015625, 3344.30517578125, 6857.330078125, 706.7119140625, 1940.511962890625, 1188.218017578125, 5300.51171875, 2444.50439453125, 347.2620849609375, 12.800536155700684, 5.552210330963135, 5300.51171875, 6.7899580001831055, 4.819976806640625, 4.549389362335205, 4.623230457305908, 4.625000953674316, 4.55514669418335, 5.304804801940918, 4.361303806304932, 4.086534023284912, 4.084151744842529, 4.794053077697754, 3.6151626110076904, 3.6013259887695312, 3.3480136394500732, 3.3480067253112793, 3.3460373878479004, 3.346034049987793, 3.334261178970337, 3.3336315155029297, 3.348057270050049, 3.3414626121520996, 3.155665159225464, 12.118677139282227, 3.1546409130096436, 2.883941411972046, 2.8829593658447266, 2.8794875144958496, 5.5371294021606445, 4.703429222106934, 5.14812707901001, 709.1653442382812, 1157.074951171875, 100.3301010131836, 9.524152755737305, 4637.13818359375, 19.602279663085938, 765.7308349609375, 326.5389404296875, 112.40003204345703, 268.6870422363281, 32.68142318725586, 265.4813537597656, 915.0370483398438, 1167.45263671875, 2096.98388671875, 167.25625610351562, 2204.580078125, 6857.330078125, 444.2318115234375, 1252.47998046875, 35.06623458862305, 200.97348022460938, 134.23678588867188, 232.03648376464844, 904.0517578125, 987.9265747070312, 528.0396118164062, 2444.50439453125, 349.2569580078125, 2072.166748046875, 231.00173950195312, 1437.227783203125, 422.6546936035156, 3850.986083984375, 8697.66015625, 237.83970642089844, 229.12123107910156, 246.7735137939453, 50.84641647338867, 133.85450744628906, 335.7049560546875, 20.774213790893555, 18.38614273071289, 16.452627182006836, 46.587772369384766, 13.703737258911133, 8.351737976074219, 51.016475677490234, 14.834028244018555, 7.03802490234375, 6.619119167327881, 6.218391418457031, 5.71561336517334, 5.717934608459473, 4.998804092407227, 4.907436847686768, 4.906614303588867, 4.902603626251221, 4.900722980499268, 4.907341957092285, 5.201737403869629, 5.201599597930908, 5.201773166656494, 15.706657409667969, 105.06712341308594, 392.8345031738281, 28.161226272583008, 40.17686462402344, 36.2149658203125, 156.46597290039062, 13.63011360168457, 49.38240051269531, 503.6438903808594, 7.761558532714844, 47.230377197265625, 311.1391296386719, 35.65310287475586, 48.04510498046875, 128.22952270507812, 286.11090087890625, 25.334007263183594, 660.1878662109375, 291.8731384277344, 117.05314636230469, 550.097412109375, 2072.166748046875, 60.20949172973633, 72.75811004638672, 52.950897216796875, 3850.986083984375, 107.28961944580078, 305.00079345703125, 321.5641784667969, 448.6215515136719, 4361.2177734375, 1188.218017578125, 8697.66015625, 810.386962890625, 2444.50439453125, 3344.30517578125, 1167.45263671875, 5300.51171875, 6857.330078125, 10.92783260345459, 11.268113136291504, 8.672223091125488, 7.727568626403809, 9.11140251159668, 7.3058762550354, 23.152118682861328, 6.1577277183532715, 5.975286483764648, 6.8358845710754395, 5.72614860534668, 5.715991497039795, 5.469066143035889, 5.473581790924072, 9.209917068481445, 5.016936779022217, 5.027255058288574, 5.0287251472473145, 5.02507209777832, 5.024531364440918, 5.727090358734131, 4.331830024719238, 4.333047866821289, 4.331650257110596, 4.33163595199585, 4.332675457000732, 4.329397678375244, 12.26251220703125, 7.305952072143555, 3.8964366912841797, 115.6767807006836, 22.18744468688965, 38.27366638183594, 59.23942184448242, 89.70844268798828, 38.92565155029297, 15.173665046691895, 17.81337547302246, 12.530330657958984, 169.5904541015625, 103.70280456542969, 19.47745132446289, 90.05686950683594, 153.9642333984375, 41.52976989746094, 185.19412231445312, 46.2834358215332, 15.853032112121582, 499.9959716796875, 45.590816497802734, 257.1568908691406, 26.12545394897461, 110.04910278320312, 810.386962890625, 106.76383209228516, 202.80667114257812, 255.74124145507812, 225.72052001953125, 4361.2177734375, 53.055049896240234, 1940.511962890625, 837.248046875, 322.1019287109375, 2444.50439453125, 193.89218139648438, 465.47210693359375, 3051.876220703125, 6857.330078125, 203.14772033691406, 915.0370483398438, 682.94677734375, 2072.166748046875, 1123.390380859375, 1364.746826171875, 941.134521484375, 904.0517578125, 2055.724853515625, 2096.98388671875, 1723.0390625, 5300.51171875, 18.618667602539062, 53.49020767211914, 9.260658264160156, 18.300527572631836, 2151.6328125, 8.636114120483398, 8.402660369873047, 8.40489673614502, 7.276395320892334, 6.759659767150879, 6.761504650115967, 5.936124801635742, 6.140113830566406, 5.840974807739258, 5.921209812164307, 14.690689086914062, 5.104729652404785, 5.009580135345459, 5.011048793792725, 5.003293991088867, 5.008357524871826, 5.008544921875, 5.009654521942139, 5.0096635818481445, 5.088635444641113, 5.0905632972717285, 12.557718276977539, 4.486444473266602, 4.485574245452881, 4.473695755004883, 9.233499526977539, 34.43056869506836, 526.5740966796875, 142.030029296875, 528.0396118164062, 17.445951461791992, 422.6546936035156, 53.732505798339844, 29.098731994628906, 14.659233093261719, 8.735013961791992, 271.98089599609375, 8.899805068969727, 31.902484893798828, 298.3825988769531, 197.87229919433594, 47.45896530151367, 31.032217025756836, 77.38468933105469, 69.7020492553711, 298.0146179199219, 56.08957290649414, 37.700767517089844, 617.3174438476562, 2204.580078125, 1252.47998046875, 205.99827575683594, 347.2620849609375, 1437.227783203125, 982.7421875, 8697.66015625, 2096.98388671875, 455.77581787109375, 2444.50439453125, 837.248046875, 1157.074951171875, 4361.2177734375, 3051.876220703125, 5300.51171875, 3850.986083984375, 4637.13818359375, 2072.166748046875, 410.6444091796875, 915.0370483398438, 422.9103088378906, 11.418654441833496, 11.590291976928711, 7.719351768493652, 7.2531232833862305, 7.238644123077393, 6.51238489151001, 5.309613227844238, 5.298793792724609, 6.027524948120117, 5.1151275634765625, 132.15975952148438, 4.839437007904053, 4.566623210906982, 4.565913200378418, 4.565364837646484, 4.560691833496094, 27.498130798339844, 4.099344730377197, 4.091557025909424, 3.907294511795044, 3.9094009399414062, 3.904649257659912, 108.20038604736328, 3.629537582397461, 3.6285624504089355, 6.030096530914307, 3.3591487407684326, 3.357795476913452, 12.703394889831543, 3.354088306427002, 662.2927856445312, 36.59395217895508, 13.81649112701416, 21.913352966308594, 288.4111022949219, 316.3292541503906, 807.7012329101562, 286.5901794433594, 300.51739501953125, 439.599609375, 20.74758529663086, 156.12705993652344, 95.52445220947266, 69.06426239013672, 14.152920722961426, 29.614519119262695, 30.86490821838379, 82.08377075195312, 47.6510009765625, 27.046382904052734, 49.74222183227539, 132.12860107421875, 139.80763244628906, 257.6638488769531, 92.71288299560547, 93.24797058105469, 64.68632507324219, 2444.50439453125, 982.7421875, 987.9265747070312, 6857.330078125, 271.98089599609375, 231.35986328125, 95.59681701660156, 4361.2177734375, 8697.66015625, 1437.227783203125, 1624.822021484375, 955.47216796875, 501.53289794921875, 3850.986083984375, 5300.51171875, 4637.13818359375, 1188.218017578125, 617.3174438476562, 3051.876220703125, 111.27346801757812, 32.428871154785156, 13.411867141723633, 9.440481185913086, 9.085537910461426, 7.625097751617432, 7.6267008781433105, 15.982987403869629, 7.124851226806641, 6.758428573608398, 6.765437126159668, 19.391983032226562, 104.54588317871094, 5.980157375335693, 7.264590263366699, 10.696535110473633, 5.592778205871582, 7.798411846160889, 5.01637077331543, 5.965509414672852, 10.566374778747559, 4.728550434112549, 4.726043701171875, 4.727909088134766, 4.720842361450195, 4.722964286804199, 4.714041709899902, 5.279595851898193, 4.7116851806640625, 4.2406086921691895, 40.621002197265625, 30.160242080688477, 10.88794994354248, 12.438262939453125, 12.507441520690918, 40.31972885131836, 2204.580078125, 8.133596420288086, 8.610848426818848, 73.89485168457031, 102.84260559082031, 66.86438751220703, 72.20064544677734, 682.94677734375, 82.89154052734375, 41.73867416381836, 18.570119857788086, 47.66787338256836, 1173.5079345703125, 2072.166748046875, 502.33160400390625, 455.77581787109375, 149.0924072265625, 326.9453430175781, 108.26593017578125, 1227.7108154296875, 485.31182861328125, 987.9265747070312, 202.80667114257812, 110.4137191772461, 8697.66015625, 450.61407470703125, 199.55262756347656, 765.7308349609375, 528.064697265625, 3850.986083984375, 3051.876220703125, 4361.2177734375, 347.2620849609375, 3344.30517578125, 2444.50439453125, 1940.511962890625, 268.6870422363281, 982.7421875, 6857.330078125, 15.479771614074707, 316.97955322265625, 12.391104698181152, 15.130990982055664, 9.08350658416748, 225.71487426757812, 5.731462478637695, 5.977445602416992, 6.629283905029297, 39.672706604003906, 65.11023712158203, 2055.724853515625, 5.341819763183594, 5.083386421203613, 937.0042724609375, 4.697601795196533, 4.6966962814331055, 4.7034687995910645, 1723.0390625, 4.291582107543945, 4.0553975105285645, 4.057019233703613, 4.058368682861328, 4.051437854766846, 485.93804931640625, 5.359101295471191, 8.7393798828125, 205.1352996826172, 9.183034896850586, 68.58116912841797, 148.2119140625, 257.15484619140625, 47.144752502441406, 161.10772705078125, 3344.30517578125, 62.734230041503906, 3051.876220703125, 941.134521484375, 1098.514892578125, 433.8585205078125, 60.81214904785156, 88.32213592529297, 49.364715576171875, 180.65936279296875, 297.65936279296875, 174.65011596679688, 1227.7108154296875, 6857.330078125, 4361.2177734375, 1123.390380859375, 837.248046875, 263.9331970214844, 1188.218017578125, 528.064697265625, 507.03662109375, 8697.66015625, 264.3094482421875, 810.386962890625, 955.47216796875, 915.0370483398438, 501.53289794921875], \"loglift\": [30.0, 29.0, 28.0, 27.0, 26.0, 25.0, 24.0, 23.0, 22.0, 21.0, 20.0, 19.0, 18.0, 17.0, 16.0, 15.0, 14.0, 13.0, 12.0, 11.0, 10.0, 9.0, 8.0, 7.0, 6.0, 5.0, 4.0, 3.0, 2.0, 1.0, 2.69350004196167, 2.65339994430542, 2.6454999446868896, 2.6454999446868896, 2.6452999114990234, 2.6431000232696533, 2.618799924850464, 2.6152000427246094, 2.599900007247925, 2.5917000770568848, 2.5906999111175537, 2.587100028991699, 2.5850000381469727, 2.562999963760376, 2.54830002784729, 2.545599937438965, 2.5392000675201416, 2.5388998985290527, 2.538800001144409, 2.537899971008301, 2.5378000736236572, 2.5369999408721924, 2.5369999408721924, 2.536900043487549, 2.535799980163574, 2.534600019454956, 2.5271999835968018, 2.5239999294281006, 2.5139000415802, 2.511699914932251, 2.498199939727783, 2.478100061416626, 2.4951000213623047, 2.316200017929077, 2.4626998901367188, 2.33489990234375, 2.1303000450134277, 2.0729000568389893, 2.204699993133545, 2.150099992752075, 1.9009000062942505, 1.9865000247955322, 1.940600037574768, 1.8034000396728516, 2.0622000694274902, 1.6988999843597412, 2.2446999549865723, 2.1958999633789062, 2.1865999698638916, 2.0418999195098877, 2.0348000526428223, 1.9746999740600586, 0.8949999809265137, 1.6567000150680542, 1.467900037765503, 1.6503000259399414, 0.5918999910354614, 1.6032999753952026, 1.233199954032898, 1.1931999921798706, 0.17550000548362732, 0.3531999886035919, 1.5317000150680542, 0.6518999934196472, 0.6545000076293945, 0.5091000199317932, 1.1394000053405762, 0.048500001430511475, 0.15870000422000885, -1.0109000205993652, -0.5286999940872192, -0.10180000215768814, 2.53629994392395, 2.498500108718872, 2.487600088119507, 2.4537999629974365, 2.453200101852417, 2.434499979019165, 2.422100067138672, 2.4161999225616455, 2.413800001144409, 2.4123001098632812, 2.403899908065796, 2.4038000106811523, 2.403700113296509, 2.401900053024292, 2.401900053024292, 2.400099992752075, 2.4000000953674316, 2.3991000652313232, 2.3989999294281006, 2.3901000022888184, 2.375499963760376, 2.373699903488159, 2.3540000915527344, 2.350800037384033, 2.348599910736084, 2.3480000495910645, 2.335400104522705, 2.3310000896453857, 2.313999891281128, 2.312999963760376, 2.1517999172210693, 1.8158999681472778, 1.736899971961975, 1.8339999914169312, 2.1947999000549316, 1.7316999435424805, 0.8403000235557556, 0.6710000038146973, 0.8187999725341797, 0.9851999878883362, 1.384600043296814, 0.5235999822616577, 1.7207000255584717, 0.23839999735355377, 0.8385000228881836, 1.3660000562667847, 0.7355999946594238, -0.28679999709129333, 0.8725000023841858, 0.8995000123977661, 0.7310000061988831, 0.703499972820282, -0.46950000524520874, 0.03500000014901161, -0.7720000147819519, -0.13339999318122864, 0.5320000052452087, 1.090399980545044, 0.32519999146461487, -1.170699954032898, -0.48500001430511475, -0.34619998931884766, -1.718000054359436, -0.7455000281333923, -1.469499945640564, -0.6262999773025513, 2.643699884414673, 2.641400098800659, 2.634500026702881, 2.6298999786376953, 2.62280011177063, 2.6166000366210938, 2.6157000064849854, 2.6120998859405518, 2.6045000553131104, 2.6036999225616455, 2.602299928665161, 2.6015000343322754, 2.600800037384033, 2.593899965286255, 2.5917999744415283, 2.5899999141693115, 2.58240008354187, 2.582200050354004, 2.5776000022888184, 2.5636000633239746, 2.549099922180176, 2.546799898147583, 2.534899950027466, 2.5290000438690186, 2.524600028991699, 2.5237998962402344, 2.5236001014709473, 2.5209999084472656, 2.5206000804901123, 2.5183000564575195, 2.485100030899048, 2.381200075149536, 2.4519999027252197, 2.3680999279022217, 2.3729000091552734, 2.4879000186920166, 2.4303998947143555, 2.418600082397461, 2.351599931716919, 2.381700038909912, 2.1851000785827637, 2.1684999465942383, 2.38700008392334, 1.7718000411987305, 1.7452000379562378, 2.096299886703491, 2.3008999824523926, 2.0018999576568604, 2.336199998855591, 1.856600046157837, 1.8746000528335571, 1.9955999851226807, 1.81659996509552, 1.892899990081787, 1.8948999643325806, 2.174799919128418, 1.260699987411499, 1.5760999917984009, 1.5789999961853027, 1.7302000522613525, 1.0413999557495117, 1.6649999618530273, 1.5334999561309814, 1.1715999841690063, 0.8615000247955322, 0.7085999846458435, 0.19210000336170197, 1.376099944114685, 1.500100016593933, 0.3237000107765198, -0.34850001335144043, 0.3855000138282776, 0.5357000231742859, 0.26589998602867126, 0.6258000135421753, 0.25999999046325684, -1.0687999725341797, -1.356600046157837, -0.9175999760627747, 2.2602999210357666, 2.258699893951416, 2.255500078201294, 2.245500087738037, 2.2451000213623047, 2.2439000606536865, 2.2395999431610107, 2.2376999855041504, 2.2353999614715576, 2.231600046157837, 2.2302000522613525, 2.226599931716919, 2.213599920272827, 2.209700107574463, 2.200500011444092, 2.191499948501587, 2.187700033187866, 2.1812000274658203, 2.1717000007629395, 2.169300079345703, 2.164400100708008, 2.1612000465393066, 2.161099910736084, 2.1566998958587646, 2.1540000438690186, 2.1533000469207764, 2.1368000507354736, 2.1357998847961426, 2.1317999362945557, 2.1275999546051025, 2.1138999462127686, 2.1112000942230225, 2.053800106048584, 2.095400094985962, 2.030100107192993, 2.0941998958587646, 2.0566999912261963, 2.0571000576019287, 1.9803999662399292, 1.7218999862670898, 1.986199975013733, 1.80649995803833, 1.4855999946594238, 1.2067999839782715, 1.899999976158142, 1.5729999542236328, 1.4577000141143799, 1.6062999963760376, 1.7217999696731567, 1.531599998474121, 0.8600000143051147, 1.6065000295639038, 1.3127000331878662, 1.0923999547958374, 1.4108999967575073, 1.2110999822616577, 1.6785999536514282, 1.2654000520706177, 1.0924999713897705, 0.4787999987602234, 0.8406999707221985, 1.152500033378601, 1.1341999769210815, -0.002099999925121665, 1.148300051689148, -0.691100001335144, 0.79339998960495, 0.5475000143051147, -0.7659000158309937, 0.7694000005722046, 0.09130000323057175, -0.02019999921321869, 0.5454000234603882, -1.2635999917984009, 0.03370000049471855, -0.7073000073432922, 0.05790000036358833, 2.3225998878479004, 2.3201000690460205, 2.3190999031066895, 2.3152999877929688, 2.3052000999450684, 2.2834999561309814, 2.274199962615967, 2.2697999477386475, 2.2653000354766846, 2.2653000354766846, 2.2643001079559326, 2.2460999488830566, 2.24399995803833, 2.2409000396728516, 2.2321999073028564, 2.2258999347686768, 2.2207000255584717, 2.2202000617980957, 2.2177999019622803, 2.213399887084961, 2.2125000953674316, 2.212100028991699, 2.19950008392334, 2.1984000205993652, 2.1870999336242676, 2.183300018310547, 2.180999994277954, 2.1730000972747803, 2.16729998588562, 2.1656999588012695, 2.084700107574463, 2.147700071334839, 2.0573999881744385, 1.9704999923706055, 2.10509991645813, 2.04259991645813, 2.0313000679016113, 2.117799997329712, 2.120699882507324, 1.9164999723434448, 1.9270999431610107, 1.983299970626831, 2.040800094604492, 1.6916999816894531, 1.979200005531311, 1.7831000089645386, 1.9541000127792358, 1.954800009727478, 1.8149000406265259, 1.676800012588501, 1.044800043106079, 1.7411999702453613, 1.9465999603271484, 1.4431999921798706, 1.9127000570297241, 0.788100004196167, 1.052899956703186, 1.3502000570297241, 1.2419999837875366, 0.39629998803138733, 1.0455000400543213, 1.0928000211715698, 0.1712999939918518, 0.6108999848365784, 0.3190999925136566, -0.3833000063896179, 0.4366999864578247, 0.3662000000476837, -0.11289999634027481, -1.146299958229065, -0.8690000176429749, 2.738800048828125, 2.657099962234497, 2.6570000648498535, 2.6421000957489014, 2.6154000759124756, 2.608599901199341, 2.6043999195098877, 2.598099946975708, 2.5855000019073486, 2.5845000743865967, 2.5841000080108643, 2.581199884414673, 2.56850004196167, 2.5624001026153564, 2.560499906539917, 2.5590999126434326, 2.5553998947143555, 2.5415000915527344, 2.5385000705718994, 2.5318000316619873, 2.530100107192993, 2.5297000408172607, 2.5297000408172607, 2.5295000076293945, 2.52839994430542, 2.5283000469207764, 2.5281999111175537, 2.5281999111175537, 2.5274999141693115, 2.5274999141693115, 2.5113000869750977, 2.450700044631958, 2.515700101852417, 2.4193999767303467, 2.4274001121520996, 2.4923999309539795, 2.3626999855041504, 2.2435998916625977, 2.233799934387207, 2.265000104904175, 2.0169999599456787, 2.1910998821258545, 2.3297998905181885, 2.286099910736084, 2.072499990463257, 2.271899938583374, 1.9127000570297241, 2.193700075149536, 1.9515999555587769, 1.9780999422073364, 2.078399896621704, 2.0968000888824463, 2.0804998874664307, 2.29229998588562, 1.763800024986267, 0.7261000275611877, 2.1041998863220215, 2.0464000701904297, 1.1050000190734863, 1.6549999713897705, 1.1854000091552734, 1.7369999885559082, 0.8263999819755554, 1.216599941253662, 0.09640000015497208, -0.33079999685287476, 0.09730000048875809, 1.1535999774932861, 1.3803999423980713, 0.6485999822616577, 0.24070000648498535, 0.7318999767303467, 0.29260000586509705, -0.2533999979496002, -0.5515999794006348, 0.24420000612735748, -0.020500000566244125, -1.1656999588012695, 0.19089999794960022, 2.8873000144958496, 2.8852999210357666, 2.8485000133514404, 2.79830002784729, 2.7969000339508057, 2.796799898147583, 2.7955000400543213, 2.7934999465942383, 2.7827999591827393, 2.775599956512451, 2.7720999717712402, 2.7599000930786133, 2.7518999576568604, 2.7465999126434326, 2.7465999126434326, 2.7464001178741455, 2.7460999488830566, 2.7451999187469482, 2.744999885559082, 2.7434000968933105, 2.743000030517578, 2.7407000064849854, 2.7404000759124756, 2.7367000579833984, 2.71589994430542, 2.7156999111175537, 2.713399887084961, 2.713099956512451, 2.712399959564209, 2.7000999450683594, 2.6672000885009766, 2.4458000659942627, 2.6298000812530518, 2.6356000900268555, 2.4296000003814697, 2.158099889755249, 2.486999988555908, 2.618299961090088, 2.5201001167297363, 2.3513998985290527, 2.2697999477386475, 2.4605000019073486, 2.5237998962402344, 1.55239999294281, 2.0882999897003174, 1.1212999820709229, 2.1159000396728516, 1.8322999477386475, 1.8202999830245972, 2.373300075531006, 2.298099994659424, 1.6612000465393066, 0.20080000162124634, 1.4347000122070312, 0.08900000154972076, 1.3775999546051025, 0.8700000047683716, 0.12439999729394913, 0.7490000128746033, 1.5520000457763672, 0.9578999876976013, 0.3425999879837036, 1.226099967956543, -0.9003000259399414, 0.9003999829292297, -0.12200000137090683, -0.14180000126361847, -0.5842000246047974, -0.15080000460147858, 0.19359999895095825, -0.5792999863624573, 2.640500068664551, 2.6382999420166016, 2.6208999156951904, 2.6205999851226807, 2.618799924850464, 2.606100082397461, 2.60260009765625, 2.601099967956543, 2.5927000045776367, 2.5878000259399414, 2.5648999214172363, 2.5641000270843506, 2.5587000846862793, 2.5520999431610107, 2.5480000972747803, 2.5464000701904297, 2.54259991645813, 2.5404000282287598, 2.5285000801086426, 2.527899980545044, 2.52239990234375, 2.52020001411438, 2.5160000324249268, 2.515899896621704, 2.515899896621704, 2.515899896621704, 2.5157999992370605, 2.5157999992370605, 2.514699935913086, 2.5139999389648438, 2.46370005607605, 2.464900016784668, 2.5037999153137207, 2.3929998874664307, 2.3415000438690186, 2.363300085067749, 2.0673999786376953, 2.3222999572753906, 2.4182000160217285, 2.170599937438965, 2.0778000354766846, 2.4563000202178955, 2.0388998985290527, 1.6562000513076782, 1.9902000427246094, 1.7247999906539917, 1.975000023841858, 2.101900100708008, 2.288300037384033, 2.0933001041412354, 1.524999976158142, 1.8824000358581543, 1.1017999649047852, 2.063199996948242, 0.6582000255584717, 0.8567000031471252, 1.8308000564575195, 0.9390000104904175, 1.4300999641418457, 1.3523000478744507, 0.9955999851226807, 0.5217999815940857, -0.09220000356435776, 0.33340001106262207, -0.039000000804662704, 0.4415000081062317, -0.227400004863739, 0.45820000767707825, -0.052799999713897705, -0.9711999893188477, -0.4763000011444092, -0.9559999704360962, 0.4943000078201294, -0.24300000071525574, 0.010599999688565731, -1.2231999635696411, -0.6348999738693237, 0.9677000045776367, 2.5989999771118164, 2.5495998859405518, 2.549499988555908, 2.5443999767303467, 2.539799928665161, 2.529400110244751, 2.5244998931884766, 2.523699998855591, 2.518199920654297, 2.517699956893921, 2.509200096130371, 2.503499984741211, 2.4981000423431396, 2.48580002784729, 2.464200019836426, 2.4535000324249268, 2.4407999515533447, 2.440700054168701, 2.440500020980835, 2.440500020980835, 2.439300060272217, 2.4388999938964844, 2.437999963760376, 2.4370999336242676, 2.4110000133514404, 2.40310001373291, 2.3959999084472656, 2.3812999725341797, 2.3773000240325928, 2.376699924468994, 2.3326001167297363, 2.3417999744415283, 2.329400062561035, 1.8600000143051147, 1.7799999713897705, 2.0213000774383545, 2.2476999759674072, 1.1588000059127808, 2.1164000034332275, 1.38100004196167, 1.4785000085830688, 1.6057000160217285, 1.3875999450683594, 1.8773000240325928, 1.3366999626159668, 1.0088000297546387, 0.9063000082969666, 0.7224000096321106, 1.3236000537872314, 0.4632999897003174, 0.08569999784231186, 0.9836000204086304, 0.6396999955177307, 1.8082000017166138, 1.1656999588012695, 1.2307000160217285, 0.9545999765396118, 0.3862000107765198, 0.3009999990463257, 0.5288000106811523, -0.24950000643730164, 0.6317999958992004, -0.3158000111579895, 0.828499972820282, -0.1941000074148178, 0.4607999920845032, -1.061400055885315, -2.128700017929077, 2.8382999897003174, 2.8331000804901123, 2.831899881362915, 2.823499917984009, 2.813199996948242, 2.8025999069213867, 2.7855000495910645, 2.78410005569458, 2.776400089263916, 2.7641000747680664, 2.749799966812134, 2.738800048828125, 2.7370998859405518, 2.726900100708008, 2.7170000076293945, 2.6986000537872314, 2.691200017929077, 2.6849000453948975, 2.670099973678589, 2.6556999683380127, 2.6554999351501465, 2.655400037765503, 2.6549999713897705, 2.6549999713897705, 2.650700092315674, 2.6501998901367188, 2.649899959564209, 2.6494998931884766, 2.63700008392334, 2.6364998817443848, 2.634200096130371, 2.617500066757202, 2.598900079727173, 2.580699920654297, 2.5002999305725098, 2.607599973678589, 2.533400058746338, 2.3857998847961426, 2.6278998851776123, 2.493299961090088, 2.269200086593628, 2.4830000400543213, 2.4391000270843506, 2.305500030517578, 2.1661999225616455, 2.5127999782562256, 1.988700032234192, 2.0385000705718994, 2.2190001010894775, 1.8858000040054321, 1.354200005531311, 2.3392999172210693, 2.2530999183654785, 2.355600118637085, 0.4611999988555908, 1.9835000038146973, 1.4240000247955322, 1.3128999471664429, 1.0924999713897705, -0.3043000102043152, 0.47189998626708984, -0.7919999957084656, 0.6748999953269958, -0.07079999893903732, -0.28279998898506165, 0.07919999957084656, -1.3214999437332153, -1.5789999961853027, 2.8450000286102295, 2.843400001525879, 2.8178000450134277, 2.815999984741211, 2.813800096511841, 2.7904999256134033, 2.7864999771118164, 2.779900074005127, 2.777400016784668, 2.776900053024292, 2.767899990081787, 2.7669999599456787, 2.7578999996185303, 2.7518999576568604, 2.7513999938964844, 2.7446999549865723, 2.7435998916625977, 2.7397000789642334, 2.7374000549316406, 2.7370998859405518, 2.712899923324585, 2.7128000259399414, 2.7126998901367188, 2.7126998901367188, 2.7126998901367188, 2.7095000743865967, 2.7035999298095703, 2.691499948501587, 2.689500093460083, 2.683300018310547, 2.640000104904175, 2.6635000705718994, 2.6468000411987305, 2.6105000972747803, 2.579400062561035, 2.607100009918213, 2.648900032043457, 2.6347999572753906, 2.6487998962402344, 2.408799886703491, 2.444700002670288, 2.6082000732421875, 2.4546000957489014, 2.3505001068115234, 2.4837000370025635, 2.2616000175476074, 2.428299903869629, 2.587899923324585, 1.9534000158309937, 2.390500068664551, 2.016700029373169, 2.4856998920440674, 2.1547000408172607, 1.6944999694824219, 2.088200092315674, 1.8885999917984009, 1.816499948501587, 1.8176000118255615, 0.8284000158309937, 2.2221999168395996, 0.7660999894142151, 1.0556999444961548, 1.4256999492645264, 0.4505999982357025, 1.5758999586105347, 1.134600043296814, 0.1242000013589859, -0.44600000977516174, 1.4869999885559082, 0.43540000915527344, 0.6180999875068665, -0.15369999408721924, 0.20569999516010284, 0.00279999990016222, 0.290800005197525, 0.3133000135421753, -0.3797000050544739, -0.4300000071525574, -0.33980000019073486, -1.4234000444412231, 2.694200038909912, 2.6923999786376953, 2.6401000022888184, 2.6356000900268555, 2.6324000358581543, 2.6266000270843506, 2.6161000728607178, 2.61080002784729, 2.607300043106079, 2.5947999954223633, 2.5943000316619873, 2.5850000381469727, 2.5843000411987305, 2.5833001136779785, 2.573899984359741, 2.565700054168701, 2.558199882507324, 2.555000066757202, 2.554800033569336, 2.5546998977661133, 2.553999900817871, 2.553499937057495, 2.5532000064849854, 2.5532000064849854, 2.5429999828338623, 2.540600061416626, 2.5327999591827393, 2.5299999713897705, 2.529900074005127, 2.5292999744415283, 2.524600028991699, 2.486299991607666, 2.3090999126434326, 2.3236000537872314, 2.1989998817443848, 2.45169997215271, 2.124799966812134, 2.237299919128418, 2.303499937057495, 2.3977999687194824, 2.475100040435791, 1.9263999462127686, 2.4639999866485596, 2.246000051498413, 1.8215999603271484, 1.8875999450683594, 2.1352999210357666, 2.228300094604492, 2.0243000984191895, 2.029599905014038, 1.6734999418258667, 2.0243000984191895, 2.134700059890747, 1.195199966430664, 0.715499997138977, 0.8973000049591064, 1.5175000429153442, 1.323699951171875, 0.6863999962806702, 0.809499979019165, -0.12319999933242798, 0.3968000113964081, 1.0161000490188599, 0.23989999294281006, 0.6395999789237976, 0.42640000581741333, -0.2976999878883362, -0.12280000001192093, -0.5282999873161316, -0.3580999970436096, -0.49410000443458557, -0.05700000002980232, 0.906499981880188, 0.27309998869895935, 0.8155999779701233, 3.0211000442504883, 3.0106000900268555, 2.9876999855041504, 2.976599931716919, 2.962399959564209, 2.9577999114990234, 2.927999973297119, 2.918600082397461, 2.9184999465942383, 2.9177000522613525, 2.9100000858306885, 2.9072000980377197, 2.8980000019073486, 2.89739990234375, 2.8952999114990234, 2.884700059890747, 2.8805999755859375, 2.8694000244140625, 2.863300085067749, 2.84689998626709, 2.8464999198913574, 2.841399908065796, 2.8301000595092773, 2.8215999603271484, 2.818700075149536, 2.8092000484466553, 2.8092000484466553, 2.8090999126434326, 2.8078999519348145, 2.8059000968933105, 2.788100004196167, 2.781599998474121, 2.7809998989105225, 2.76990008354187, 2.636699914932251, 2.553499937057495, 2.4809999465942383, 2.4439001083374023, 2.333699941635132, 2.2248001098632812, 2.6468000411987305, 2.3452000617980957, 2.371299982070923, 2.386199951171875, 2.6847000122070312, 2.533600091934204, 2.5211000442504883, 2.3143999576568604, 2.4286999702453613, 2.545599937438965, 2.3870999813079834, 2.1308000087738037, 2.115000009536743, 1.9211000204086304, 2.198199987411499, 2.1768999099731445, 2.2565999031066895, 0.9208999872207642, 1.1764999628067017, 1.1203999519348145, 0.08889999985694885, 1.5413999557495117, 1.6075999736785889, 2.0011000633239746, -0.029999999329447746, -0.6220999956130981, 0.3490999937057495, 0.1039000004529953, 0.4593999981880188, 0.8901000022888184, -0.6430000066757202, -1.0673999786376953, -1.0680999755859375, 0.02239999920129776, 0.5755000114440918, -1.0164999961853027, 3.092099905014038, 3.0796000957489014, 3.02020001411438, 2.9918999671936035, 2.9916000366210938, 2.984499931335449, 2.9830000400543213, 2.9765000343322754, 2.9737000465393066, 2.973299980163574, 2.9707000255584717, 2.9691998958587646, 2.955699920654297, 2.952699899673462, 2.9482998847961426, 2.9423000812530518, 2.9382998943328857, 2.9314000606536865, 2.9184000492095947, 2.916599988937378, 2.9154999256134033, 2.909899950027466, 2.9096999168395996, 2.908600091934204, 2.9058001041412354, 2.903899908065796, 2.892699956893921, 2.8893001079559326, 2.8856000900268555, 2.8833000659942627, 2.869800090789795, 2.8394999504089355, 2.868000030517578, 2.8631999492645264, 2.8189001083374023, 2.6828999519348145, 2.1935999393463135, 2.846299886703491, 2.8352999687194824, 2.521699905395508, 2.401700019836426, 2.4702999591827393, 2.3777999877929688, 1.7754000425338745, 2.2488999366760254, 2.3935999870300293, 2.6498000621795654, 2.3427999019622803, 1.2687000036239624, 1.034000039100647, 1.517899990081787, 1.531499981880188, 1.885699987411499, 1.5585999488830566, 1.9677000045776367, 0.9314000010490417, 1.3039000034332275, 0.995199978351593, 1.645900011062622, 1.860200047492981, -0.2989000082015991, 1.1275999546051025, 1.472000002861023, 0.6597999930381775, 0.8835999965667725, -0.3596000075340271, -0.47029998898506165, -0.8478000164031982, 1.0435999631881714, -0.7501000165939331, -0.5317000150680542, -0.49709999561309814, 1.138800024986267, -0.10700000077486038, -1.9780000448226929, 2.1703999042510986, 2.166300058364868, 2.1505000591278076, 2.1440000534057617, 2.123300075531006, 2.099900007247925, 2.0625998973846436, 2.0536999702453613, 2.049299955368042, 2.046099901199341, 2.0448999404907227, 2.0374999046325684, 2.037100076675415, 2.035099983215332, 2.021899938583374, 2.017699956893921, 2.012700080871582, 2.007999897003174, 2.003999948501587, 1.997499942779541, 1.9855999946594238, 1.9850000143051147, 1.9825999736785889, 1.9824999570846558, 1.9814000129699707, 1.9804999828338623, 1.976699948310852, 1.9764000177383423, 1.9742000102996826, 1.965499997138977, 1.920199990272522, 1.874400019645691, 1.909999966621399, 1.850600004196167, 1.6963000297546387, 1.878499984741211, 1.5723999738693237, 1.6490999460220337, 1.6031999588012695, 1.6448999643325806, 1.781599998474121, 1.718400001525879, 1.736199975013733, 1.5174000263214111, 1.405500054359436, 1.48580002784729, 1.1253000497817993, 0.6812000274658203, 0.46650001406669617, 0.8054999709129333, 0.8044999837875366, 1.195099949836731, 0.539900004863739, 0.836899995803833, 0.7462000250816345, -0.8454999923706055, 1.066499948501587, 0.2928999960422516, 0.1453000009059906, 0.07660000026226044, 0.542900025844574], \"logprob\": [30.0, 29.0, 28.0, 27.0, 26.0, 25.0, 24.0, 23.0, 22.0, 21.0, 20.0, 19.0, 18.0, 17.0, 16.0, 15.0, 14.0, 13.0, 12.0, 11.0, 10.0, 9.0, 8.0, 7.0, 6.0, 5.0, 4.0, 3.0, 2.0, 1.0, -6.865300178527832, -7.356299877166748, -7.428299903869629, -7.428299903869629, -7.428500175476074, -5.5802001953125, -5.53410005569458, -7.6442999839782715, -7.080100059509277, -2.6331000328063965, -7.828800201416016, -7.831999778747559, -6.3343000411987305, -7.083199977874756, -8.04419994354248, -7.955599784851074, -8.111200332641602, -8.11139965057373, -8.111900329589844, -8.113200187683105, -8.11340045928955, -8.113300323486328, -8.113300323486328, -8.113300323486328, -8.114299774169922, -8.115799903869629, -7.892300128936768, -8.12720012664795, -8.1806001663208, -8.244500160217285, -6.770199775695801, -5.949399948120117, -7.644000053405762, -4.879300117492676, -7.218500137329102, -6.014400005340576, -4.404799938201904, -4.165299892425537, -5.344399929046631, -4.9644999504089355, -3.1803998947143555, -3.940200090408325, -3.936199903488159, -3.239500045776367, -4.886300086975098, -3.013400077819824, -6.118899822235107, -5.857699871063232, -5.911300182342529, -5.48199987411499, -5.484000205993652, -5.412300109863281, -2.8299999237060547, -4.809199810028076, -4.452700138092041, -4.9567999839782715, -2.680500030517578, -4.916299819946289, -4.345900058746338, -4.351600170135498, -2.8592000007629395, -3.637200117111206, -5.2256999015808105, -4.723400115966797, -4.753399848937988, -4.734099864959717, -5.19290018081665, -4.943999767303467, -5.05109977722168, -4.860199928283691, -4.997799873352051, -5.139500141143799, -6.401000022888184, -6.497000217437744, -7.454500198364258, -7.529699802398682, -7.906700134277344, -3.613100051879883, -8.006500244140625, -7.091899871826172, -8.06879997253418, -8.123200416564941, -8.1899995803833, -8.190299987792969, -8.191200256347656, -8.192099571228027, -8.191900253295898, -8.194999694824219, -8.194000244140625, -8.029399871826172, -8.08430004119873, -8.186100006103516, -8.327500343322754, -8.32800006866455, -8.394000053405762, -8.399200439453125, -8.401700019836426, -8.225700378417969, -8.416000366210938, -7.694300174713135, -7.312600135803223, -8.587499618530273, -1.5118000507354736, -1.2187000513076782, -3.7276999950408936, -4.957799911499023, -7.657899856567383, -5.548600196838379, -3.61680006980896, -3.863800048828125, -4.284900188446045, -5.023900032043457, -6.053299903869629, -4.3632001876831055, -6.82289981842041, -4.168700218200684, -5.302299976348877, -6.2906999588012695, -5.191100120544434, -3.5590999126434326, -5.90500020980835, -6.009300231933594, -5.8140997886657715, -5.820400238037109, -4.45989990234375, -5.098599910736084, -4.4969000816345215, -5.343200206756592, -5.964900016784668, -6.406599998474121, -5.924499988555908, -5.019999980926514, -5.527900218963623, -5.644800186157227, -5.247900009155273, -5.58050012588501, -5.551499843597412, -5.912799835205078, -6.3821001052856445, -7.0767998695373535, -6.492300033569336, -7.09689998626709, -7.352200031280518, -7.382599830627441, -7.383900165557861, -7.38730001449585, -7.5304999351501465, -7.531700134277344, -7.483699798583984, -7.035299777984619, -7.496500015258789, -6.86899995803833, -6.836999893188477, -7.6143999099731445, -7.623000144958496, -7.684000015258789, -7.6880998611450195, -6.952099800109863, -7.862299919128418, -6.75, -7.968400001525879, -7.836400032043457, -8.037599563598633, -8.038200378417969, -8.038700103759766, -8.04259967803955, -8.042499542236328, -6.292399883270264, -6.7870001792907715, -4.3343000411987305, -6.042300224304199, -4.4506001472473145, -4.8632001876831055, -7.213799953460693, -6.350299835205078, -6.263199806213379, -5.501100063323975, -6.006100177764893, -4.606400012969971, -4.497200012207031, -6.3541998863220215, -3.063199996948242, -2.967099905014038, -4.8653998374938965, -5.943600177764893, -4.684199810028076, -6.1915998458862305, -4.459000110626221, -4.622399806976318, -5.060200214385986, -4.737199783325195, -4.972899913787842, -5.01230001449585, -5.896599769592285, -4.037799835205078, -4.706099987030029, -4.830399990081787, -5.21589994430542, -4.201900005340576, -5.333499908447266, -5.268799781799316, -4.962500095367432, -4.683300018310547, -4.564000129699707, -4.111700057983398, -5.20550012588501, -5.30649995803833, -4.563000202178955, -4.197800159454346, -4.657400131225586, -4.839600086212158, -4.771699905395508, -4.915599822998047, -4.873600006103516, -4.793799877166748, -4.886499881744385, -4.9079999923706055, -7.595600128173828, -7.6153998374938965, -7.644999980926514, -7.68209981918335, -6.405900001525879, -5.462500095367432, -7.853899955749512, -7.855500221252441, -7.616099834442139, -7.827899932861328, -7.885900020599365, -7.9243998527526855, -7.998300075531006, -7.93120002746582, -8.04699993133545, -6.267600059509277, -8.127400398254395, -8.256199836730957, -8.218700408935547, -8.267999649047852, -8.305299758911133, -3.8189001083374023, -8.360600471496582, -8.36240005493164, -8.365500450134277, -4.311800003051758, -8.473099708557129, -8.472900390625, -8.214099884033203, -8.539899826049805, -5.102200031280518, -6.955900192260742, -4.5945000648498535, -6.7241997718811035, -4.895999908447266, -6.9629998207092285, -6.771900177001953, -7.200900077819824, -6.61959981918335, -4.687600135803223, -6.858500003814697, -5.677700042724609, -4.059199810028076, -2.6426000595092773, -6.374300003051758, -4.827400207519531, -4.378499984741211, -5.151100158691406, -5.669400215148926, -5.013500213623047, -2.4123001098632812, -5.414400100708008, -4.468100070953369, -3.932800054550171, -5.054999828338623, -4.584199905395508, -5.931099891662598, -4.782599925994873, -4.31879997253418, -3.6031999588012695, -4.3744001388549805, -5.094099998474121, -5.2144999504089355, -3.727099895477295, -5.279600143432617, -3.7256999015808105, -5.112199783325195, -4.993899822235107, -4.429500102996826, -5.1184000968933105, -4.901199817657471, -4.9070000648498535, -5.067500114440918, -4.793499946594238, -5.004000186920166, -5.011099815368652, -5.075699806213379, -6.085400104522705, -6.432300090789795, -6.580900192260742, -6.625999927520752, -6.599100112915039, -6.137199878692627, -7.28439998626709, -5.784900188446045, -5.161399841308594, -7.056600093841553, -7.2581000328063965, -6.597899913787842, -6.570700168609619, -4.545000076293945, -7.828700065612793, -3.960900068283081, -7.956999778747559, -7.957499980926514, -7.356599807739258, -6.877799987792969, -7.451700210571289, -7.838600158691406, -8.151399612426758, -7.745299816131592, -7.655700206756592, -8.155799865722656, -8.284000396728516, -5.214700222015381, -6.775100231170654, -7.310299873352051, -3.851900100708008, -6.684999942779541, -4.170100212097168, -3.0020999908447266, -6.03849983215332, -4.8805999755859375, -4.974299907684326, -6.521500110626221, -6.585899829864502, -4.083600044250488, -4.275199890136719, -5.0100998878479, -5.911200046539307, -3.580899953842163, -5.634500026702881, -4.439899921417236, -5.484499931335449, -5.527200222015381, -4.843699932098389, -4.306700229644775, -2.8046000003814697, -5.156799793243408, -5.749300003051758, -4.576300144195557, -5.728799819946289, -3.61899995803833, -4.156899929046631, -4.899499893188477, -4.898799896240234, -4.072800159454346, -4.84060001373291, -4.912499904632568, -4.132599830627441, -4.675600051879883, -4.5157999992370605, -4.10830020904541, -4.666999816894531, -4.6855998039245605, -4.570099830627441, -4.809899806976318, -4.859399795532227, -5.94350004196167, -7.094799995422363, -7.264200210571289, -7.470900058746338, -7.654699802398682, -7.660600185394287, -7.653200149536133, -6.341100215911865, -7.6367998123168945, -7.8719000816345215, -7.872200012207031, -7.87529993057251, -7.970300197601318, -7.975900173187256, -7.978799819946289, -5.828999996185303, -7.094799995422363, -8.0871000289917, -8.089500427246094, -8.153599739074707, -8.15530014038086, -8.155599594116211, -8.155599594116211, -8.156000137329102, -8.156200408935547, -8.156299591064453, -8.156299591064453, -8.156399726867676, -8.157699584960938, -8.15779972076416, -5.349699974060059, -3.5116000175476074, -7.380099773406982, -3.845400094985962, -5.283100128173828, -7.002399921417236, -4.578800201416016, -4.178100109100342, -4.1940999031066895, -5.28380012512207, -3.0206000804901123, -4.7795000076293945, -6.114099979400635, -5.883299827575684, -4.324699878692627, -6.031499862670898, -3.992799997329712, -5.680500030517578, -4.951099872589111, -5.14300012588501, -5.569699764251709, -5.705699920654297, -5.721799850463867, -6.511099815368652, -5.0991997718811035, -2.546299934387207, -6.071599960327148, -5.979000091552734, -4.153299808502197, -5.24370002746582, -4.393599987030029, -5.4695000648498535, -4.198800086975098, -4.831399917602539, -3.6285998821258545, -3.3654000759124756, -3.893199920654297, -4.8790998458862305, -5.139200210571289, -4.594699859619141, -4.47160005569458, -4.877799987792969, -4.759099960327148, -4.557199954986572, -4.633500099182129, -5.054299831390381, -5.063399791717529, -5.014999866485596, -5.095600128173828, -6.591800212860107, -6.250500202178955, -7.198500156402588, -4.138999938964844, -7.5980000495910645, -7.598100185394287, -7.598599910736084, -7.508600234985352, -6.316299915313721, -7.7017998695373535, -7.690199851989746, -7.717800140380859, -7.81879997253418, -7.880099773406982, -7.880199909210205, -7.880300045013428, -7.822000026702881, -7.767000198364258, -7.881199836730957, -7.883299827575684, -7.883500099182129, -7.885499954223633, -7.887199878692627, -7.532599925994873, -8.01710033416748, -8.017999649047852, -8.019200325012207, -8.01990032196045, -8.020400047302246, -3.289599895477295, -3.4695000648498535, -2.088900089263916, -6.815400123596191, -6.9222002029418945, -4.924200057983398, -2.9755001068115234, -5.863900184631348, -7.1082000732421875, -6.517300128936768, -5.6020002365112305, -5.3053998947143555, -6.406300067901611, -6.808300018310547, -2.7513999938964844, -5.205599784851074, -1.9133000373840332, -5.459499835968018, -5.110400199890137, -5.184999942779541, -6.736700057983398, -6.5879998207092285, -5.479800224304199, -3.071500062942505, -5.371799945831299, -3.6359000205993652, -5.424699783325195, -5.0208001136779785, -4.344600200653076, -5.171599864959717, -5.936699867248535, -5.451600074768066, -5.032700061798096, -5.742700099945068, -4.74970006942749, -5.627900123596191, -5.164899826049805, -5.167099952697754, -5.041399955749512, -5.394000053405762, -5.486400127410889, -5.414299964904785, -7.070400238037109, -7.230899810791016, -7.327899932861328, -7.028500080108643, -7.415999889373779, -7.501200199127197, -5.65500020980835, -7.236499786376953, -7.1869001388549805, -7.100299835205078, -7.817500114440918, -7.81820011138916, -7.857399940490723, -7.86460018157959, -7.918099880218506, -7.920599937438965, -7.7795000076293945, -6.448599815368652, -8.03219985961914, -8.029999732971191, -7.941400051116943, -8.077699661254883, -8.099499702453613, -8.099599838256836, -8.099599838256836, -8.099599838256836, -8.100099563598633, -8.100199699401855, -8.100700378417969, -8.101699829101562, -5.269999980926514, -5.554900169372559, -7.696800231933594, -6.057300090789795, -5.370699882507324, -6.216899871826172, -2.8192999362945557, -5.764599800109863, -6.970600128173828, -4.667500019073486, -4.253200054168701, -7.394700050354004, -4.667200088500977, -2.8010001182556152, -5.430500030517578, -4.409299850463867, -5.452400207519531, -6.000999927520752, -6.776199817657471, -6.084000110626221, -4.351799964904785, -5.825900077819824, -4.306099891662598, -6.31220006942749, -3.8108999729156494, -4.358399868011475, -5.978499889373779, -4.673900127410889, -5.41540002822876, -5.426799774169922, -4.999300003051758, -4.470699787139893, -3.8171000480651855, -4.320199966430664, -4.1209001541137695, -4.610300064086914, -4.076700210571289, -4.784999847412109, -4.529799938201904, -4.005799770355225, -4.466700077056885, -4.228400230407715, -5.05049991607666, -4.777699947357178, -5.014599800109863, -4.7530999183654785, -4.938700199127197, -5.287700176239014, -6.956900119781494, -7.841599941253662, -0.980400025844574, -7.645599842071533, -7.992800235748291, -8.060999870300293, -8.04990005493164, -8.050299644470215, -8.071000099182129, -7.9191999435424805, -8.12339973449707, -8.194199562072754, -8.200300216674805, -8.052300453186035, -8.356100082397461, -8.370599746704102, -8.456299781799316, -8.456299781799316, -8.457099914550781, -8.457099914550781, -8.461899757385254, -8.462499618530273, -8.459099769592285, -8.461899757385254, -8.54520034790039, -7.207600116729736, -8.560600280761719, -8.664999961853027, -8.669300079345703, -8.671099662780762, -8.061400413513184, -8.215299606323242, -8.137399673461914, -3.681299924850464, -3.2718000411987305, -5.4756999015808105, -7.603899955749512, -2.5048000812530518, -7.013400077819824, -4.083600044250488, -4.838399887084961, -5.777699947357178, -5.124300003051758, -6.741300106048584, -5.18720006942749, -4.277699947357178, -4.136600017547607, -3.7346999645233154, -5.662300109863281, -3.9437999725341797, -3.1865999698638916, -5.0254998207092285, -4.332900047302246, -6.739999771118164, -5.636600017547607, -5.975100040435791, -5.70389986038208, -4.912399768829346, -4.908899784088135, -5.307499885559082, -4.553400039672852, -5.617800235748291, -4.784900188446045, -5.834499835968018, -5.029099941253662, -5.598100185394287, -4.910699844360352, -5.163300037384033, -3.7955000400543213, -3.8380000591278076, -3.765000104904175, -5.353099822998047, -4.395500183105469, -3.486599922180176, -6.286200046539307, -6.4096999168396, -6.528600215911865, -5.5, -6.73799991607666, -7.244200229644775, -5.436200141906738, -6.681600093841553, -7.437099933624268, -7.516900062561035, -7.586699962615967, -7.677299976348877, -7.691800117492676, -7.8404998779296875, -7.859099864959717, -7.859499931335449, -7.8607001304626465, -7.861100196838379, -7.863999843597412, -7.80620002746582, -7.80649995803833, -7.807000160217285, -6.714399814605713, -4.8144001960754395, -3.4979000091552734, -6.150000095367432, -5.813300132751465, -5.935200214385986, -4.552299976348877, -6.8856000900268555, -5.672399997711182, -3.4976999759674072, -7.428299903869629, -5.7571001052856445, -4.0960001945495605, -6.048600196838379, -5.7941999435424805, -4.946100234985352, -4.282899856567383, -6.360400199890137, -3.6242001056671143, -4.390600204467773, -5.123799800872803, -3.909600019454956, -3.1149001121520996, -5.668300151824951, -5.565199851989746, -5.7804999351501465, -3.3880999088287354, -5.446499824523926, -4.961100101470947, -5.019400119781494, -4.906799793243408, -4.029200077056885, -4.553400039672852, -3.82669997215271, -4.733099937438965, -4.37470006942749, -4.2733001708984375, -4.963699817657471, -4.851399898529053, -4.851399898529053, -6.869100093841553, -6.840000152587891, -7.127500057220459, -7.244699954986572, -7.082099914550781, -7.326300144195557, -6.176799774169922, -7.507800102233887, -7.54040002822876, -7.406400203704834, -7.59250020980835, -7.595099925994873, -7.648399829864502, -7.653600215911865, -7.133800029754639, -7.747900009155273, -7.747000217437744, -7.750500202178955, -7.753600120544434, -7.754000186920166, -7.647299766540527, -7.926599979400635, -7.926400184631348, -7.926799774169922, -7.926799774169922, -7.929800033569336, -7.936399936676025, -6.907400131225586, -7.427199840545654, -8.062100410461426, -4.714600086212158, -6.342400074005127, -5.813899993896484, -5.413400173187256, -5.0295000076293945, -5.836699962615967, -6.736999988555908, -6.590700149536133, -6.928500175476074, -4.563199996948242, -5.019199848175049, -6.5279998779296875, -5.150400161743164, -4.718200206756592, -5.895400047302246, -4.622399806976318, -5.842299938201904, -6.754199981689453, -3.9375, -5.895299911499023, -4.539100170135498, -6.356800079345703, -5.249800205230713, -3.713399887084961, -5.34660005569458, -4.904600143432617, -4.744800090789795, -4.868599891662598, -2.8965001106262207, -5.911900043487549, -3.7685999870300293, -4.3196001052856445, -4.904900074005127, -3.8531999588012695, -5.26230001449585, -4.8277997970581055, -3.95770001411438, -3.7183001041412354, -5.304500102996826, -4.851099967956543, -4.960899829864502, -4.622799873352051, -4.8755998611450195, -4.883900165557861, -4.96750020980835, -4.985300064086914, -4.8566999435424805, -4.8871002197265625, -4.9934000968933105, -4.953199863433838, -6.486999988555908, -5.433499813079834, -7.239500045776367, -6.562900066375732, -1.7990000247955322, -7.32289981842041, -7.360799789428711, -7.365799903869629, -7.513500213623047, -7.599699974060059, -7.599899768829346, -7.7393999099731445, -7.706299781799316, -7.757199764251709, -7.752999782562256, -6.852499961853027, -7.916999816894531, -7.9390997886657715, -7.939000129699707, -7.9405999183654785, -7.940400123596191, -7.940800189971924, -7.940800189971924, -7.940800189971924, -7.935500144958496, -7.937399864196777, -7.042300224304199, -8.074399948120117, -8.074600219726562, -8.077899932861328, -7.357999801635742, -6.0802001953125, -3.529900074005127, -4.825799942016602, -3.637200117111206, -6.794600009918213, -3.9340999126434326, -5.884200096130371, -6.43120002746582, -7.022500038146973, -7.4629998207092285, -4.573299884796143, -7.455399990081787, -6.396699905395508, -4.5854997634887695, -4.930300235748291, -6.110300064086914, -6.4421000480651855, -5.7322998046875, -5.831600189208984, -4.734799861907959, -6.054200172424316, -6.341100215911865, -4.484799861907959, -3.6916000843048096, -4.075300216674805, -5.2600998878479, -4.931700229644775, -4.148600101470947, -4.405600070953369, -3.1577999591827393, -4.060400009155273, -4.967299938201904, -4.064000129699707, -4.7357001304626465, -4.625400066375732, -4.022600173950195, -4.204699993133545, -4.058199882507324, -4.207399845123291, -4.157599925994873, -4.526000022888184, -5.18120002746582, -5.013400077819824, -5.242700099945068, -6.649099826812744, -6.644599914550781, -7.073999881744385, -7.14739990234375, -7.163599967956543, -7.273900032043457, -7.507900238037109, -7.5192999839782715, -7.390600204467773, -7.555600166320801, -4.311500072479248, -7.621399879455566, -7.688700199127197, -7.6894001960754395, -7.6915998458862305, -7.703199863433838, -5.910799980163574, -7.825200080871582, -7.8333001136779785, -7.895699977874756, -7.895599842071533, -7.901800155639648, -4.591400146484375, -7.994699954986572, -7.997900009155273, -7.499499797821045, -8.084600448608398, -8.085100173950195, -6.75570011138916, -8.089400291442871, -2.8215999603271484, -5.723999977111816, -6.698500156402588, -6.2484002113342285, -3.80430006980896, -3.7952001094818115, -2.9302000999450684, -4.003499984741211, -4.066199779510498, -3.7946999073028564, -6.426199913024902, -4.709499835968018, -5.174699783325195, -5.4842000007629395, -6.7708001136779785, -6.183499813079834, -6.154699802398682, -5.383299827575684, -5.812900066375732, -6.26230001449585, -5.811399936676025, -5.090799808502197, -5.05019998550415, -4.632699966430664, -5.377699851989746, -5.3933000564575195, -5.679299831390381, -3.3828999996185303, -4.038599967956543, -4.0894999504089355, -3.1833999156951904, -4.9583001136779785, -5.053800106048584, -5.5441999435424805, -3.7548999786376953, -3.6566998958587646, -4.485899925231934, -4.608399868011475, -4.78380012512207, -4.997700214385986, -4.492300033569336, -4.597300052642822, -4.7316999435424805, -5.002799987792969, -5.104499816894531, -5.098400115966797, -4.301400184631348, -5.546800136566162, -6.489099979400635, -6.868500232696533, -6.907100200653076, -7.0894999504089355, -7.090799808502197, -6.357399940490723, -7.168099880218506, -7.22130012512207, -7.222899913787842, -6.17140007019043, -4.500100135803223, -7.364299774169922, -7.174099922180176, -6.7932000160217285, -7.4456000328063965, -7.120100021362305, -7.5742998123168945, -7.4028000831604, -6.832200050354004, -7.642000198364258, -7.6427001953125, -7.6433000564575195, -7.64769983291626, -7.649099826812744, -7.662199974060059, -7.552199840545654, -7.6697998046875, -7.777400016784668, -5.531400203704834, -5.859399795532227, -6.849800109863281, -6.721399784088135, -6.760200023651123, -5.7256999015808105, -2.2135000228881836, -7.1631999015808105, -7.117099761962891, -5.281099796295166, -5.0706000328063965, -5.432499885559082, -5.4481000900268555, -3.8036000728607178, -5.439000129699707, -5.980400085449219, -6.53410005569458, -5.8983001708984375, -3.7690000534057617, -3.4351000785827637, -4.368299961090088, -4.452000141143799, -5.215099811553955, -4.756999969482422, -5.453100204467773, -4.061100006103516, -4.616799831390381, -4.214700222015381, -5.147299766540527, -5.540999889373779, -3.3336000442504883, -4.867199897766113, -5.337399959564209, -4.804800033569336, -4.952600002288818, -4.208899974822998, -4.552199840545654, -4.572800159454346, -5.211699962615967, -4.740499973297119, -4.8354997634887695, -5.031799793243408, -5.3730998039245605, -5.3221001625061035, -5.250400066375732, -7.195499897003174, -4.180300235748291, -7.437900066375732, -7.244699954986572, -7.775700092315674, -4.586299896240234, -8.296899795532227, -8.263799667358398, -8.164600372314453, -6.378699779510498, -5.884500026702881, -2.4395999908447266, -8.392800331115723, -8.4443998336792, -3.2409000396728516, -8.540599822998047, -8.545900344848633, -8.549200057983398, -2.649600028991699, -8.651300430297852, -8.719799995422363, -8.720000267028809, -8.722000122070312, -8.723799705505371, -3.937999963760376, -8.446100234985352, -7.960899829864502, -4.8053998947143555, -7.913899898529053, -5.911900043487549, -5.186600208282471, -4.681300163269043, -6.342199802398682, -5.172800064086914, -2.294100046157837, -6.088099956512451, -2.509500026702881, -3.6092000007629395, -3.500499963760376, -4.387800216674805, -6.216000080108643, -5.906000137329102, -6.46999979019165, -5.39139986038208, -5.004000186920166, -5.456900119781494, -3.8671998977661133, -2.591099977493286, -3.2583999633789062, -4.2758002281188965, -4.570799827575684, -5.33459997177124, -4.485300064086914, -4.999300003051758, -5.1305999755859375, -3.880199909210205, -5.461900234222412, -5.114999771118164, -5.097899913787842, -5.20989990234375, -5.344799995422363]}, \"token.table\": {\"Topic\": [1, 2, 3, 4, 5, 6, 7, 8, 9, 11, 12, 13, 14, 2, 3, 5, 8, 9, 11, 12, 14, 15, 1, 3, 4, 5, 6, 7, 8, 10, 11, 12, 14, 15, 1, 3, 4, 5, 6, 7, 8, 10, 11, 12, 14, 15, 5, 15, 6, 1, 2, 3, 4, 5, 6, 7, 8, 10, 11, 12, 13, 8, 11, 1, 4, 6, 8, 11, 13, 3, 4, 5, 6, 7, 8, 9, 10, 11, 12, 15, 1, 2, 3, 4, 5, 6, 7, 8, 10, 12, 14, 9, 13, 11, 8, 2, 3, 4, 7, 8, 9, 10, 11, 13, 14, 1, 2, 3, 4, 5, 6, 7, 8, 9, 10, 11, 12, 13, 14, 15, 3, 4, 5, 8, 9, 10, 11, 13, 3, 7, 1, 2, 3, 4, 6, 7, 8, 9, 10, 11, 12, 13, 14, 15, 8, 6, 1, 2, 3, 4, 5, 6, 8, 10, 12, 1, 1, 4, 11, 3, 4, 6, 10, 11, 12, 15, 11, 8, 6, 15, 15, 14, 1, 3, 4, 6, 10, 11, 14, 1, 3, 6, 14, 3, 6, 14, 4, 9, 11, 12, 13, 11, 2, 3, 4, 5, 7, 8, 9, 10, 11, 12, 13, 14, 8, 12, 1, 3, 10, 9, 6, 7, 9, 10, 12, 14, 2, 3, 4, 5, 6, 7, 8, 9, 11, 12, 13, 14, 15, 2, 10, 13, 8, 3, 6, 14, 1, 2, 4, 5, 6, 9, 10, 12, 13, 14, 15, 1, 4, 6, 11, 1, 4, 8, 13, 2, 1, 2, 3, 4, 5, 6, 7, 8, 9, 10, 11, 12, 13, 14, 15, 1, 2, 3, 4, 5, 6, 7, 8, 9, 10, 11, 12, 13, 14, 15, 1, 2, 3, 4, 5, 6, 7, 8, 9, 10, 11, 12, 13, 14, 15, 1, 2, 3, 4, 7, 9, 12, 13, 14, 15, 3, 1, 4, 5, 6, 8, 9, 15, 1, 2, 3, 4, 5, 6, 8, 9, 10, 11, 12, 13, 14, 15, 1, 2, 3, 4, 5, 6, 7, 8, 11, 12, 13, 14, 7, 13, 3, 5, 1, 8, 15, 1, 4, 6, 7, 8, 10, 15, 4, 5, 8, 10, 12, 13, 1, 4, 5, 6, 8, 10, 11, 1, 3, 4, 5, 6, 8, 9, 11, 13, 14, 11, 7, 12, 1, 2, 3, 4, 5, 6, 7, 8, 9, 10, 11, 12, 13, 14, 15, 1, 12, 1, 2, 3, 4, 5, 7, 8, 9, 11, 12, 14, 3, 4, 9, 11, 13, 5, 11, 6, 2, 3, 4, 5, 6, 7, 8, 9, 11, 12, 13, 14, 8, 1, 8, 10, 12, 15, 2, 5, 6, 8, 13, 15, 12, 1, 3, 5, 10, 2, 3, 4, 5, 8, 9, 11, 12, 14, 6, 8, 9, 10, 11, 13, 5, 3, 7, 8, 10, 11, 12, 14, 1, 2, 3, 4, 5, 6, 7, 8, 9, 10, 11, 12, 13, 14, 15, 7, 4, 9, 2, 3, 4, 5, 6, 7, 8, 9, 11, 12, 13, 14, 15, 1, 2, 3, 4, 6, 7, 8, 9, 11, 12, 14, 15, 1, 2, 3, 4, 5, 6, 7, 8, 11, 13, 14, 15, 10, 6, 1, 2, 3, 4, 5, 6, 7, 8, 9, 10, 11, 12, 13, 14, 15, 11, 12, 12, 2, 5, 6, 13, 3, 4, 6, 7, 8, 10, 11, 12, 14, 15, 7, 1, 2, 3, 4, 5, 6, 7, 8, 9, 10, 12, 13, 14, 15, 1, 2, 3, 4, 5, 6, 8, 9, 10, 11, 12, 13, 15, 1, 2, 3, 4, 6, 7, 8, 10, 12, 14, 12, 1, 2, 3, 4, 5, 6, 7, 8, 9, 10, 11, 12, 13, 15, 11, 2, 3, 4, 6, 7, 8, 9, 11, 12, 15, 10, 1, 10, 11, 4, 10, 12, 13, 8, 11, 12, 14, 1, 2, 3, 4, 5, 6, 7, 8, 10, 11, 13, 14, 3, 15, 7, 5, 10, 12, 12, 14, 3, 8, 9, 12, 3, 1, 7, 8, 1, 2, 3, 4, 5, 6, 7, 8, 11, 13, 14, 15, 1, 2, 3, 4, 5, 6, 7, 8, 9, 10, 11, 12, 13, 14, 15, 5, 9, 14, 1, 2, 3, 5, 6, 11, 12, 13, 14, 4, 14, 1, 8, 9, 10, 12, 13, 1, 1, 4, 6, 8, 10, 9, 6, 1, 3, 4, 5, 7, 8, 9, 10, 11, 12, 13, 14, 15, 3, 1, 5, 7, 9, 12, 14, 5, 4, 6, 8, 10, 11, 6, 11, 2, 1, 3, 4, 5, 6, 7, 8, 9, 10, 11, 12, 13, 14, 2, 3, 4, 5, 8, 12, 1, 2, 3, 4, 5, 6, 7, 8, 9, 10, 11, 12, 13, 14, 1, 2, 4, 6, 7, 8, 10, 11, 12, 13, 14, 14, 3, 11, 15, 3, 5, 10, 13, 4, 2, 1, 2, 5, 6, 8, 15, 2, 3, 4, 6, 7, 11, 14, 4, 5, 8, 9, 12, 14, 15, 1, 2, 3, 4, 5, 6, 7, 8, 9, 10, 11, 12, 14, 15, 1, 1, 8, 7, 11, 1, 2, 3, 4, 5, 6, 7, 8, 9, 10, 11, 12, 13, 14, 15, 2, 5, 8, 11, 12, 14, 5, 14, 1, 2, 3, 4, 5, 6, 7, 8, 9, 10, 11, 12, 13, 14, 7, 1, 2, 3, 4, 5, 6, 8, 9, 10, 11, 12, 13, 14, 10, 8, 2, 1, 3, 5, 6, 9, 10, 11, 12, 13, 14, 2, 3, 5, 6, 8, 9, 12, 13, 14, 15, 7, 5, 4, 1, 2, 3, 4, 5, 6, 8, 9, 10, 11, 12, 13, 15, 1, 14, 14, 10, 3, 6, 7, 8, 1, 2, 3, 5, 7, 8, 10, 12, 13, 14, 15, 15, 10, 1, 2, 3, 4, 6, 7, 8, 9, 10, 11, 12, 13, 14, 15, 14, 8, 10, 3, 5, 4, 13, 5, 9, 2, 14, 9, 5, 15, 6, 9, 1, 3, 4, 5, 6, 7, 8, 10, 11, 12, 13, 14, 15, 9, 6, 7, 10, 4, 13, 12, 1, 2, 3, 4, 6, 8, 13, 15, 1, 3, 4, 5, 6, 7, 8, 10, 11, 12, 13, 15, 7, 8, 13, 3, 6, 8, 10, 11, 15, 7, 3, 4, 6, 12, 13, 12, 7, 1, 2, 3, 4, 6, 7, 8, 10, 11, 15, 4, 11, 14, 9, 12, 1, 2, 3, 5, 6, 8, 9, 10, 12, 13, 14, 15, 9, 1, 2, 3, 4, 5, 6, 7, 8, 9, 10, 11, 12, 13, 14, 15, 1, 2, 3, 4, 5, 6, 8, 9, 11, 12, 13, 14, 15, 2, 3, 4, 5, 6, 7, 8, 9, 11, 12, 13, 15, 14, 1, 2, 4, 8, 9, 15, 4, 6, 11, 15, 10, 1, 2, 3, 4, 5, 6, 7, 8, 9, 10, 11, 12, 13, 14, 15, 4, 6, 8, 10, 15, 1, 2, 3, 4, 5, 6, 7, 8, 9, 10, 11, 12, 13, 14, 15, 15, 5, 1, 3, 4, 5, 6, 7, 10, 11, 12, 14, 15, 3, 4, 7, 8, 10, 4, 3, 5, 8, 9, 12, 13, 7, 1, 3, 10, 14, 11, 4, 12, 9, 15, 4, 14, 1, 3, 11, 13, 14, 9, 3, 4, 5, 7, 9, 12, 13, 1, 2, 3, 4, 5, 6, 7, 8, 9, 10, 11, 12, 13, 14, 15, 2, 3, 4, 5, 6, 8, 12, 13, 1, 2, 3, 4, 5, 6, 11, 14, 3, 4, 5, 6, 7, 8, 10, 11, 12, 14, 15, 13, 2, 3, 4, 6, 7, 8, 10, 11, 12, 13, 14, 15, 2, 3, 4, 5, 6, 8, 11, 13, 4, 8, 11, 15, 3, 4, 7, 12, 13, 3, 4, 5, 6, 8, 2, 10, 14, 1, 2, 3, 4, 5, 6, 7, 8, 9, 10, 11, 12, 14, 15, 13, 1, 3, 6, 8, 10, 14, 8, 10, 11, 10, 8, 12, 3, 14, 1, 1, 2, 3, 4, 5, 6, 7, 8, 9, 10, 11, 12, 13, 14, 15, 7, 4, 1, 2, 3, 4, 5, 6, 7, 8, 9, 10, 11, 12, 13, 14, 15, 3, 6, 4, 5, 6, 8, 11, 7, 11, 15, 5, 8, 11, 15, 11, 1, 2, 4, 5, 6, 8, 9, 11, 12, 13, 14, 15, 1, 2, 3, 4, 5, 6, 7, 8, 9, 10, 11, 12, 13, 14, 15, 3, 13, 3, 5, 8, 12, 1, 5, 6, 7, 2, 4, 7, 12, 4, 5, 8, 10, 11, 12, 13, 14, 1, 4, 9, 13, 1, 2, 3, 4, 5, 6, 7, 9, 10, 11, 12, 13, 14, 10, 3, 4, 6, 11, 12, 11, 4, 6, 7, 11, 12, 14, 15, 5, 7, 8, 10, 1, 2, 3, 4, 5, 6, 7, 8, 9, 10, 11, 12, 13, 14, 15, 12, 4, 1, 2, 3, 4, 5, 6, 7, 8, 9, 11, 12, 14, 15, 1, 2, 4, 8, 11, 12, 13, 2, 2, 4, 6, 8, 10, 12, 5, 14, 6, 1, 3, 4, 6, 8, 10, 11, 12, 14, 15, 4, 6, 13, 15, 7, 7, 1, 2, 3, 4, 5, 7, 8, 9, 10, 11, 12, 13, 14, 9, 14, 10, 1, 2, 3, 4, 5, 6, 7, 8, 9, 10, 11, 12, 14, 15, 4, 5, 13, 1, 2, 3, 4, 5, 6, 7, 8, 9, 10, 11, 12, 14, 15, 15, 6, 11, 4, 6, 8, 9, 10, 11, 12, 14, 11, 1, 7, 13, 14, 9, 9, 2, 4, 8, 14, 1, 2, 3, 4, 5, 6, 7, 8, 11, 12, 14, 9, 4, 1, 4, 5, 8, 9, 12, 15, 2, 1, 3, 4, 7, 11, 6, 11, 4, 3, 6, 9, 1, 3, 4, 5, 6, 7, 8, 9, 10, 11, 12, 13, 15, 1, 2, 3, 4, 5, 6, 7, 8, 9, 10, 11, 12, 13, 14, 15, 12, 13, 1, 2, 3, 4, 5, 7, 8, 10, 11, 12, 13, 14, 15, 12, 11, 8, 2, 13, 15, 5, 11, 12, 13, 9, 9, 2, 4, 5, 6, 7, 8, 10, 11, 13, 14, 1, 3, 5, 6, 8, 10, 12, 13, 1, 2, 4, 5, 6, 8, 9, 10, 13, 15, 3, 7, 5, 5, 3, 4, 5, 8, 10, 11, 14, 2, 3, 4, 5, 6, 7, 8, 9, 10, 11, 12, 13, 14, 15, 2, 8, 12, 2, 4, 11, 15, 2, 3, 4, 6, 7, 9, 11, 12, 13, 15, 1, 3, 4, 5, 6, 7, 9, 11, 12, 14, 15, 2, 3, 4, 5, 8, 10, 11, 14, 15, 2, 8, 10, 11, 15, 11, 5, 15, 1, 2, 3, 4, 7, 8, 10, 11, 15, 3, 5, 6, 8, 12, 6, 9, 12, 13, 1, 2, 3, 4, 5, 6, 7, 8, 9, 10, 11, 12, 13, 14, 15, 9, 14, 1, 2, 3, 4, 5, 6, 7, 8, 9, 10, 11, 12, 13, 14, 15, 6, 13, 14, 15, 1, 2, 3, 5, 7, 11, 14, 15, 12, 1, 2, 3, 4, 5, 6, 7, 8, 9, 10, 11, 12, 13, 14, 15, 4, 6, 1, 3, 5, 7, 8, 10, 11, 14, 15, 3, 4, 5, 8, 10, 11, 14, 1, 3, 4, 6, 10, 11, 14, 15, 2, 5, 12, 1, 2, 3, 4, 5, 6, 7, 8, 9, 10, 11, 12, 13, 14, 15, 8, 1, 3, 4, 6, 7, 8, 10, 11, 13, 14, 12, 11, 4, 5, 7, 8, 10, 11, 12, 13, 1, 2, 3, 4, 5, 6, 7, 8, 9, 10, 11, 12, 13, 14, 15, 1, 2, 3, 4, 5, 6, 7, 8, 9, 11, 12, 13, 14, 15, 1, 2, 3, 4, 5, 6, 7, 8, 9, 10, 11, 12, 13, 14, 15, 1, 2, 4, 5, 7, 8, 1, 2, 3, 4, 5, 6, 7, 8, 9, 10, 11, 12, 13, 14, 15, 1, 2, 3, 4, 5, 6, 7, 8, 9, 10, 11, 12, 13, 14, 15, 1, 1, 2, 3, 4, 5, 6, 7, 8, 9, 10, 11, 12, 13, 14, 6, 3, 11, 5, 3, 2, 14, 15, 5, 4, 5, 6, 7, 8, 12, 2, 3, 4, 7, 9, 10, 11, 13, 14, 2, 2, 3, 4, 5, 7, 8, 9, 10, 11, 13, 15, 1, 5, 1, 2, 3, 4, 5, 6, 8, 9, 10, 11, 12, 13, 15, 6, 4, 11, 4, 9, 1, 2, 3, 4, 7, 8, 10, 11, 1, 2, 3, 4, 5, 7, 8, 9, 10, 12, 14, 4, 5, 8, 12, 7, 4, 10, 14, 10, 9, 3, 4, 7, 11, 13, 3, 9, 8, 4, 6, 8, 14, 15, 3, 4, 13, 6, 3, 4, 8, 10, 11, 13, 11, 11, 1, 2, 3, 4, 8, 10, 11, 12, 15, 2, 3, 4, 6, 7, 8, 9, 11, 12, 13, 14, 15, 4, 13, 2, 4, 5, 6, 8, 10, 12, 14, 15, 1, 2, 3, 4, 5, 6, 7, 8, 9, 11, 12, 13, 14, 15, 6, 2, 3, 4, 5, 6, 8, 10, 11, 15, 5, 14, 3, 1, 2, 4, 6, 7, 8, 9, 10, 11, 12, 13, 14, 15, 1, 6, 7, 8, 9, 12, 13, 7, 14, 1, 2, 3, 4, 5, 6, 7, 8, 9, 10, 11, 12, 13, 14, 15, 1, 4, 5, 6, 7, 8, 10, 15, 3, 12, 3, 4, 5, 6, 8, 9, 10, 11, 12, 13, 15, 1, 2, 3, 4, 5, 6, 7, 8, 9, 10, 11, 12, 13, 14, 15, 10, 12, 5, 9, 13, 14, 1, 2, 3, 4, 5, 6, 7, 8, 9, 10, 11, 12, 13, 14, 15, 12, 2, 3, 6, 8, 9, 11, 12, 10, 4, 14, 3, 8, 1, 3, 4, 5, 6, 8, 10, 11, 12, 13, 1, 2, 3, 4, 5, 6, 7, 8, 9, 10, 11, 12, 13, 14, 15, 2, 3, 4, 5, 6, 7, 8, 10, 11, 12, 13, 14, 15, 1, 1, 1, 3, 4, 6, 9, 10, 11, 12, 13, 14, 2, 3, 4, 5, 6, 7, 8, 9, 10, 11, 12, 13, 14, 11, 3, 4, 7, 10, 11, 13, 10, 11, 14, 1, 2, 3, 4, 5, 8, 9, 10, 11, 12, 13, 14, 1, 2, 4, 7, 8, 9, 10, 13, 15, 1, 3, 6, 10, 11, 12, 13, 14, 2, 3, 4, 7, 8, 10, 11, 12, 11, 10, 6, 9, 11, 14, 14, 1, 1, 6, 9, 11, 7, 2, 3, 6, 7, 11, 4, 2, 4, 5, 6, 8, 9, 10, 11, 12, 13, 14, 13, 1, 2, 3, 4, 5, 6, 7, 8, 9, 10, 11, 12, 13, 14, 15, 2, 3, 4, 5, 8, 12, 13, 4, 14, 2, 4, 5, 7, 8, 9, 10, 11, 13, 15, 14, 3, 1, 2, 3, 4, 6, 8, 10, 11, 12, 13, 15, 2, 2, 4, 5, 15, 3, 5, 8, 15, 6, 5, 6, 7, 11, 1, 2, 3, 4, 5, 6, 7, 8, 9, 10, 11, 12, 13, 14, 15, 10, 14, 4, 11, 15, 3, 6, 10, 11, 13, 1, 2, 3, 4, 5, 6, 8, 9, 10, 11, 12, 13, 3, 13, 4, 7, 10, 3, 6, 8, 9, 10, 11, 12, 4, 2, 2, 3, 4, 5, 6, 8, 9, 10, 11, 12, 13, 14, 1, 2, 3, 5, 10, 12, 13, 4, 5, 6, 7, 8, 9, 10, 15, 3, 6, 10, 11, 14, 1, 2, 3, 4, 5, 6, 7, 8, 11, 12, 13, 15, 1, 2, 3, 4, 5, 6, 7, 8, 9, 10, 11, 12, 13, 14, 15, 1, 2, 3, 4, 5, 7, 8, 9, 10, 11, 12, 13, 14, 2, 3, 4, 6, 8, 10, 11, 12, 13, 14, 15, 1, 2, 3, 4, 5, 6, 7, 8, 9, 10, 11, 12, 13, 14, 15, 13, 8, 1, 4, 8, 12, 13, 15, 1, 7, 10, 11, 15, 7, 8, 6, 8, 1, 2, 3, 4, 5, 6, 7, 8, 9, 11, 12, 13, 15, 3, 11, 1, 3, 4, 5, 6, 7, 8, 10, 12, 4, 2, 8, 6, 2, 15, 5, 12, 3, 5, 2, 3, 5, 8, 11, 13, 1, 2, 3, 4, 5, 6, 7, 8, 10, 11, 12, 13, 14, 15, 1, 2, 3, 4, 6, 8, 9, 11, 14, 15, 1, 5, 6, 7, 8, 9, 13, 14, 15, 3, 5, 8, 9, 1, 2, 3, 4, 5, 6, 7, 8, 9, 10, 11, 12, 13, 14, 15, 7, 4, 5, 10, 12, 13, 1, 3, 1, 14, 8, 4, 8, 13, 10, 1, 3, 3, 6, 10, 12, 2, 2, 3, 4, 5, 7, 8, 9, 10, 12, 14, 15, 10, 1, 1, 2, 3, 4, 5, 6, 7, 8, 9, 10, 11, 12, 13, 14, 15, 8, 13, 3, 8, 10, 4, 1, 5, 6, 10, 12, 13, 14, 15, 2, 5, 7, 8, 11, 13, 14, 2, 3, 4, 5, 6, 8, 9, 10, 11, 12, 13, 14, 15, 1, 8, 11, 12, 15, 1, 2, 3, 4, 5, 6, 7, 8, 9, 10, 11, 12, 14, 15, 2, 3, 4, 5, 6, 7, 8, 10, 11, 12, 13, 14, 9, 12, 2, 5, 6, 1, 3, 4, 6, 7, 8, 11, 12, 14, 12, 3, 1, 2, 3, 4, 5, 6, 7, 8, 9, 10, 11, 12, 13, 14, 15, 3, 4, 6, 7, 11, 14, 15, 8, 1, 2, 3, 4, 5, 6, 7, 8, 9, 10, 12, 13, 14, 15, 8, 7, 14, 8, 10, 11, 9, 1, 2, 3, 4, 5, 6, 7, 8, 9, 10, 11, 12, 14, 15, 1, 4, 7, 8, 10, 11, 15, 11, 8, 1, 2, 5, 8, 9, 11, 12, 13, 14, 4, 5, 8, 11, 12, 14, 3, 5, 6, 8, 10, 11, 12, 14, 2, 5, 9, 12, 4, 8, 11, 3, 5, 9, 12, 14, 3, 7, 8, 10, 11, 12, 10, 2, 4, 7, 8, 10, 11, 14, 10, 11, 12, 13, 1, 2, 3, 4, 5, 6, 7, 8, 9, 10, 11, 12, 13, 14, 15, 1, 3, 11, 3, 3, 10, 10, 3, 12, 1, 2, 4, 5, 6, 8, 14, 15, 1, 3, 4, 6, 7, 8, 9, 10, 11, 12, 13, 14, 15, 4, 1, 2, 3, 4, 5, 6, 7, 8, 9, 10, 11, 12, 13, 14, 15, 1, 3, 4, 5, 6, 7, 9, 10, 12, 14, 9, 5, 7, 11, 12, 13, 14, 3, 6, 9, 13, 6, 8, 11, 6, 4, 7, 8, 1, 3, 2, 4, 5, 7, 8, 9, 11, 13, 14, 15, 1, 2, 3, 4, 5, 6, 7, 8, 9, 10, 11, 12, 13, 14, 15, 7, 8, 3, 8, 13, 2, 3, 1, 2, 3, 4, 6, 7, 8, 9, 10, 12, 13, 14, 15, 1, 2, 3, 4, 6, 7, 8, 9, 10, 11, 12, 13, 14, 15, 2, 5, 9, 2, 3, 11, 14, 10, 14, 1, 10, 12, 14, 1, 2, 3, 4, 5, 6, 8, 9, 10, 11, 12, 13, 9, 10, 12, 1, 4, 8, 11, 7, 8, 1, 2, 4, 5, 7, 8, 9, 10, 11, 12, 14, 15, 5, 6, 7, 11, 13, 15, 7, 7, 3, 3, 2, 3, 4, 5, 6, 7, 8, 9, 10, 11, 12, 13, 14, 6, 5, 6, 4, 6, 10, 12, 14, 15, 14, 13, 9, 1, 2, 3, 4, 5, 7, 8, 9, 10, 11, 12, 13, 14, 15, 14, 6, 7, 13, 14, 2, 3, 15, 1, 2, 3, 4, 5, 6, 7, 8, 9, 10, 11, 12, 13, 14, 15, 4, 6, 14, 3, 10, 13, 1, 2, 3, 4, 5, 6, 7, 8, 9, 10, 11, 12, 13, 14, 15, 13, 14, 2, 8, 15, 3, 4, 5, 8, 9, 10, 4, 5, 10, 7, 10, 14, 1, 2, 4, 6, 8, 11, 1, 3, 5, 6, 7, 8, 9, 10, 12, 13, 14, 15, 2, 3, 5, 8, 12, 13, 14, 5, 8, 14, 1, 3, 4, 6, 8, 9, 11, 12, 1, 3, 4, 5, 6, 7, 8, 11, 12, 1, 4, 5, 7, 8, 11, 12, 14, 2, 6, 12, 13, 1, 2, 3, 4, 5, 6, 7, 8, 9, 10, 11, 12, 13, 14, 15, 1, 2, 3, 4, 5, 6, 7, 8, 9, 10, 11, 12, 13, 14, 1, 2, 3, 4, 5, 6, 7, 8, 9, 10, 11, 12, 14, 15, 5, 9, 1, 2, 3, 4, 5, 6, 7, 8, 9, 10, 11, 12, 13, 14, 15, 3, 5, 8, 10, 12, 12, 9, 11, 1, 4, 5, 7, 8, 9, 11, 13, 15, 4, 6, 8, 10, 11, 12, 14, 5, 2, 3, 4, 6, 7, 12, 1, 2, 3, 4, 5, 6, 7, 8, 10, 11, 12, 13, 14, 15, 1, 3, 4, 7, 8, 9, 10, 11, 15, 11, 1, 2, 3, 5, 6, 7, 8, 10, 11, 12, 13, 14, 8, 11, 1, 6, 14, 15, 8, 13, 1, 2, 3, 4, 6, 8, 11, 12, 14, 15, 3, 7, 12, 1, 2, 4, 5, 8, 11, 13, 14, 7, 1, 1, 3, 5, 6, 7, 8, 10, 11, 12, 14, 2, 4, 5, 7, 8, 9, 12, 15, 1, 13, 5, 2, 3, 4, 6, 13, 1, 3, 4, 5, 7, 8, 10, 11, 14, 2, 3, 6, 7, 8, 10, 11, 12, 13, 11, 9, 13, 4, 1, 2, 3, 4, 5, 6, 7, 8, 9, 10, 11, 12, 13, 14, 15, 1, 4, 6, 7, 9, 10, 12, 13, 1, 2, 4, 5, 6, 7, 8, 9, 10, 11, 12, 14, 15, 6, 2, 2, 9, 1, 2, 3, 4, 5, 6, 7, 8, 9, 10, 11, 12, 13, 14, 15, 3, 4, 5, 6, 7, 8, 10, 12, 13, 14, 15, 1, 2, 3, 4, 5, 6, 7, 9, 10, 11, 12, 13, 1, 3, 4, 5, 6, 10, 11, 14, 15, 6, 6, 3, 4, 8, 10, 2, 3, 4, 6, 7, 10, 11, 13, 14, 15, 4, 1, 2, 3, 4, 5, 6, 7, 8, 9, 10, 11, 12, 13, 14, 15, 6, 12, 9, 1, 2, 3, 4, 6, 8, 9, 11, 12, 13, 14, 15, 6, 3, 4, 7, 9, 10, 11, 13, 1, 2, 3, 4, 5, 6, 7, 8, 9, 10, 11, 12, 13, 14, 15, 1, 6, 8, 10, 14, 5, 6, 7, 10, 12, 13, 3, 4, 6, 7, 8, 9, 10, 11, 12, 13, 14, 15, 1, 3, 4, 5, 6, 7, 8, 9, 10, 11, 12, 14, 15, 8, 11, 1, 2, 3, 6, 8, 10, 11, 12, 13, 14, 1, 3, 4, 5, 6, 7, 8, 11, 12, 13, 14, 15, 7, 8, 15, 14, 3, 2, 15, 6, 12, 1, 3, 5, 6, 8, 11, 12, 14, 4, 6, 9, 10, 9, 11, 13, 1, 2, 3, 4, 6, 7, 8, 9, 10, 11, 13, 14, 15, 1, 3, 4, 5, 6, 7, 8, 9, 10, 11, 12, 13, 14, 5, 7, 4, 5, 8, 9, 14, 12, 1, 3, 4, 5, 6, 7, 8, 10, 11, 12, 13, 14, 15, 4, 8, 1, 2, 3, 4, 5, 6, 7, 8, 9, 10, 11, 12, 13, 14, 15, 1, 2, 3, 4, 5, 6, 7, 9, 11, 12, 13, 14, 15, 4, 6, 7, 8, 11, 12, 14, 15, 15, 3, 7, 10, 15, 2, 3, 4, 5, 6, 7, 8, 9, 10, 11, 12, 13, 14, 15, 2, 3, 5, 10, 12, 13, 14, 15, 6, 1, 2, 3, 4, 5, 6, 7, 8, 9, 10, 11, 12, 14, 15, 11, 13, 12, 13, 14, 2, 4, 8, 12, 14, 9, 1, 2, 3, 4, 5, 7, 8, 9, 10, 12, 13, 14, 15, 14, 1, 2, 3, 4, 5, 7, 8, 9, 11, 12, 13, 14, 2, 5, 15, 1, 13, 5, 1, 2, 3, 4, 5, 6, 7, 8, 10, 11, 12, 13, 14, 15, 12, 2, 3, 4, 5, 8, 10, 11, 12, 13, 14, 15, 1, 4, 6, 10, 11, 14, 15, 1, 4, 5, 6, 7, 8, 11, 15, 1, 9, 11, 12, 1, 4, 8, 9, 10, 12, 14, 15, 4, 5, 14, 4, 13, 14, 15, 6, 8, 14, 8, 14], \"Freq\": [0.0020937672816216946, 0.035594042390584946, 0.0020937672816216946, 0.0020937672816216946, 0.7558499574661255, 0.0020937672816216946, 0.006281301844865084, 0.010468835942447186, 0.027218975126743317, 0.0020937672816216946, 0.07956315577030182, 0.0020937672816216946, 0.07746938616037369, 0.010756260715425014, 0.005378130357712507, 0.8712571263313293, 0.0026890651788562536, 0.0026890651788562536, 0.0026890651788562536, 0.08873915672302246, 0.010756260715425014, 0.0026890651788562536, 0.014042709022760391, 0.07021354883909225, 0.332344114780426, 0.058511290699243546, 0.21064063906669617, 0.032766323536634445, 0.004680903162807226, 0.06787309795618057, 0.10063941776752472, 0.004680903162807226, 0.004680903162807226, 0.09829896688461304, 0.03839196264743805, 0.03412618860602379, 0.7337130904197693, 0.012797321192920208, 0.07251815497875214, 0.008531547151505947, 0.017063094303011894, 0.03412618860602379, 0.0042657735757529736, 0.029860416427254677, 0.008531547151505947, 0.8504361510276794, 0.9716802835464478, 0.7868770360946655, 0.7250216603279114, 0.03172626718878746, 0.058164823800325394, 0.058164823800325394, 0.34370124340057373, 0.005287711508572102, 0.36485207080841064, 0.01586313359439373, 0.01586313359439373, 0.026438556611537933, 0.05287711322307587, 0.010575423017144203, 0.01586313359439373, 0.923244297504425, 0.6929370164871216, 0.23617298901081085, 0.5707513689994812, 0.05904324725270271, 0.10824594646692276, 0.019681081175804138, 0.7673810124397278, 0.004430368077009916, 0.03544294461607933, 0.017721472308039665, 0.02215184085071087, 0.004430368077009916, 0.013291104696691036, 0.004430368077009916, 0.013291104696691036, 0.004430368077009916, 0.008860736154019833, 0.8727825284004211, 0.0029788061510771513, 0.0029788061510771513, 0.0029788061510771513, 0.01787283644080162, 0.0029788061510771513, 0.0029788061510771513, 0.005957612302154303, 0.0029788061510771513, 0.9472603797912598, 0.00893641822040081, 0.0029788061510771513, 0.9005422592163086, 0.753350555896759, 0.692412793636322, 0.7771760821342468, 0.2806454598903656, 0.1169356107711792, 0.0350806824862957, 0.0350806824862957, 0.0467742420732975, 0.0584678053855896, 0.1520162969827652, 0.1286291629076004, 0.1169356107711792, 0.011693560518324375, 0.022591616958379745, 0.022591616958379745, 0.045702580362558365, 0.31368589401245117, 0.26746395230293274, 0.019475530833005905, 0.02077390067279339, 0.05141540244221687, 0.022072268649935722, 0.09114548563957214, 0.008309559896588326, 0.044923558831214905, 0.023370636627078056, 0.03090117685496807, 0.015580425038933754, 0.0031612631864845753, 0.2908362150192261, 0.0031612631864845753, 0.022128840908408165, 0.0063225263729691505, 0.047418948262929916, 0.04425768181681633, 0.5721886157989502, 0.854766309261322, 0.7605023384094238, 0.010907159186899662, 0.0018178598256781697, 0.030903616920113564, 0.3144897520542145, 0.018178598955273628, 0.01272501889616251, 0.010907159186899662, 0.0018178598256781697, 0.37811484932899475, 0.038175057619810104, 0.0018178598256781697, 0.07816797494888306, 0.027267897501587868, 0.07271439582109451, 0.9019227623939514, 0.6846579313278198, 0.009320566430687904, 0.12116736173629761, 0.027961699292063713, 0.01864113286137581, 0.009320566430687904, 0.01864113286137581, 0.16777019202709198, 0.41942548751831055, 0.19573189318180084, 0.9401406645774841, 0.7000983357429504, 0.9360568523406982, 0.7956628203392029, 0.04360654577612877, 0.029071029275655746, 0.5523495674133301, 0.3197813332080841, 0.014535514637827873, 0.014535514637827873, 0.014535514637827873, 0.7960084676742554, 0.8283026218414307, 0.768929660320282, 0.7394591569900513, 0.9252533316612244, 0.8460399508476257, 0.11835609376430511, 0.016908012330532074, 0.03381602466106415, 0.49033239483833313, 0.05072404071688652, 0.0676320493221283, 0.20289616286754608, 0.0770815908908844, 0.1541631817817688, 0.6423465609550476, 0.0770815908908844, 0.7646303772926331, 0.05881772190332413, 0.05881772190332413, 0.12239369004964828, 0.4283779263496399, 0.1529921144247055, 0.12239369004964828, 0.1529921144247055, 0.873187243938446, 0.011165406554937363, 0.05210522934794426, 0.07071424275636673, 0.24191713333129883, 0.003721802029758692, 0.03349621966481209, 0.25680434703826904, 0.029774416238069534, 0.011165406554937363, 0.03349621966481209, 0.11537586897611618, 0.1377066820859909, 0.8916304707527161, 0.08916305005550385, 0.8861222863197327, 0.020607493817806244, 0.08242997527122498, 0.5977219343185425, 0.02804804965853691, 0.05609609931707382, 0.02804804965853691, 0.7012012600898743, 0.02804804965853691, 0.16828830540180206, 0.06431085616350174, 0.07349812239408493, 0.16537077724933624, 0.16230836510658264, 0.1071847677230835, 0.009187265299260616, 0.0030624219216406345, 0.28174281120300293, 0.009187265299260616, 0.04287390783429146, 0.04287390783429146, 0.03062421828508377, 0.006124843843281269, 0.8821622729301453, 0.8763634562492371, 0.767794668674469, 0.8828017115592957, 0.165781170129776, 0.03315623104572296, 0.7625933289527893, 0.00935760885477066, 0.8304877877235413, 0.03275163099169731, 0.039769839495420456, 0.002339402213692665, 0.021054619923233986, 0.01403641328215599, 0.011697011068463326, 0.021054619923233986, 0.01403641328215599, 0.8364776968955994, 0.5635514855384827, 0.03635815903544426, 0.07271631807088852, 0.30904436111450195, 0.7694879174232483, 0.08549866080284119, 0.8926537036895752, 0.8265515565872192, 0.773492157459259, 0.0183184165507555, 0.12309975177049637, 0.08939386904239655, 0.09159208089113235, 0.027843991294503212, 0.03297314792871475, 0.00512915663421154, 0.5114501714706421, 0.00659462995827198, 0.00293094664812088, 0.05275703966617584, 0.00439641997218132, 0.00586189329624176, 0.0109910499304533, 0.01612020656466484, 0.022265085950493813, 0.03478919714689255, 0.38128960132598877, 0.03687654808163643, 0.12941581010818481, 0.02504822239279747, 0.028527140617370605, 0.011132542975246906, 0.05287957936525345, 0.042442820966243744, 0.006957839243113995, 0.12732845544815063, 0.06262055039405823, 0.013219894841313362, 0.025744006037712097, 0.09953584522008896, 0.0477772057056427, 0.059721507132053375, 0.02587931975722313, 0.2667560577392578, 0.03185147047042847, 0.0059721507132053375, 0.06967508792877197, 0.061712224036455154, 0.015925735235214233, 0.017916452139616013, 0.029860753566026688, 0.033842187374830246, 0.20106241106987, 0.03185147047042847, 0.020232688635587692, 0.005058172158896923, 0.692969560623169, 0.010116344317793846, 0.03540720418095589, 0.03034903295338154, 0.005058172158896923, 0.05563989281654358, 0.04552355036139488, 0.09104710072278976, 0.918840229511261, 0.04874831438064575, 0.009749663062393665, 0.05362314358353615, 0.09262179583311081, 0.009749663062393665, 0.004874831531196833, 0.7702233791351318, 0.0033275943715125322, 0.013310377486050129, 0.1231209933757782, 0.05656910315155983, 0.08318985998630524, 0.13975895941257477, 0.06655188649892807, 0.0033275943715125322, 0.00998278334736824, 0.023293159902095795, 0.0066551887430250645, 0.45920804142951965, 0.0033275943715125322, 0.00998278334736824, 0.3270171582698822, 0.0035545341670513153, 0.028436273336410522, 0.38388970494270325, 0.0035545341670513153, 0.06042708083987236, 0.0035545341670513153, 0.0035545341670513153, 0.14929044246673584, 0.0035545341670513153, 0.0035545341670513153, 0.028436273336410522, 0.7604169845581055, 0.8627910614013672, 0.9189100861549377, 0.8968951106071472, 0.7410410642623901, 0.8404012322425842, 0.6990429162979126, 0.5670605301856995, 0.010501121170818806, 0.03150336444377899, 0.03150336444377899, 0.14701569080352783, 0.09451008588075638, 0.10501120984554291, 0.007470798213034868, 0.014941596426069736, 0.007470798213034868, 0.9562621712684631, 0.007470798213034868, 0.7819941639900208, 0.65448397397995, 0.07012328505516052, 0.02337442710995674, 0.116872139275074, 0.04674885421991348, 0.04674885421991348, 0.02337442710995674, 0.00581372668966651, 0.13952943682670593, 0.002906863344833255, 0.00581372668966651, 0.7005540728569031, 0.02325490675866604, 0.002906863344833255, 0.04360295087099075, 0.002906863344833255, 0.06685785204172134, 0.821256697177887, 0.7601486444473267, 0.8941153287887573, 0.004587342031300068, 0.016711032018065453, 0.008519349619746208, 0.15138228237628937, 0.02785171940922737, 0.036043401807546616, 0.002293671015650034, 0.06225678324699402, 0.0029490056913346052, 0.012451357208192348, 0.05963544547557831, 0.05668644234538078, 0.016055697575211525, 0.027524052187800407, 0.5150929689407349, 0.11236201226711273, 0.7865340709686279, 0.010970305651426315, 0.02194061130285263, 0.004388122353702784, 0.004388122353702784, 0.5024399757385254, 0.002194061176851392, 0.061433710157871246, 0.002194061176851392, 0.004388122353702784, 0.17771895229816437, 0.20404767990112305, 0.024079112336039543, 0.19263289868831635, 0.09631644934415817, 0.6260569095611572, 0.024079112336039543, 0.19771096110343933, 0.7249402403831482, 0.7250941395759583, 0.020758815109729767, 0.0007984159747138619, 0.0031936638988554478, 0.6746614575386047, 0.0007984159747138619, 0.0015968319494277239, 0.011976239271461964, 0.12135922163724899, 0.0007984159747138619, 0.15728794038295746, 0.0007984159747138619, 0.005588911473751068, 0.7764341831207275, 0.7001712322235107, 0.01458126213401556, 0.11665009707212448, 0.10206883400678635, 0.7582256197929382, 0.036548029631376266, 0.06091338023543358, 0.036548029631376266, 0.08527873456478119, 0.45075902342796326, 0.304566890001297, 0.8638694882392883, 0.8642285466194153, 0.01920507848262787, 0.01920507848262787, 0.07682031393051147, 0.028163058683276176, 0.014081529341638088, 0.007040764670819044, 0.2253044694662094, 0.014081529341638088, 0.021122293546795845, 0.007040764670819044, 0.6547911167144775, 0.021122293546795845, 0.012361302971839905, 0.6675103306770325, 0.012361302971839905, 0.04944521188735962, 0.12361302971839905, 0.13597433269023895, 0.8547559976577759, 0.07030282914638519, 0.019173497334122658, 0.006391165778040886, 0.7030282616615295, 0.17256148159503937, 0.006391165778040886, 0.019173497334122658, 0.002384376944974065, 0.16833701729774475, 0.021936267614364624, 0.045303162187337875, 0.08393006771802902, 0.01764438860118389, 0.028612522408366203, 0.33858153223991394, 0.13209448754787445, 0.010014383122324944, 0.03433502838015556, 0.09537507593631744, 0.0004768753715325147, 0.014306261204183102, 0.006676255259662867, 0.9038265347480774, 0.8412843942642212, 0.6878677010536194, 0.0031060848850756884, 0.07454603910446167, 0.040379103273153305, 0.10871297121047974, 0.018636509776115417, 0.06522778421640396, 0.5156100988388062, 0.006212169770151377, 0.052803441882133484, 0.015530424192547798, 0.009318254888057709, 0.07454603910446167, 0.012424339540302753, 0.005101824179291725, 0.007652736734598875, 0.20917479693889618, 0.07907827943563461, 0.11734195798635483, 0.0025509120896458626, 0.36222952604293823, 0.035712771117687225, 0.0025509120896458626, 0.007652736734598875, 0.0025509120896458626, 0.16836020350456238, 0.006844015326350927, 0.0034220076631754637, 0.0034220076631754637, 0.2942926585674286, 0.013688030652701855, 0.5817413330078125, 0.010266023688018322, 0.023954054340720177, 0.013688030652701855, 0.02737606130540371, 0.010266023688018322, 0.013688030652701855, 0.7689738273620605, 0.7605661749839783, 0.11943891644477844, 0.007166334893554449, 0.11107819527387619, 0.033442895859479904, 0.005971945822238922, 0.008360723964869976, 0.07166334986686707, 0.05135873332619667, 0.007166334893554449, 0.015527059324085712, 0.15168742835521698, 0.12182769179344177, 0.025082172825932503, 0.033442895859479904, 0.23887783288955688, 0.9224854707717896, 0.798236072063446, 0.8876186609268188, 0.7478240728378296, 0.9060348272323608, 0.16583482921123505, 0.6633393168449402, 0.01179311703890562, 0.01179311703890562, 0.041275907307863235, 0.07075870037078857, 0.09434493631124496, 0.02358623407781124, 0.5837592482566833, 0.06486213952302933, 0.00589655851945281, 0.09434493631124496, 0.9404593110084534, 0.0018937973072752357, 0.02651316300034523, 0.035982150584459305, 0.16476036608219147, 0.018937973305583, 0.0094689866527915, 0.0018937973072752357, 0.015150378458201885, 0.10794644802808762, 0.0018937973072752357, 0.5776081681251526, 0.015150378458201885, 0.0018937973072752357, 0.02272556722164154, 0.02129397913813591, 0.004731995053589344, 0.002365997526794672, 0.05914993956685066, 0.17035183310508728, 0.004731995053589344, 0.04258795827627182, 0.10173789411783218, 0.002365997526794672, 0.014195986092090607, 0.5370814800262451, 0.03312396630644798, 0.002365997526794672, 0.00684421556070447, 0.03422107920050621, 0.04106529429554939, 0.2327033281326294, 0.4517182409763336, 0.00684421556070447, 0.10950744897127151, 0.00684421556070447, 0.03422107920050621, 0.06159793958067894, 0.8444220423698425, 0.07600061595439911, 0.0020000161603093147, 0.022000176832079887, 0.11200090497732162, 0.012000096961855888, 0.026000209152698517, 0.12200098484754562, 0.054000433534383774, 0.006000048480927944, 0.010000080801546574, 0.3720029890537262, 0.0020000161603093147, 0.052000418305397034, 0.13000105321407318, 0.8777210712432861, 0.0022078147158026695, 0.07727351784706116, 0.006623444147408009, 0.004415629431605339, 0.7616961002349854, 0.011039073579013348, 0.006623444147408009, 0.046364109963178635, 0.004415629431605339, 0.0794813334941864, 0.8152260780334473, 0.9178267121315002, 0.10857860743999481, 0.8686288595199585, 0.7539124488830566, 0.11598653346300125, 0.057993266731500626, 0.057993266731500626, 0.06481800228357315, 0.6049680709838867, 0.15124201774597168, 0.17284801602363586, 0.31129422783851624, 0.03375479578971863, 0.003750532865524292, 0.06375905871391296, 0.007501065731048584, 0.24753516912460327, 0.003750532865524292, 0.011251598596572876, 0.045006394386291504, 0.05625799298286438, 0.15752238035202026, 0.048756927251815796, 0.919540286064148, 0.04597701504826546, 0.7603481411933899, 0.018695009872317314, 0.018695009872317314, 0.953445553779602, 0.7860653400421143, 0.8474144339561462, 0.13643278181552887, 0.06821639090776443, 0.06821639090776443, 0.6821639537811279, 0.8364500403404236, 0.7083742022514343, 0.08854677528142929, 0.08854677528142929, 0.525667130947113, 0.003809181973338127, 0.034282635897397995, 0.003809181973338127, 0.003809181973338127, 0.007618363946676254, 0.034282635897397995, 0.1333213746547699, 0.022855091840028763, 0.022855091840028763, 0.030473455786705017, 0.17522236704826355, 0.002879669424146414, 0.08351041376590729, 0.02015768550336361, 0.011518677696585655, 0.1180664449930191, 0.014398346655070782, 0.04607471078634262, 0.16990049183368683, 0.002879669424146414, 0.06623239815235138, 0.034556031227111816, 0.2418922334909439, 0.031676363199949265, 0.12670545279979706, 0.031676363199949265, 0.20405790209770203, 0.5101447701454163, 0.20405790209770203, 0.15557754039764404, 0.009723596274852753, 0.11668315529823303, 0.009723596274852753, 0.009723596274852753, 0.1847483366727829, 0.009723596274852753, 0.009723596274852753, 0.48617982864379883, 0.15990480780601501, 0.7195716500282288, 0.04343780502676964, 0.014479268342256546, 0.17375122010707855, 0.10135488212108612, 0.17375122010707855, 0.4778158664703369, 0.7411043643951416, 0.03807090222835541, 0.009517725557088852, 0.11421269923448563, 0.019035451114177704, 0.79948890209198, 0.8651958703994751, 0.7252223491668701, 0.03783443942666054, 0.0983695462346077, 0.0075668878853321075, 0.09080265462398529, 0.12485365569591522, 0.0075668878853321075, 0.022700663655996323, 0.13620398938655853, 0.1021529883146286, 0.03783443942666054, 0.0075668878853321075, 0.015133775770664215, 0.3102424144744873, 0.794317901134491, 0.023958595469594002, 0.3593789339065552, 0.023958595469594002, 0.09583438187837601, 0.023958595469594002, 0.47917190194129944, 0.9399397969245911, 0.15192586183547974, 0.01688065007328987, 0.05064195394515991, 0.03376130014657974, 0.7089873552322388, 0.7726443409919739, 0.08584937453269958, 0.9195418357849121, 0.00446194875985384, 0.022309744730591774, 0.10931774973869324, 0.6402896642684937, 0.01784779503941536, 0.06692923605442047, 0.00892389751970768, 0.042388513684272766, 0.006692923605442047, 0.00223097437992692, 0.04461948946118355, 0.022309744730591774, 0.00892389751970768, 0.08512596786022186, 0.024321705102920532, 0.012160852551460266, 0.656686007976532, 0.012160852551460266, 0.20673449337482452, 0.015161293558776379, 0.08086023479700089, 0.02021505869925022, 0.030322587117552757, 0.06569893658161163, 0.005053764674812555, 0.02021505869925022, 0.015161293558776379, 0.005053764674812555, 0.09602152556180954, 0.17688176035881042, 0.4245162308216095, 0.01010752934962511, 0.04043011739850044, 0.09721691906452179, 0.003888676641508937, 0.05055279657244682, 0.07777353376150131, 0.12832632660865784, 0.06221882626414299, 0.0349980890750885, 0.3966450095176697, 0.003888676641508937, 0.003888676641508937, 0.139992356300354, 0.8473064303398132, 0.950269877910614, 0.10889646410942078, 0.762275218963623, 0.7565615773200989, 0.10808023065328598, 0.05404011532664299, 0.08106017112731934, 0.8186480402946472, 0.7737085819244385, 0.027056286111474037, 0.054112572222948074, 0.013528143055737019, 0.5140694379806519, 0.027056286111474037, 0.3652598559856415, 0.03769669309258461, 0.2450285106897354, 0.018848346546292305, 0.13193842768669128, 0.03769669309258461, 0.4900570213794708, 0.03769669309258461, 0.13460080325603485, 0.17946773767471313, 0.014955644495785236, 0.044866934418678284, 0.029911288991570473, 0.523447573184967, 0.044866934418678284, 0.02656368352472782, 0.0010625473223626614, 0.003187641967087984, 0.07119067013263702, 0.013813115656375885, 0.1880708783864975, 0.0010625473223626614, 0.041439346969127655, 0.006375283934175968, 0.0010625473223626614, 0.07012812793254852, 0.005312736611813307, 0.012750567868351936, 0.5557122826576233, 0.7003558278083801, 0.09769784659147263, 0.8792805671691895, 0.7412109375, 0.185302734375, 0.04660307243466377, 0.028849519789218903, 0.057699039578437805, 0.08211017400026321, 0.08876775205135345, 0.05991823598742485, 0.002219193847849965, 0.17531631886959076, 0.033287908881902695, 0.039945490658283234, 0.05991823598742485, 0.022191938012838364, 0.026630327105522156, 0.13759002089500427, 0.14202840626239777, 0.005615500267595053, 0.7243995666503906, 0.18531151115894318, 0.005615500267595053, 0.02246200107038021, 0.04492400214076042, 0.1229468435049057, 0.7376810312271118, 0.007835651747882366, 0.4126776456832886, 0.015671303495764732, 0.009141593240201473, 0.022201012820005417, 0.015671303495764732, 0.018283186480402946, 0.04962579160928726, 0.25465866923332214, 0.009141593240201473, 0.019589127972722054, 0.07574462890625, 0.003917825873941183, 0.08619216829538345, 0.859804630279541, 0.026367200538516045, 0.14690297842025757, 0.03390068560838699, 0.09416857361793518, 0.05650114268064499, 0.19210389256477356, 0.015066971071064472, 0.24483828246593475, 0.12053576856851578, 0.003766742767766118, 0.026367200538516045, 0.03390068560838699, 0.003766742767766118, 0.9117084741592407, 0.774635374546051, 0.832303524017334, 0.47875142097473145, 0.3055860102176666, 0.01018620003014803, 0.01018620003014803, 0.01018620003014803, 0.01018620003014803, 0.05093099921941757, 0.08148960024118423, 0.02037240006029606, 0.7074456214904785, 0.05234261974692345, 0.03140557184815407, 0.1989019513130188, 0.01046852394938469, 0.14655932784080505, 0.03140557184815407, 0.03140557184815407, 0.4710835814476013, 0.02093704789876938, 0.7392132878303528, 0.8619807362556458, 0.8728348016738892, 0.8590705394744873, 0.12966813147068024, 0.01728908345103264, 0.1383126676082611, 0.11670131236314774, 0.01728908345103264, 0.13399039208889008, 0.00432227086275816, 0.07780087739229202, 0.07347860187292099, 0.051867250353097916, 0.00432227086275816, 0.22043581306934357, 0.021611355245113373, 0.7317759394645691, 0.8485287427902222, 0.8421228528022766, 0.8001914024353027, 0.1395401656627655, 0.0930267795920372, 0.6511874794960022, 0.0930267795920372, 0.05362046882510185, 0.01072409376502037, 0.09651684761047363, 0.05362046882510185, 0.01072409376502037, 0.01072409376502037, 0.02144818753004074, 0.02144818753004074, 0.3967914879322052, 0.30027464032173157, 0.01072409376502037, 0.8514983057975769, 0.9636864066123962, 0.043865516781806946, 0.0019938871264457703, 0.07177993655204773, 0.20337648689746857, 0.1276087760925293, 0.011963322758674622, 0.05981661379337311, 0.031902194023132324, 0.09969435632228851, 0.031902194023132324, 0.0019938871264457703, 0.1076699048280716, 0.023926645517349243, 0.18343761563301086, 0.894010066986084, 0.1288401037454605, 0.7730405926704407, 0.9155014753341675, 0.050861191004514694, 0.8208100199699402, 0.8267737030982971, 0.8325750231742859, 0.7540333867073059, 0.11613257229328156, 0.6967954635620117, 0.6339865922927856, 0.9364420771598816, 0.9050751328468323, 0.8353776931762695, 0.864864706993103, 0.12278934568166733, 0.07964714616537094, 0.026549048721790314, 0.03318630903959274, 0.4944760203361511, 0.003318631090223789, 0.003318631090223789, 0.01659315451979637, 0.09955892711877823, 0.02323041670024395, 0.03982357308268547, 0.05309809744358063, 0.003318631090223789, 0.5998330116271973, 0.9782794117927551, 0.008409025147557259, 0.9838559031486511, 0.884942889213562, 0.06321021169424057, 0.8423003554344177, 0.011263489723205566, 0.01689523458480835, 0.0337904691696167, 0.7152315974235535, 0.19147932529449463, 0.005631744861602783, 0.011263489723205566, 0.01689523458480835, 0.4953992962837219, 0.002830853220075369, 0.025477677583694458, 0.01698511838912964, 0.06794047355651855, 0.07643303275108337, 0.01698511838912964, 0.01698511838912964, 0.019815972074866295, 0.002830853220075369, 0.0452936515212059, 0.20948313176631927, 0.7044579386711121, 0.07827310264110565, 0.07827310264110565, 0.03457910940051079, 0.07780299335718155, 0.008644777350127697, 0.008644777350127697, 0.7348060607910156, 0.11238210648298264, 0.9030930995941162, 0.9267914891242981, 0.1943955272436142, 0.1943955272436142, 0.0323992557823658, 0.5507873296737671, 0.785767674446106, 0.7971505522727966, 0.014909375458955765, 0.014909375458955765, 0.03727343678474426, 0.24600468575954437, 0.35782501101493835, 0.09691093862056732, 0.007454687729477882, 0.05963750183582306, 0.022364063188433647, 0.14909374713897705, 0.05134141817688942, 0.7187798619270325, 0.20536567270755768, 0.637832522392273, 0.21261082589626312, 0.09414539486169815, 0.020921198651194572, 0.09414539486169815, 0.20921199023723602, 0.031381797045469284, 0.041842397302389145, 0.052302997559309006, 0.010460599325597286, 0.07322419434785843, 0.3242785930633545, 0.031381797045469284, 0.020921198651194572, 0.8330265283584595, 0.012099475599825382, 0.012099475599825382, 0.050990644842386246, 0.04148391634225845, 0.1356869786977768, 0.08383207768201828, 0.0017284965142607689, 0.10025279968976974, 0.38026922941207886, 0.0025927447713911533, 0.005185489542782307, 0.0985243022441864, 0.033705681562423706, 0.028520192950963974, 0.014692219905555248, 0.0030198125168681145, 0.01962878182530403, 0.007549531292170286, 0.06341606378555298, 0.004529718775302172, 0.12985193729400635, 0.0030198125168681145, 0.007549531292170286, 0.009059437550604343, 0.01962878182530403, 0.7217351794242859, 0.007549531292170286, 0.0015099062584340572, 0.027167178690433502, 0.3997456431388855, 0.031048204749822617, 0.027167178690433502, 0.015524102374911308, 0.007762051187455654, 0.015524102374911308, 0.04269128292798996, 0.011643077246844769, 0.015524102374911308, 0.30272001028060913, 0.10090666264295578, 0.8877803087234497, 0.03288816660642624, 0.14799673855304718, 0.01644408330321312, 0.13155266642570496, 0.01644408330321312, 0.641319215297699, 0.7665895819664001, 0.04791184887290001, 0.04791184887290001, 0.09582369774580002, 0.8040664792060852, 0.0646851509809494, 0.009951561689376831, 0.29854685068130493, 0.019903123378753662, 0.009951561689376831, 0.009951561689376831, 0.20400701463222504, 0.019903123378753662, 0.20400701463222504, 0.019903123378753662, 0.019903123378753662, 0.049757808446884155, 0.03483046591281891, 0.019903123378753662, 0.009951561689376831, 0.042929720133543015, 0.021464860066771507, 0.021464860066771507, 0.9015241265296936, 0.9690065383911133, 0.0018990680109709501, 0.009495340287685394, 0.14622823894023895, 0.01709161140024662, 0.03798136115074158, 0.0018990680109709501, 0.005697203800082207, 0.01899068057537079, 0.0018990680109709501, 0.024687884375452995, 0.030385088175535202, 0.6456831097602844, 0.041779495775699615, 0.005697203800082207, 0.009495340287685394, 0.8807171583175659, 0.9064927101135254, 0.11171036958694458, 0.21643884479999542, 0.027927592396736145, 0.048873286694288254, 0.048873286694288254, 0.2722940444946289, 0.027927592396736145, 0.10472847521305084, 0.03490949049592018, 0.006981898099184036, 0.09774657338857651, 0.11808805912733078, 0.01968134380877018, 0.03936268761754036, 0.5313962697982788, 0.29522013664245605, 0.7544468641281128, 0.6524897813796997, 0.04209611564874649, 0.021048057824373245, 0.021048057824373245, 0.2315286248922348, 0.021048057824373245, 0.785294771194458, 0.0485842227935791, 0.704471230506897, 0.0485842227935791, 0.1457526683807373, 0.8367799520492554, 0.899756669998169, 0.8143171668052673, 0.5827361941337585, 0.19424539804458618, 0.06256652623414993, 0.8759313821792603, 0.10051822662353516, 0.18093280494213104, 0.18093280494213104, 0.4824874997138977, 0.02010364644229412, 0.5977225303649902, 0.009402361698448658, 0.08462125808000565, 0.6675676703453064, 0.009402361698448658, 0.09402362257242203, 0.10342597961425781, 0.018804723396897316, 0.0015147203812375665, 0.004544161260128021, 0.021206084638834, 0.16207507252693176, 0.013632482849061489, 0.039382729679346085, 0.006058881524950266, 0.16510452330112457, 0.004544161260128021, 0.41957753896713257, 0.006058881524950266, 0.013632482849061489, 0.027264965698122978, 0.004544161260128021, 0.10905986279249191, 0.3974006474018097, 0.028385760262608528, 0.028385760262608528, 0.08515728265047073, 0.028385760262608528, 0.11354304105043411, 0.17031456530094147, 0.11354304105043411, 0.29019615054130554, 0.00475731398910284, 0.014271941967308521, 0.4662167727947235, 0.00475731398910284, 0.014271941967308521, 0.19504986703395844, 0.00475731398910284, 0.23591937124729156, 0.08135150372982025, 0.01627030037343502, 0.07321635633707047, 0.41489267349243164, 0.01627030037343502, 0.00813515018671751, 0.1057569608092308, 0.01627030037343502, 0.024405451491475105, 0.00813515018671751, 0.8770599365234375, 0.0034951481502503157, 0.034951481968164444, 0.0034951481502503157, 0.0034951481502503157, 0.0034951481502503157, 0.06291266530752182, 0.5033013224601746, 0.09786415100097656, 0.0034951481502503157, 0.010485444217920303, 0.017475740984082222, 0.2621361017227173, 0.003329132217913866, 0.14981095492839813, 0.4527619779109955, 0.003329132217913866, 0.18976053595542908, 0.19308967888355255, 0.003329132217913866, 0.003329132217913866, 0.12584856152534485, 0.6651995778083801, 0.1438269317150116, 0.0719134658575058, 0.691764771938324, 0.13835296034812927, 0.03458824008703232, 0.03458824008703232, 0.03458824008703232, 0.03805644437670708, 0.09514111280441284, 0.7801571488380432, 0.057084668427705765, 0.01902822218835354, 0.8727724552154541, 0.8747967481613159, 0.7576337456703186, 0.0027309597935527563, 0.16476790606975555, 0.0009103199117816985, 0.030950877815485, 0.1456511914730072, 0.0200270377099514, 0.0227579977363348, 0.0100135188549757, 0.001820639823563397, 0.0127444788813591, 0.0473366379737854, 0.004551599733531475, 0.004551599733531475, 0.53162682056427, 0.7548887729644775, 0.09920701384544373, 0.0744052603840828, 0.0744052603840828, 0.04960350692272186, 0.04960350692272186, 0.6448456048965454, 0.05613759160041809, 0.16841277480125427, 0.7297887206077576, 0.8150894641876221, 0.8548986315727234, 0.8915746212005615, 0.09348821640014648, 0.8413939476013184, 0.7783153057098389, 0.002075271215289831, 0.013017610646784306, 0.01660216972231865, 0.02660120464861393, 0.01075367908924818, 0.007735102437436581, 0.000943305145483464, 0.01905476488173008, 0.8206754922866821, 0.015281543135643005, 0.012640289030969143, 0.03773220628499985, 0.015281543135643005, 0.000565983064007014, 0.000943305145483464, 0.6836318969726562, 0.8954450488090515, 0.06516192853450775, 0.026879293844103813, 0.020363101735711098, 0.10263003408908844, 0.07819431275129318, 0.05050049349665642, 0.01710500568151474, 0.10914622247219086, 0.017919529229402542, 0.018734052777290344, 0.022806674242019653, 0.008145241066813469, 0.020363101735711098, 0.11240432411432266, 0.3290677070617676, 0.854152262210846, 0.0711793601512909, 0.03533147647976875, 0.141325905919075, 0.5594150424003601, 0.1825459599494934, 0.0706629529595375, 0.12603123486042023, 0.025206245481967926, 0.8318061232566833, 0.030717136338353157, 0.061434272676706314, 0.07679283618927002, 0.829362690448761, 0.9058476686477661, 0.055562637746334076, 0.002057875506579876, 0.026752380654215813, 0.008231502026319504, 0.002057875506579876, 0.08437289297580719, 0.008231502026319504, 0.008231502026319504, 0.004115751013159752, 0.01028937753289938, 0.012347253039479256, 0.7758190631866455, 0.07438782602548599, 0.4471317529678345, 0.0026443894021213055, 0.04702414199709892, 0.002529416000470519, 0.04483964666724205, 0.15705373883247375, 0.024489345028996468, 0.0075882477685809135, 0.02609897404909134, 0.007013380527496338, 0.05668191239237785, 0.023799505084753036, 0.03276743367314339, 0.04587440565228462, 0.939677894115448, 0.8757598996162415, 0.04779208451509476, 0.19116833806037903, 0.6212970614433289, 0.09558416903018951, 0.7617790699005127, 0.17579516768455505, 0.7250247597694397, 0.8130155205726624, 0.7893670797348022, 0.7544127702713013, 0.11448178440332413, 0.8013725280761719, 0.005476071964949369, 0.536655068397522, 0.06571286916732788, 0.005476071964949369, 0.010952143929898739, 0.2026146650314331, 0.021904287859797478, 0.14785395562648773, 0.1049962192773819, 0.2099924385547638, 0.629977285861969, 0.8759207725524902, 0.32337549328804016, 0.05730704590678215, 0.08186721056699753, 0.03684024512767792, 0.11870745569467545, 0.012280081398785114, 0.008186721242964268, 0.020466802641749382, 0.040933605283498764, 0.10642737150192261, 0.1146140918135643, 0.008186721242964268, 0.06958712637424469, 0.914595365524292, 0.03722141683101654, 0.11166425049304962, 0.01861070841550827, 0.22332850098609924, 0.5955426692962646, 0.7954302430152893, 0.020257383584976196, 0.08102953433990479, 0.12154430150985718, 0.04051476716995239, 0.06077215075492859, 0.06077215075492859, 0.6077215075492859, 0.2025012969970703, 0.02025012858211994, 0.02025012858211994, 0.7290046811103821, 0.008589664474129677, 0.10021275281906128, 0.008589664474129677, 0.0744437575340271, 0.36362913250923157, 0.02290577068924904, 0.028632214292883873, 0.0544012077152729, 0.12025529891252518, 0.042948320508003235, 0.03722187876701355, 0.0744437575340271, 0.02290577068924904, 0.020042549818754196, 0.017179328948259354, 0.7984700798988342, 0.7799683213233948, 0.20659054815769196, 0.008490022271871567, 0.1528204083442688, 0.4145960807800293, 0.008490022271871567, 0.03396008908748627, 0.001415003789588809, 0.10612528026103973, 0.046695124357938766, 0.001415003789588809, 0.001415003789588809, 0.008490022271871567, 0.008490022271871567, 0.592751145362854, 0.023710045963525772, 0.18968036770820618, 0.023710045963525772, 0.11855022609233856, 0.023710045963525772, 0.7683148384094238, 0.8822832703590393, 0.043368421494960785, 0.6288421154022217, 0.06505262851715088, 0.17347368597984314, 0.021684210747480392, 0.043368421494960785, 0.0946398377418518, 0.8517585396766663, 0.7244709730148315, 0.07736258208751678, 0.005157505627721548, 0.010315011255443096, 0.010315011255443096, 0.5673255920410156, 0.005157505627721548, 0.2527177631855011, 0.005157505627721548, 0.06189006567001343, 0.8877335786819458, 0.045634277164936066, 0.045634277164936066, 0.730148434638977, 0.1369028240442276, 0.7610183954238892, 0.8237897753715515, 0.0036665559746325016, 0.12466290593147278, 0.4216539263725281, 0.08433078974485397, 0.142995685338974, 0.0036665559746325016, 0.007333111949265003, 0.03666555881500244, 0.014666223898530006, 0.021999336779117584, 0.03666555881500244, 0.0916638970375061, 0.010999668389558792, 0.8593389987945557, 0.07812172919511795, 0.8162060976028442, 0.14198192954063416, 0.05620117858052254, 0.3135434091091156, 0.0029579568654298782, 0.06803300976753235, 0.029579568654298782, 0.029579568654298782, 0.0059159137308597565, 0.062117092311382294, 0.05620117858052254, 0.06507504731416702, 0.03253752365708351, 0.10057052969932556, 0.029579568654298782, 0.11092056334018707, 0.2957881689071655, 0.5546028017997742, 0.11891786009073257, 0.02892596647143364, 0.012855985201895237, 0.032139964401721954, 0.0032139963004738092, 0.012855985201895237, 0.02249797433614731, 0.04499594867229462, 0.012855985201895237, 0.5560213327407837, 0.02892596647143364, 0.07392191141843796, 0.038567956537008286, 0.016069982200860977, 0.8516624569892883, 0.235148623585701, 0.7315735220909119, 0.12312587350606918, 0.012312587350606918, 0.4186279773712158, 0.06156293675303459, 0.036937762051820755, 0.012312587350606918, 0.012312587350606918, 0.30781468749046326, 0.7972992658615112, 0.7001079320907593, 0.9038228392601013, 0.8272298574447632, 0.9178280234336853, 0.829838216304779, 0.5973613262176514, 0.8823971152305603, 0.8347799181938171, 0.10434748977422714, 0.026086872443556786, 0.07052811235189438, 0.005877342540770769, 0.005877342540770769, 0.24097104370594025, 0.052896082401275635, 0.19982963800430298, 0.17632026970386505, 0.15281090140342712, 0.011754685081541538, 0.05877342447638512, 0.02938671223819256, 0.8298795223236084, 0.9358027577400208, 0.011200923472642899, 0.033602770417928696, 0.6832563281059265, 0.12321016192436218, 0.011200923472642899, 0.12321016192436218, 0.011200923472642899, 0.8668098449707031, 0.537208616733551, 0.061200980097055435, 0.3604057729244232, 0.034000542014837265, 0.7699342370033264, 0.76814866065979, 0.10973551869392395, 0.9032115340232849, 0.7946661710739136, 0.7250659465789795, 0.6337807774543762, 0.06291836500167847, 0.02029624581336975, 0.20702171325683594, 0.010148122906684875, 0.42216193675994873, 0.02029624581336975, 0.00405924953520298, 0.00405924953520298, 0.08727385848760605, 0.010148122906684875, 0.012177747674286366, 0.05277024209499359, 0.08524423837661743, 0.007428489159792662, 0.006190407555550337, 0.0024761632084846497, 0.2798064351081848, 0.027237793430685997, 0.004952326416969299, 0.008666571229696274, 0.03590436652302742, 0.003714244579896331, 0.006190407555550337, 0.021047387272119522, 0.0024761632084846497, 0.5311369895935059, 0.004952326416969299, 0.05942791327834129, 0.874291718006134, 0.05464323237538338, 0.002557280706241727, 0.05626017600297928, 0.02813008800148964, 0.002557280706241727, 0.048588331788778305, 0.7364968657493591, 0.007671841885894537, 0.005114561412483454, 0.002557280706241727, 0.09206210821866989, 0.002557280706241727, 0.005114561412483454, 0.01278640329837799, 0.7986650466918945, 0.878020703792572, 0.9015612006187439, 0.8823116421699524, 0.9068118929862976, 0.8723776936531067, 0.017828626558184624, 0.4100583791732788, 0.4813728928565979, 0.05348587781190872, 0.5973691344261169, 0.7345466613769531, 0.010780596174299717, 0.021561192348599434, 0.010780596174299717, 0.010780596174299717, 0.42044326663017273, 0.11858656257390976, 0.010780596174299717, 0.010780596174299717, 0.0754641741514206, 0.3018566966056824, 0.005745197180658579, 0.36769261956214905, 0.08043276518583298, 0.011490394361317158, 0.18959151208400726, 0.28725987672805786, 0.04021638259291649, 0.011490394361317158, 0.43389371037483215, 0.007888976484537125, 0.009861220605671406, 0.001972244121134281, 0.001972244121134281, 0.29780885577201843, 0.001972244121134281, 0.001972244121134281, 0.01577795296907425, 0.2248358279466629, 0.8367565274238586, 0.6838274002075195, 0.9667297601699829, 0.86495441198349, 0.06925145536661148, 0.08310174942016602, 0.013850291259586811, 0.20775437355041504, 0.04155087471008301, 0.09695204347372055, 0.4709099233150482, 0.021281108260154724, 0.11586380749940872, 0.10640554130077362, 0.17497800290584564, 0.00236456748098135, 0.0047291349619627, 0.0851244330406189, 0.0189165398478508, 0.0378330796957016, 0.13005121052265167, 0.14423862099647522, 0.0047291349619627, 0.07093703001737595, 0.08275986462831497, 0.7719846367835999, 0.7442416548728943, 0.14884833991527557, 0.04507053643465042, 0.13521160185337067, 0.7661991119384766, 0.04507053643465042, 0.009124226868152618, 0.7025654911994934, 0.013686340302228928, 0.04562113434076309, 0.004562113434076309, 0.018248453736305237, 0.16879819333553314, 0.009124226868152618, 0.009124226868152618, 0.018248453736305237, 0.2439015656709671, 0.42947882413864136, 0.015906624495983124, 0.015906624495983124, 0.22799493372440338, 0.005302208010107279, 0.005302208010107279, 0.026511039584875107, 0.005302208010107279, 0.005302208010107279, 0.010604416020214558, 0.10621954500675201, 0.5665042400360107, 0.03540651500225067, 0.05310977250337601, 0.08851628750562668, 0.07081303000450134, 0.03540651500225067, 0.03540651500225067, 0.017703257501125336, 0.19247722625732422, 0.04528876021504402, 0.011322190053761005, 0.1471884697675705, 0.6000760793685913, 0.874738872051239, 0.11442459374666214, 0.8009721636772156, 0.034354399889707565, 0.00572573347017169, 0.00572573347017169, 0.04008013382554054, 0.32064107060432434, 0.04580586776137352, 0.04008013382554054, 0.034354399889707565, 0.47523587942123413, 0.05361126735806465, 0.8220394253730774, 0.008935211226344109, 0.04467605799436569, 0.04467605799436569, 0.7879197001457214, 0.742655336856842, 0.24755176901817322, 0.7318242788314819, 0.07287991046905518, 0.06376992166042328, 0.05567215383052826, 0.018219977617263794, 0.2692507803440094, 0.04757438600063324, 0.00404888391494751, 0.01619553565979004, 0.08705100417137146, 0.02834218740463257, 0.026317745447158813, 0.05162326991558075, 0.13664983212947845, 0.11944207549095154, 0.00404888391494751, 0.7341184616088867, 0.8459252119064331, 0.21377946436405182, 0.008785457350313663, 0.1098182201385498, 0.014642429538071156, 0.0366060733795166, 0.20352977514266968, 0.0029284858610481024, 0.01610667258501053, 0.0014642429305240512, 0.007321214769035578, 0.09810427576303482, 0.017570914700627327, 0.010249700397253036, 0.26063525676727295, 0.0014642429305240512, 0.49851149320602417, 0.1854926496744156, 0.1970859318971634, 0.0927463248372078, 0.006495014764368534, 0.06495015323162079, 0.06495015323162079, 0.006495014764368534, 0.006495014764368534, 0.5520762801170349, 0.21433550119400024, 0.07144516706466675, 0.7994732856750488, 0.0130905881524086, 0.01390874944627285, 0.0785435289144516, 0.0462261401116848, 0.1116790771484375, 0.048271544277668, 0.2417667955160141, 0.03436279296875, 0.0499078668653965, 0.0535895936191082, 0.082634337246418, 0.0814070925116539, 0.1116790771484375, 0.0261811763048172, 0.006954374723136425, 0.14698776602745056, 0.7349388599395752, 0.03417251259088516, 0.01708625629544258, 0.00854312814772129, 0.042715638875961304, 0.01708625629544258, 0.5296739339828491, 0.00854312814772129, 0.06834502518177032, 0.26483696699142456, 0.03774741291999817, 0.7172008156776428, 0.03774741291999817, 0.03774741291999817, 0.07549482583999634, 0.03774741291999817, 0.03774741291999817, 0.015597032383084297, 0.031194064766168594, 0.015597032383084297, 0.2963436245918274, 0.5770902037620544, 0.007798516191542149, 0.03899258002638817, 0.007798516191542149, 0.12689422070980072, 0.8036633729934692, 0.042298074811697006, 0.005576194263994694, 0.008364290930330753, 0.05297384411096573, 0.05297384411096573, 0.5604075193405151, 0.03903335705399513, 0.008364290930330753, 0.013940485194325447, 0.04739765077829361, 0.05855003744363785, 0.03345716372132301, 0.08364291489124298, 0.030669067054986954, 0.002788097131997347, 0.005576194263994694, 0.9020029902458191, 0.01857435330748558, 0.01857435330748558, 0.4705502688884735, 0.03714870661497116, 0.024765804409980774, 0.0061914511024951935, 0.13621191680431366, 0.04953160881996155, 0.1981264352798462, 0.030957253649830818, 0.96677166223526, 0.9150945544242859, 0.04086357727646828, 0.09534835070371628, 0.054484773427248, 0.40863579511642456, 0.013621193356812, 0.04086357727646828, 0.3132874369621277, 0.013621193356812, 0.011340027675032616, 0.0925346314907074, 0.009525623172521591, 0.009525623172521591, 0.2068421095609665, 0.0018144045025110245, 0.0027216067537665367, 0.010886427015066147, 0.10206025093793869, 0.0027216067537665367, 0.00816482026129961, 0.13109073042869568, 0.004989612381905317, 0.3969009816646576, 0.009072022512555122, 0.0204731747508049, 0.02502276934683323, 0.009099189192056656, 0.013648783788084984, 0.39808952808380127, 0.006824391894042492, 0.004549594596028328, 0.04777074232697487, 0.018198378384113312, 0.018198378384113312, 0.018198378384113312, 0.4117383062839508, 0.004549594596028328, 0.002274797298014164, 0.039906565099954605, 0.0319252535700798, 0.2554020285606384, 0.2833366096019745, 0.051878537982702255, 0.06784116476774216, 0.011971970088779926, 0.027934595942497253, 0.09976641833782196, 0.011971970088779926, 0.003990656696259975, 0.043897222727537155, 0.0319252535700798, 0.019953282549977303, 0.0159626267850399, 0.036538466811180115, 0.05480770021677017, 0.10961540043354034, 0.20096156001091003, 0.07307693362236023, 0.5298077464103699, 0.029507001861929893, 0.039342667907476425, 0.05027118697762489, 0.08633530139923096, 0.1737634539604187, 0.07540678232908249, 0.01202137116342783, 0.01202137116342783, 0.17594915628433228, 0.049178335815668106, 0.08087104558944702, 0.08414959907531738, 0.00109285197686404, 0.016392778605222702, 0.115842305123806, 0.08880768716335297, 0.045450396835803986, 0.02601437270641327, 0.012857678346335888, 0.03947008028626442, 0.06877362728118896, 0.008073425851762295, 0.040068112313747406, 0.0014950789045542479, 0.04335728660225868, 0.0044852364808321, 0.012558662332594395, 0.0044852364808321, 0.020931104198098183, 0.5830807685852051, 0.7408307790756226, 0.0025679722893983126, 0.1694861799478531, 0.1052868664264679, 0.10785483568906784, 0.32613247632980347, 0.04622350260615349, 0.005135944578796625, 0.01027188915759325, 0.07703916728496552, 0.041087556630373, 0.012839862145483494, 0.041087556630373, 0.005135944578796625, 0.04879147559404373, 0.797109067440033, 0.15961270034313202, 0.7182571887969971, 0.9729611873626709, 0.9291546940803528, 0.864579975605011, 0.8039707541465759, 0.08039707690477371, 0.9443415403366089, 0.13395625352859497, 0.06697812676429749, 0.6028031706809998, 0.11163021624088287, 0.04465208575129509, 0.022326042875647545, 0.06766371428966522, 0.08119645714759827, 0.013532742857933044, 0.013532742857933044, 0.02706548571586609, 0.13532742857933044, 0.08119645714759827, 0.013532742857933044, 0.554842472076416, 0.7899426817893982, 0.15124550461769104, 0.1334519237279892, 0.00889679417014122, 0.24021345376968384, 0.00889679417014122, 0.01779358834028244, 0.3202846050262451, 0.03558717668056488, 0.01779358834028244, 0.07117435336112976, 0.739754855632782, 0.07211650907993317, 0.793281614780426, 0.018732935190200806, 0.15922994911670685, 0.02809940278530121, 0.10303114354610443, 0.02809940278530121, 0.02809940278530121, 0.009366467595100403, 0.09366467595100403, 0.046832337975502014, 0.4214910566806793, 0.018732935190200806, 0.02809940278530121, 0.009366467595100403, 0.724504292011261, 0.9490068554878235, 0.6925789713859558, 0.7590717077255249, 0.18976792693138123, 0.018470803275704384, 0.009235401637852192, 0.03694160655140877, 0.24935583770275116, 0.10158941149711609, 0.47100546956062317, 0.08311861008405685, 0.018470803275704384, 0.0075262850150465965, 0.0075262850150465965, 0.030105140060186386, 0.7752073407173157, 0.015052570030093193, 0.022578855976462364, 0.06773656606674194, 0.015052570030093193, 0.03763142600655556, 0.0075262850150465965, 0.015052570030093193, 0.6907636523246765, 0.030033202841877937, 0.15016601979732513, 0.09009961038827896, 0.6838269233703613, 0.17422962188720703, 0.7715883255004883, 0.02488994598388672, 0.8151051998138428, 0.8836578726768494, 0.21070922911167145, 0.046824272722005844, 0.6087155342102051, 0.07023640722036362, 0.023412136361002922, 0.8469299674034119, 0.6937316060066223, 0.9015600681304932, 0.049360986799001694, 0.7033940553665161, 0.18510369956493378, 0.024680493399500847, 0.012340246699750423, 0.1534327119588852, 0.690447211265564, 0.1150745302438736, 0.6850868463516235, 0.030266398563981056, 0.06053279712796211, 0.03783299773931503, 0.015133199281990528, 0.030266398563981056, 0.817192792892456, 0.8730436563491821, 0.6925479769706726, 0.4464266300201416, 0.02678559720516205, 0.04464266076683998, 0.017857065424323082, 0.1607135832309723, 0.1071423888206482, 0.1607135832309723, 0.008928532712161541, 0.017857065424323082, 0.0868186205625534, 0.5643210411071777, 0.08247768878936768, 0.0868186205625534, 0.00868186168372631, 0.02170465514063835, 0.00868186168372631, 0.0434093102812767, 0.00868186168372631, 0.03472744673490524, 0.00868186168372631, 0.03906837850809097, 0.2826271653175354, 0.6359111666679382, 0.0544419065117836, 0.015554830431938171, 0.003888707607984543, 0.18276925384998322, 0.019443538039922714, 0.015554830431938171, 0.007777415215969086, 0.003888707607984543, 0.6960786581039429, 0.002820216817781329, 0.008460650220513344, 0.12126932293176651, 0.16216246783733368, 0.10434801876544952, 0.02538195066154003, 0.011280867271125317, 0.07050541788339615, 0.4117516577243805, 0.012690975330770016, 0.059224553406238556, 0.0014101084088906646, 0.007050542160868645, 0.0014101084088906646, 0.7251067161560059, 0.17712892591953278, 0.03321167454123497, 0.005535278934985399, 0.011070557869970798, 0.13284669816493988, 0.027676396071910858, 0.044282231479883194, 0.07749390602111816, 0.4871045649051666, 0.8817001581192017, 0.07666957378387451, 0.8554917573928833, 0.05758036673069, 0.0019855299033224583, 0.14891473948955536, 0.07743566483259201, 0.039710596203804016, 0.005956589709967375, 0.0039710598066449165, 0.6254419088363647, 0.0019855299033224583, 0.009927649050951004, 0.005956589709967375, 0.007942119613289833, 0.01191317941993475, 0.20985917747020721, 0.0629577562212944, 0.02098591811954975, 0.02098591811954975, 0.10492958873510361, 0.0629577562212944, 0.5036620497703552, 0.7735168933868408, 0.7973892092704773, 0.04424525424838066, 0.05198817327618599, 0.22896918654441833, 0.10508248209953308, 0.10176408290863037, 0.07964146137237549, 0.030971677973866463, 0.03539620339870453, 0.09402116388082504, 0.024334890767931938, 0.07189853489398956, 0.058624960482120514, 0.03871459886431694, 0.02986554615199566, 0.004424525424838066, 0.04048257693648338, 0.013494191691279411, 0.006747095845639706, 0.013494191691279411, 0.10120643675327301, 0.026988383382558823, 0.060723863542079926, 0.7286863327026367, 0.07963229715824127, 0.7963230013847351, 0.05327286198735237, 0.8097475171089172, 0.0035515243653208017, 0.01775762066245079, 0.0071030487306416035, 0.014206097461283207, 0.02130914479494095, 0.0035515243653208017, 0.0035515243653208017, 0.03196371719241142, 0.03551524132490158, 0.10361368954181671, 0.007326220627874136, 0.18315552175045013, 0.035584501922130585, 0.07849521934986115, 0.11931274086236954, 0.04395732283592224, 0.10256709158420563, 0.013605838641524315, 0.02197866141796112, 0.05442335456609726, 0.01674564741551876, 0.07012239843606949, 0.025118470191955566, 0.12349914759397507, 0.8756735324859619, 0.7984567880630493, 0.02732691913843155, 0.08198075741529465, 0.7104999423027039, 0.1639615148305893, 0.3786020874977112, 0.04454142227768898, 0.09507880359888077, 0.06081617251038551, 0.01970101334154606, 0.06081617251038551, 0.045397985726594925, 0.0059959604404866695, 0.15846467018127441, 0.0625293031334877, 0.010278789326548576, 0.015418183989822865, 0.002569697331637144, 0.021414145827293396, 0.01798788085579872, 0.7835870385169983, 0.29124072194099426, 0.009394862689077854, 0.30063560605049133, 0.07515890151262283, 0.09394862502813339, 0.21608182787895203, 0.9263425469398499, 0.8744416236877441, 0.8820173144340515, 0.848953127861023, 0.8439717292785645, 0.12056738883256912, 0.0034008175134658813, 0.010202452540397644, 0.030607357621192932, 0.19724741578102112, 0.588341474533081, 0.0034008175134658813, 0.07481798529624939, 0.04421062767505646, 0.0034008175134658813, 0.040809810161590576, 0.011188267730176449, 0.0019457857124507427, 0.0038915714249014854, 0.009242482483386993, 0.0024322320241481066, 0.024808768182992935, 0.008756035938858986, 0.06129224970936775, 0.0009728928562253714, 0.003405124880373478, 0.03599703684449196, 0.004378017969429493, 0.0009728928562253714, 0.010701821185648441, 0.8201486468315125, 0.010078635066747665, 0.31579720973968506, 0.030235905200242996, 0.010078635066747665, 0.04367408528923988, 0.003359545022249222, 0.04367408528923988, 0.010078635066747665, 0.02015727013349533, 0.006719090044498444, 0.03695499524474144, 0.03695499524474144, 0.43674084544181824, 0.6999567151069641, 0.7006849646568298, 0.19980816543102264, 0.34512320160865784, 0.06660272181034088, 0.08476710319519043, 0.006054793018847704, 0.042383551597595215, 0.060547929257154465, 0.024219172075390816, 0.16953420639038086, 0.006054793018847704, 0.01675700955092907, 0.01675700955092907, 0.006702803540974855, 0.2480037361383438, 0.03686542063951492, 0.010054205544292927, 0.08713644742965698, 0.08043364435434341, 0.04356822371482849, 0.0033514017704874277, 0.3954654335975647, 0.010054205544292927, 0.04021682217717171, 0.8874600529670715, 0.009242110885679722, 0.12938955426216125, 0.06469477713108063, 0.02772633358836174, 0.009242110885679722, 0.7486110329627991, 0.8276745080947876, 0.12733453512191772, 0.769387423992157, 0.0028005470521748066, 0.025204923003911972, 0.008401641622185707, 0.005601094104349613, 0.7365438938140869, 0.011202188208699226, 0.011202188208699226, 0.0028005470521748066, 0.022404376417398453, 0.1316257119178772, 0.0028005470521748066, 0.044808752834796906, 0.05392993614077568, 0.07550191134214401, 0.10785987228155136, 0.05392993614077568, 0.021571975201368332, 0.07550191134214401, 0.043143950402736664, 0.3990815281867981, 0.15100382268428802, 0.009845052845776081, 0.5759356021881104, 0.07876042276620865, 0.0049225264228880405, 0.23135873675346375, 0.0049225264228880405, 0.0049225264228880405, 0.08368294686079025, 0.12553133070468903, 0.03586609289050102, 0.5290248990058899, 0.008966523222625256, 0.0896652340888977, 0.05379914119839668, 0.0896652340888977, 0.07173218578100204, 0.8119878172874451, 0.924609363079071, 0.7745766639709473, 0.01434401236474514, 0.18647216260433197, 0.01434401236474514, 0.8947300314903259, 0.7006630301475525, 0.1560611128807068, 0.06688334047794342, 0.05573611333966255, 0.6911278367042542, 0.6834226846694946, 0.10003479570150375, 0.2000695914030075, 0.05001739785075188, 0.550191342830658, 0.05001739785075188, 0.7792815566062927, 0.020133240148425102, 0.23488780856132507, 0.13086606562137604, 0.06375525891780853, 0.08724404126405716, 0.010066620074212551, 0.010066620074212551, 0.010066620074212551, 0.3422650992870331, 0.053688641637563705, 0.033555399626493454, 0.921321451663971, 0.4174862205982208, 0.011572112329304218, 0.00890162494033575, 0.037386827170848846, 0.09969820082187653, 0.0551900751888752, 0.013352437876164913, 0.0178032498806715, 0.010681950487196445, 0.004450812470167875, 0.0649818629026413, 0.008011462166905403, 0.004450812470167875, 0.005340975243598223, 0.23945371806621552, 0.01858133263885975, 0.009290666319429874, 0.01858133263885975, 0.9104853272438049, 0.009290666319429874, 0.009290666319429874, 0.027871999889612198, 0.05156770348548889, 0.8766509294509888, 0.0988464429974556, 0.07907715439796448, 0.00988464429974556, 0.23723144829273224, 0.06919250637292862, 0.00988464429974556, 0.15815430879592896, 0.0988464429974556, 0.01976928859949112, 0.22734680771827698, 0.8868606686592102, 0.854873538017273, 0.19591733813285828, 0.0031097992323338985, 0.1648193597793579, 0.021768594160676003, 0.16170954704284668, 0.006219598464667797, 0.2145761400461197, 0.059086184948682785, 0.018658794462680817, 0.015548995696008205, 0.1368311643600464, 0.8831011652946472, 0.6306849718093872, 0.1051141619682312, 0.1051141619682312, 0.7463937997817993, 0.09564156830310822, 0.015940260142087936, 0.15940260887145996, 0.7013714909553528, 0.8181480169296265, 0.11765360087156296, 0.03921786695718765, 0.588267982006073, 0.19608932733535767, 0.017673524096608162, 0.0008415963966399431, 0.04039662703871727, 0.2794100046157837, 0.0008415963966399431, 0.14222979545593262, 0.04460461065173149, 0.0656445175409317, 0.005891174543648958, 0.09257560223340988, 0.05133737996220589, 0.005049578379839659, 0.045446205884218216, 0.024406295269727707, 0.1834680140018463, 0.8070365786552429, 0.14673392474651337, 0.7481359243392944, 0.1122203841805458, 0.0748135894536972, 0.19987370073795319, 0.04441637918353081, 0.09993685036897659, 0.6107252240180969, 0.022208189591765404, 0.01477179117500782, 0.45300158858299255, 0.03939144313335419, 0.11817432940006256, 0.03939144313335419, 0.04431537166237831, 0.05416323244571686, 0.03939144313335419, 0.009847860783338547, 0.02954358235001564, 0.034467510879039764, 0.12309825420379639, 0.8559388518333435, 0.5962872505187988, 0.13986366987228394, 0.6993183493614197, 0.06993183493614197, 0.038571763783693314, 0.019285881891846657, 0.2700023353099823, 0.009642940945923328, 0.019285881891846657, 0.6075052618980408, 0.02892882190644741, 0.8190480470657349, 0.7380514144897461, 0.00546144787222147, 0.06007592752575874, 0.008192172273993492, 0.6471815705299377, 0.04369158297777176, 0.016384344547986984, 0.024576516821980476, 0.008192172273993492, 0.07099882513284683, 0.038230136036872864, 0.07646027207374573, 0.002730723936110735, 0.8608721494674683, 0.026524659246206284, 0.13262329995632172, 0.13262329995632172, 0.026524659246206284, 0.5304931998252869, 0.13262329995632172, 0.031035134568810463, 0.0248281080275774, 0.10551945865154266, 0.0496562160551548, 0.06827729940414429, 0.00620702700689435, 0.031035134568810463, 0.6827729344367981, 0.04234562814235687, 0.04234562814235687, 0.698702871799469, 0.1693825125694275, 0.021172814071178436, 0.0599648542702198, 0.004997071344405413, 0.28983014822006226, 0.0299824271351099, 0.0399765707552433, 0.19488577544689178, 0.2148740589618683, 0.01998828537762165, 0.08994728326797485, 0.034979499876499176, 0.01499121356755495, 0.004997071344405413, 0.008410359732806683, 0.6256013512611389, 0.015311167575418949, 0.04356135055422783, 0.02997538447380066, 0.0051756058819592, 0.0008626009803265333, 0.002156502567231655, 0.20422078669071198, 0.002156502567231655, 0.004959955811500549, 0.039032693952322006, 0.015311167575418949, 0.0025878029409796, 0.00043130049016326666, 0.015307243913412094, 0.002186749130487442, 0.006560247391462326, 0.8156574368476868, 0.004373498260974884, 0.002186749130487442, 0.01093374565243721, 0.04592173174023628, 0.07216271758079529, 0.002186749130487442, 0.01093374565243721, 0.002186749130487442, 0.008746996521949768, 0.06830135732889175, 0.08382439613342285, 0.08692900091409683, 0.037255287170410156, 0.17385800182819366, 0.07451057434082031, 0.22042712569236755, 0.052778325974941254, 0.03415067866444588, 0.11176586151123047, 0.046569108963012695, 0.0015459837159141898, 0.14223051071166992, 0.013913854025304317, 0.027827708050608635, 0.0036072954535484314, 0.0020613116212189198, 0.5905658006668091, 0.05050213634967804, 0.013913854025304317, 0.0010306558106094599, 0.11337213963270187, 0.0041226232424378395, 0.008245246484875679, 0.02679705247282982, 0.0005153279053047299, 0.8761621713638306, 0.8511587381362915, 0.5565115213394165, 0.017390985041856766, 0.3130377233028412, 0.03478197008371353, 0.017390985041856766, 0.017390985041856766, 0.7330024838447571, 0.050551895052194595, 0.025275947526097298, 0.025275947526097298, 0.10110379010438919, 0.6837431788444519, 0.8135595917701721, 0.8552785515785217, 0.9014892578125, 0.17338663339614868, 0.02989424765110016, 0.03587309643626213, 0.053809646517038345, 0.011957699432969093, 0.03587309643626213, 0.017936548218131065, 0.011957699432969093, 0.23915398120880127, 0.03587309643626213, 0.18534433841705322, 0.1255558431148529, 0.03587309643626213, 0.7196222543716431, 0.2158866822719574, 0.7000674605369568, 0.018885420635342598, 0.018885420635342598, 0.13219794631004333, 0.05665626376867294, 0.018885420635342598, 0.09442710876464844, 0.6043334603309631, 0.037770841270685196, 0.8398328423500061, 0.7494969964027405, 0.12491616606712341, 0.724501371383667, 0.9258289337158203, 0.04208313301205635, 0.9053011536598206, 0.052228912711143494, 0.07958173751831055, 0.875399112701416, 0.014225437305867672, 0.6828209757804871, 0.028450874611735344, 0.08535262197256088, 0.14225436747074127, 0.014225437305867672, 0.056241631507873535, 0.000852145894896239, 0.0843624472618103, 0.09714463353157043, 0.004260729532688856, 0.4686802625656128, 0.001704291789792478, 0.036642275750637054, 0.001704291789792478, 0.042607296258211136, 0.001704291789792478, 0.003408583579584956, 0.1576469987630844, 0.043459441512823105, 0.021483564749360085, 0.006445069331675768, 0.023631921038031578, 0.010741782374680042, 0.723996102809906, 0.012890138663351536, 0.002148356521502137, 0.1632750928401947, 0.03007698990404606, 0.002148356521502137, 0.02270515263080597, 0.007568384055048227, 0.09082061052322388, 0.007568384055048227, 0.21191474795341492, 0.12109414488077164, 0.3708508312702179, 0.143799290060997, 0.007568384055048227, 0.2068573385477066, 0.025857167318463326, 0.6981435418128967, 0.025857167318463326, 0.01782110147178173, 0.07503621280193329, 0.0844157412648201, 0.09942298382520676, 0.008441573940217495, 0.01688314788043499, 0.4427136778831482, 0.045959681272506714, 0.02720062807202339, 0.020634958520531654, 0.01782110147178173, 0.04408377781510353, 0.0159451961517334, 0.014069289900362492, 0.07034645229578018, 0.7854485511779785, 0.18807312846183777, 0.156727597117424, 0.03134552016854286, 0.5955649018287659, 0.5953889489173889, 0.7002077102661133, 0.8776071071624756, 0.8041473031044006, 0.8381513953208923, 0.8535268902778625, 0.10493366420269012, 0.7345356941223145, 0.8295278549194336, 0.8525118827819824, 0.8844138979911804, 0.0884413942694664, 0.15789054334163666, 0.07894527167081833, 0.7105073928833008, 0.039472635835409164, 0.7477524876594543, 0.00670724967494607, 0.00670724967494607, 0.01341449934989214, 0.46950748562812805, 0.00670724967494607, 0.08719424903392792, 0.03353624790906906, 0.06036524847149849, 0.020121749490499496, 0.2884117364883423, 0.00670724967494607, 0.8381488919258118, 0.9178386926651001, 0.4560616612434387, 0.15132956206798553, 0.0642632320523262, 0.016584061086177826, 0.04353316128253937, 0.010365038178861141, 0.0020730076357722282, 0.04975218325853348, 0.026949098333716393, 0.04560616612434387, 0.08913932740688324, 0.010365038178861141, 0.026949098333716393, 0.0041460152715444565, 0.0041460152715444565, 0.7389746904373169, 0.733217179775238, 0.06609629094600677, 0.7270592451095581, 0.13219258189201355, 0.834505558013916, 0.1571960598230362, 0.019649507477879524, 0.5108872056007385, 0.0785980299115181, 0.03929901495575905, 0.0785980299115181, 0.0785980299115181, 0.019649507477879524, 0.7746317982673645, 0.872876763343811, 0.19740818440914154, 0.04386848211288452, 0.5702902674674988, 0.08773696422576904, 0.04386848211288452, 0.01838364452123642, 0.01838364452123642, 0.06985785067081451, 0.07721130549907684, 0.007353457622230053, 0.022060373798012733, 0.0919182226061821, 0.0036767288111150265, 0.007353457622230053, 0.4412074685096741, 0.20589680969715118, 0.011030186899006367, 0.022060373798012733, 0.15447649359703064, 0.027260558679699898, 0.45434263348579407, 0.0090868528932333, 0.3453004062175751, 0.9178362488746643, 0.029172590002417564, 0.07779357582330704, 0.09724196791648865, 0.07779357582330704, 0.029172590002417564, 0.014586295001208782, 0.24796701967716217, 0.03889678791165352, 0.08265566825866699, 0.014586295001208782, 0.048620983958244324, 0.07779357582330704, 0.16044925153255463, 0.15005044639110565, 0.06540660560131073, 0.43476152420043945, 0.04616936668753624, 0.02308468334376812, 0.0038474472239613533, 0.10388107597827911, 0.038474470376968384, 0.06925404816865921, 0.007694894447922707, 0.0269321296364069, 0.034627024084329605, 0.6945680379867554, 0.8330695033073425, 0.5994018912315369, 0.8835096955299377, 0.09816773980855942, 0.005399739369750023, 0.02159895747900009, 0.09179557114839554, 0.11339452862739563, 0.10259504616260529, 0.01619921810925007, 0.507575511932373, 0.12419400364160538, 0.02159895747900009, 0.8245841264724731, 0.896481454372406, 0.34157586097717285, 0.009847232140600681, 0.37111756205558777, 0.060314297676086426, 0.0018463560845702887, 0.07939331233501434, 0.0036927121691405773, 0.008000876754522324, 0.0024618080351501703, 0.02831079252064228, 0.019694464281201363, 0.0024618080351501703, 0.04923616349697113, 0.012924492359161377, 0.01046268455684185, 0.011438285931944847, 0.26879972219467163, 0.663420557975769, 0.022876571863889694, 0.011438285931944847, 0.011438285931944847, 0.0057191429659724236, 0.8858148455619812, 0.018944187089800835, 0.0037888374645262957, 0.1136651262640953, 0.08714326471090317, 0.08335442841053009, 0.0644102394580841, 0.041677214205265045, 0.07577674835920334, 0.0037888374645262957, 0.0037888374645262957, 0.07577674835920334, 0.007577674929052591, 0.06819907575845718, 0.35236188769340515, 0.8925746083259583, 0.8410688042640686, 0.09894926846027374, 0.06307941675186157, 0.18923825025558472, 0.6938735842704773, 0.834367036819458, 0.11969590187072754, 0.0024679568596184254, 0.004935913719236851, 0.025913545861840248, 0.016041718423366547, 0.05923096090555191, 0.02221161127090454, 0.194968581199646, 0.0037019350565969944, 0.11352600902318954, 0.2862829864025116, 0.00616989191621542, 0.0012339784298092127, 0.1431414932012558, 0.6340839266777039, 0.08847682178020477, 0.007373068481683731, 0.014746136963367462, 0.014746136963367462, 0.007373068481683731, 0.22119206190109253, 0.6925767064094543, 0.9015799164772034, 0.06909996271133423, 0.011516660451889038, 0.6334163546562195, 0.04606664180755615, 0.023033320903778076, 0.011516660451889038, 0.17274990677833557, 0.011516660451889038, 0.011516660451889038, 0.8207862377166748, 0.10309727489948273, 0.17182879149913788, 0.034365758299827576, 0.6529493927955627, 0.034365758299827576, 0.03658748418092728, 0.7195538282394409, 0.02439165487885475, 0.06097913905978203, 0.006097913719713688, 0.0914687067270279, 0.0487833097577095, 0.012195827439427376, 0.062479108572006226, 0.780988872051239, 0.031239554286003113, 0.09371866285800934, 0.04431392252445221, 0.8419645428657532, 0.08862784504890442, 0.029043957591056824, 0.029043957591056824, 0.08713187277317047, 0.7841868996620178, 0.029043957591056824, 0.6705503463745117, 0.05587919428944588, 0.05587919428944588, 0.02793959714472294, 0.02793959714472294, 0.13969798386096954, 0.9064649939537048, 0.046485189348459244, 0.018594074994325638, 0.046485189348459244, 0.46485188603401184, 0.037188149988651276, 0.25102001428604126, 0.1208614930510521, 0.1913842409849167, 0.65070641040802, 0.03827684745192528, 0.11483053863048553, 0.8332732915878296, 0.003082391805946827, 0.0513731986284256, 0.002054927870631218, 0.017466887831687927, 0.022604206576943398, 0.005137319676578045, 0.002054927870631218, 0.007192247547209263, 0.014384495094418526, 0.019521815702319145, 0.004109855741262436, 0.006164783611893654, 0.004109855741262436, 0.008219711482524872, 0.8266446590423584, 0.08266446739435196, 0.04133223369717598, 0.8519948720932007, 0.8134478330612183, 0.09038309007883072, 0.7689685821533203, 0.8254165053367615, 0.07503785938024521, 0.039050616323947906, 0.019525308161973953, 0.05857592448592186, 0.15620246529579163, 0.605284571647644, 0.07810123264789581, 0.019525308161973953, 0.019525308161973953, 0.0034672729671001434, 0.01040181890130043, 0.05894364044070244, 0.04160727560520172, 0.01040181890130043, 0.024270910769701004, 0.0034672729671001434, 0.12482182681560516, 0.079747274518013, 0.0034672729671001434, 0.620641827583313, 0.0034672729671001434, 0.013869091868400574, 0.7122470140457153, 0.2719900608062744, 0.004121061880141497, 0.05975539609789848, 0.020605308935046196, 0.0226658396422863, 0.05975539609789848, 0.1092081367969513, 0.01854477822780609, 0.020605308935046196, 0.07623964548110962, 0.04945274069905281, 0.0865422934293747, 0.03296849504113197, 0.16278193891048431, 0.010302654467523098, 0.052522145211696625, 0.5252214670181274, 0.02917896956205368, 0.09337270259857178, 0.04085055738687515, 0.07002952694892883, 0.011671587824821472, 0.04085055738687515, 0.017507381737232208, 0.11088008433580399, 0.6934953927993774, 0.768500804901123, 0.033413078635931015, 0.033413078635931015, 0.06682615727186203, 0.033413078635931015, 0.033413078635931015, 0.09719730168581009, 0.8018777966499329, 0.024299325421452522, 0.048598650842905045, 0.04319259151816368, 0.04319259151816368, 0.8638518452644348, 0.7690284848213196, 0.10087811201810837, 0.11769112944602966, 0.7565858364105225, 0.14830666780471802, 0.8156867027282715, 0.21927616000175476, 0.10963808000087738, 0.019934197887778282, 0.019934197887778282, 0.009967098943889141, 0.4883878231048584, 0.009967098943889141, 0.0598025918006897, 0.02990129590034485, 0.02990129590034485, 0.0032016930636018515, 0.002134461887180805, 0.002134461887180805, 0.055496010929346085, 0.0010672309435904026, 0.0053361551836133, 0.00853784754872322, 0.04375647008419037, 0.006403386127203703, 0.0074706170707941055, 0.0458909310400486, 0.00853784754872322, 0.002134461887180805, 0.0010672309435904026, 0.8078938722610474, 0.684382438659668, 0.9017506241798401, 0.03636610880494118, 0.10909832268953323, 0.8000543713569641, 0.8385722637176514, 0.8545936346054077, 0.08400484174489975, 0.010182404890656471, 0.035638418048620224, 0.015273607335984707, 0.002545601222664118, 0.002545601222664118, 0.002545601222664118, 0.020364809781312943, 0.8018643856048584, 0.005091202445328236, 0.0076368036679923534, 0.010182404890656471, 0.002545601222664118, 0.06575044244527817, 0.005479203071445227, 0.08218804746866226, 0.10410486161708832, 0.32875218987464905, 0.03835442289710045, 0.04383362457156181, 0.005479203071445227, 0.016437610611319542, 0.010958406142890453, 0.016437610611319542, 0.12054247409105301, 0.02739601582288742, 0.14793848991394043, 0.025103051215410233, 0.9288128614425659, 0.025103051215410233, 0.053849950432777405, 0.10769990086555481, 0.16154985129833221, 0.6461994051933289, 0.7812159657478333, 0.14203926920890808, 0.0043645016849040985, 0.9776483774185181, 0.0043645016849040985, 0.0043645016849040985, 0.012823778204619884, 0.006411889102309942, 0.4744797945022583, 0.160297229886055, 0.08335455507040024, 0.006411889102309942, 0.08335455507040024, 0.006411889102309942, 0.006411889102309942, 0.032059445977211, 0.10900211334228516, 0.01923566684126854, 0.5999463200569153, 0.7689942121505737, 0.7984582781791687, 0.7000405192375183, 0.08530016243457794, 0.8743267059326172, 0.021325040608644485, 0.6834708452224731, 0.9014366269111633, 0.13409140706062317, 0.08194474875926971, 0.01489904522895813, 0.07449522614479065, 0.06704570353031158, 0.01489904522895813, 0.21603615581989288, 0.22348567843437195, 0.07449522614479065, 0.022348567843437195, 0.05959618091583252, 0.007449522614479065, 0.015732787549495697, 0.11012952029705048, 0.5349147915840149, 0.04719836637377739, 0.25172460079193115, 0.015732787549495697, 0.9237946271896362, 0.8935952186584473, 0.8973661065101624, 0.8518862724304199, 0.01933365687727928, 0.015263413079082966, 0.21775802969932556, 0.1119316965341568, 0.0447726771235466, 0.031544387340545654, 0.1526341289281845, 0.021368779242038727, 0.05291316658258438, 0.0040702433325350285, 0.14449363946914673, 0.14449363946914673, 0.03968487307429314, 0.8350223898887634, 0.12649250030517578, 0.8432832956314087, 0.20508727431297302, 0.06031978502869606, 0.2895349860191345, 0.012063956819474697, 0.4222384989261627, 0.012063956819474697, 0.8259240984916687, 0.5956289172172546, 0.5973703861236572, 0.024272046983242035, 0.17475874722003937, 0.19417637586593628, 0.11650583148002625, 0.009708818979561329, 0.04368968680500984, 0.038835275918245316, 0.0048544094897806644, 0.0048544094897806644, 0.019417637959122658, 0.2912645637989044, 0.02912645787000656, 0.009708818979561329, 0.038835275918245316, 0.880520224571228, 0.024617807939648628, 0.07385341823101044, 0.09847123175859451, 0.7877698540687561, 0.8920298218727112, 0.04460149258375168, 0.04460149258375168, 0.03409275785088539, 0.012175984680652618, 0.06331512331962585, 0.07062070816755295, 0.27761244773864746, 0.017046378925442696, 0.04139834642410278, 0.014611181803047657, 0.04626874253153801, 0.036527954041957855, 0.05113913491368294, 0.15828779339790344, 0.04139834642410278, 0.06331512331962585, 0.07062070816755295, 0.8847805857658386, 0.0860203355550766, 0.012288619764149189, 0.7170647382736206, 0.19556312263011932, 0.032593853771686554, 0.112871915102005, 0.05454017594456673, 0.011812177486717701, 0.22180643677711487, 0.0007291467627510428, 0.12891314923763275, 0.0625607892870903, 0.024790989235043526, 0.06985226273536682, 0.011812177486717701, 0.03368658199906349, 0.0005833174218423665, 0.04856117442250252, 0.006124832667410374, 0.21130673587322235, 0.876056969165802, 0.8463739156723022, 0.7546097040176392, 0.16769105195999146, 0.08384552597999573, 0.0570349246263504, 0.1425873041152954, 0.0570349246263504, 0.0570349246263504, 0.3992444574832916, 0.2566571533679962, 0.0832550972700119, 0.22895152866840363, 0.6660407781600952, 0.0121568962931633, 0.9766039848327637, 0.8360983729362488, 0.008026117458939552, 0.4093320071697235, 0.048156704753637314, 0.22473129630088806, 0.24078352749347687, 0.06420893967151642, 0.03447733819484711, 0.0560256727039814, 0.5774953961372375, 0.004309667274355888, 0.004309667274355888, 0.03016766905784607, 0.1680770218372345, 0.038787003606557846, 0.0560256727039814, 0.01292900089174509, 0.004309667274355888, 0.004309667274355888, 0.009819025173783302, 0.009819025173783302, 0.6676937341690063, 0.04909512773156166, 0.029457075521349907, 0.1669234335422516, 0.04909512773156166, 0.7959449887275696, 0.037902142852544785, 0.11370642483234406, 0.14878898859024048, 0.13526272773742676, 0.013526272028684616, 0.5004720687866211, 0.04057881608605385, 0.027052544057369232, 0.10821017622947693, 0.013526272028684616, 0.030713511630892754, 0.6910539865493774, 0.023035133257508278, 0.15356755256652832, 0.015356755815446377, 0.046070266515016556, 0.015356755815446377, 0.007678377907723188, 0.015356755815446377, 0.024477045983076096, 0.009790818206965923, 0.8860690593719482, 0.004895409103482962, 0.009790818206965923, 0.019581636413931847, 0.009790818206965923, 0.029372455552220345, 0.8825043439865112, 0.06807032972574234, 0.8168439269065857, 0.828884482383728, 0.008916201069951057, 0.026748603209853172, 0.10253631323575974, 0.1448882669210434, 0.031206704676151276, 0.0668715089559555, 0.08024580776691437, 0.1159106120467186, 0.006687150802463293, 0.17163687944412231, 0.06910055875778198, 0.03566480427980423, 0.09362011402845383, 0.017832402139902115, 0.02897765301167965, 0.011213230900466442, 0.06055144593119621, 0.10091907531023026, 0.08297790586948395, 0.2803307771682739, 0.042610276490449905, 0.06279408931732178, 0.06952203065156937, 0.049338214099407196, 0.05158086121082306, 0.10316172242164612, 0.03139704465866089, 0.02018381468951702, 0.03139704465866089, 0.006557359825819731, 0.06885228306055069, 0.11475379765033722, 0.029508119449019432, 0.19016343355178833, 0.04590151831507683, 0.052458878606557846, 0.08852435648441315, 0.022950759157538414, 0.23934364318847656, 0.09180303663015366, 0.016393400728702545, 0.019672080874443054, 0.016393400728702545, 0.18059898912906647, 0.7223959565162659, 0.03667658567428589, 0.014960185624659061, 0.029920371249318123, 0.025577092543244362, 0.13995012640953064, 0.018820879980921745, 0.05791039764881134, 0.12498994171619415, 0.04681090638041496, 0.22295503318309784, 0.04536314308643341, 0.060323331505060196, 0.0072387997061014175, 0.1245073527097702, 0.04439797252416611, 0.02399161085486412, 0.02399161085486412, 0.5038238167762756, 0.1199580505490303, 0.31189092993736267, 0.7986351251602173, 0.5985403060913086, 0.9142328500747681, 0.007152685429900885, 0.1573590785264969, 0.050068795680999756, 0.03576342761516571, 0.021458055824041367, 0.01430537085980177, 0.007152685429900885, 0.36478695273399353, 0.33617621660232544, 0.025257591158151627, 0.05051518231630325, 0.7577277421951294, 0.06314398348331451, 0.05051518231630325, 0.025257591158151627, 0.012628795579075813, 0.805834949016571, 0.21968169510364532, 0.025844905525445938, 0.11630207300186157, 0.11630207300186157, 0.025844905525445938, 0.49105319380760193, 0.036370545625686646, 0.005195791833102703, 0.15587376058101654, 0.0467621274292469, 0.020783167332410812, 0.10391584038734436, 0.010391583666205406, 0.27018117904663086, 0.015587376430630684, 0.07274109125137329, 0.062349505722522736, 0.010391583666205406, 0.11430742591619492, 0.07274109125137329, 0.03454890847206116, 0.00863722711801529, 0.03454890847206116, 0.578694224357605, 0.06909781694412231, 0.060460593551397324, 0.025911683216691017, 0.00863722711801529, 0.1727445423603058, 0.9134786128997803, 0.005526346620172262, 0.033158078789711, 0.4310550391674042, 0.005526346620172262, 0.0497371181845665, 0.0939478948712349, 0.0276317335665226, 0.22658021748065948, 0.0165790393948555, 0.0386844277381897, 0.0552634671330452, 0.02210538648068905, 0.8575360178947449, 0.6923533082008362, 0.7007182836532593, 0.6257219314575195, 0.22084303200244904, 0.11042151600122452, 0.1574382334947586, 0.7084720134735107, 0.489533007144928, 0.011518423445522785, 0.005759211722761393, 0.09790659695863724, 0.08638817816972733, 0.005759211722761393, 0.14398029446601868, 0.08062896132469177, 0.03455527126789093, 0.040314480662345886, 0.8943356871604919, 0.06879505515098572, 0.8873764276504517, 0.07809749990701675, 0.03347035497426987, 0.5020553469657898, 0.05578392744064331, 0.16735178232192993, 0.04462714120745659, 0.011156785301864147, 0.1004110649228096, 0.6838237643241882, 0.8811258673667908, 0.017721028998494148, 0.47846779227256775, 0.004430257249623537, 0.017721028998494148, 0.004430257249623537, 0.008860514499247074, 0.11518669128417969, 0.3234087824821472, 0.004430257249623537, 0.017721028998494148, 0.04304034262895584, 0.20085492730140686, 0.10042746365070343, 0.07173389941453934, 0.028693560510873795, 0.04304034262895584, 0.4877905249595642, 0.014346780255436897, 0.7893666625022888, 0.8265424370765686, 0.7755842804908752, 0.135068878531456, 0.135068878531456, 0.033767219632864, 0.135068878531456, 0.5740427374839783, 0.03233441337943077, 0.03233441337943077, 0.021556276828050613, 0.03233441337943077, 0.4957943558692932, 0.12933765351772308, 0.12933765351772308, 0.08622510731220245, 0.04311255365610123, 0.006405039690434933, 0.019215118139982224, 0.019215118139982224, 0.14731590449810028, 0.019215118139982224, 0.10248063504695892, 0.09607559442520142, 0.11529071629047394, 0.46116286516189575, 0.7960941195487976, 0.2171318233013153, 0.7237727642059326, 0.9062575697898865, 0.15270964801311493, 0.0337061807513237, 0.022241493687033653, 0.09355185180902481, 0.06420224905014038, 0.06878812611103058, 0.0559476763010025, 0.05892849341034889, 0.006878812797367573, 0.04241934418678284, 0.12060851603746414, 0.047693099826574326, 0.043107226490974426, 0.019031381234526634, 0.17036525905132294, 0.48123595118522644, 0.2559765577316284, 0.020478125661611557, 0.08191250264644623, 0.010239062830805779, 0.10239062458276749, 0.010239062830805779, 0.020478125661611557, 0.05994122475385666, 0.05994122475385666, 0.29685178399086, 0.002854343969374895, 0.039960816502571106, 0.04852384701371193, 0.10846506804227829, 0.014271719381213188, 0.03425212576985359, 0.12273678928613663, 0.002854343969374895, 0.039960816502571106, 0.17126064002513885, 0.7250239849090576, 0.7370909452438354, 0.8191981911659241, 0.14894512295722961, 0.0021556648425757885, 0.023712312802672386, 0.13149555027484894, 0.09700492024421692, 0.5108925700187683, 0.0010778324212878942, 0.0064669945277273655, 0.05065812170505524, 0.017245318740606308, 0.028023643419146538, 0.05496945232152939, 0.035568468272686005, 0.024790145456790924, 0.007544826716184616, 0.008622659370303154, 0.41597166657447815, 0.12540322542190552, 0.012234460562467575, 0.012234460562467575, 0.0061172302812337875, 0.0030586151406168938, 0.07034815102815628, 0.0030586151406168938, 0.10399291664361954, 0.21104444563388824, 0.036703381687402725, 0.06493457406759262, 0.02164485864341259, 0.06493457406759262, 0.32034391164779663, 0.004328971728682518, 0.04761869087815285, 0.017315886914730072, 0.1471850425004959, 0.017315886914730072, 0.17315886914730072, 0.02164485864341259, 0.09090840816497803, 0.164930060505867, 0.013744172640144825, 0.09620920568704605, 0.0549766905605793, 0.013744172640144825, 0.5497668981552124, 0.04123251512646675, 0.013744172640144825, 0.04123251512646675, 0.7244855165481567, 0.9004905819892883, 0.8522459268569946, 0.9047942757606506, 0.9121335744857788, 0.8158929944038391, 0.0646556094288826, 0.018473032861948013, 0.02770954743027687, 0.1293112188577652, 0.009236516430974007, 0.1477842628955841, 0.07389213144779205, 0.08312864601612091, 0.3140415549278259, 0.10160167515277863, 0.8605619668960571, 0.04658518359065056, 0.0017917378572747111, 0.09675384312868118, 0.34938886761665344, 0.0035834757145494223, 0.12004643678665161, 0.057335611432790756, 0.06629429757595062, 0.03045954369008541, 0.07704472541809082, 0.06629429757595062, 0.04120996966958046, 0.0035834757145494223, 0.02329259179532528, 0.019709115847945213, 0.10830129683017731, 0.7581090927124023, 0.8781275749206543, 0.015149658545851707, 0.005681122187525034, 0.02651190385222435, 0.40335965156555176, 0.1060476154088974, 0.02651190385222435, 0.0018937073182314634, 0.03598044067621231, 0.0018937073182314634, 0.020830780267715454, 0.10794132202863693, 0.24618194997310638, 0.7688831090927124, 0.11994970589876175, 0.159932941198349, 0.5197820663452148, 0.0799664705991745, 0.03998323529958725, 0.03998323529958725, 0.03998323529958725, 0.025918593630194664, 0.003239824203774333, 0.053457099944353104, 0.0404978021979332, 0.12311331927776337, 0.07289604842662811, 0.06155665963888168, 0.07127613574266434, 0.05183718726038933, 0.07451595366001129, 0.03887788951396942, 0.21220847964286804, 0.07937569171190262, 0.022678770124912262, 0.07127613574266434, 0.029443690553307533, 0.058887381106615067, 0.6772048473358154, 0.11777476221323013, 0.058887381106615067, 0.016608677804470062, 0.06643471121788025, 0.23252147436141968, 0.5979123711585999, 0.06643471121788025, 0.016608677804470062, 0.07727360725402832, 0.5241166353225708, 0.1444680392742157, 0.13438887894153595, 0.0033597219735383987, 0.0033597219735383987, 0.0033597219735383987, 0.040316663682460785, 0.0033597219735383987, 0.03359721973538399, 0.02687777578830719, 0.0067194439470767975, 0.014792412519454956, 0.16271653771400452, 0.014792412519454956, 0.03944643586874008, 0.00493080448359251, 0.00986160896718502, 0.11833930015563965, 0.00986160896718502, 0.00986160896718502, 0.35008710622787476, 0.03944643586874008, 0.2317478060722351, 0.00493080448359251, 0.1368747055530548, 0.8212481737136841, 0.2915757894515991, 0.027507150545716286, 0.022005720064044, 0.44011440873146057, 0.005501430016011, 0.005501430016011, 0.05501430109143257, 0.005501430016011, 0.082521453499794, 0.07151859253644943, 0.013558709993958473, 0.06327398121356964, 0.14462623000144958, 0.05423483997583389, 0.05875440686941147, 0.009039139375090599, 0.4971526861190796, 0.07231311500072479, 0.022597849369049072, 0.04067612811923027, 0.022597849369049072, 0.0045195696875452995, 0.6245085000991821, 0.18735255300998688, 0.12490169703960419, 0.8469257354736328, 0.8058687448501587, 0.8833308815956116, 0.7404778599739075, 0.8345808386802673, 0.8917475938796997, 0.05248522385954857, 0.041988179087638855, 0.05248522385954857, 0.5983315706253052, 0.010497044771909714, 0.12596453726291656, 0.010497044771909714, 0.08397635817527771, 0.01960151083767414, 0.01960151083767414, 0.03920302167534828, 0.8820679783821106, 0.09639675915241241, 0.24099190533161163, 0.6265789270401001, 0.0023048988077789545, 0.025353888049721718, 0.009219595231115818, 0.06914696842432022, 0.19822129607200623, 0.02996368519961834, 0.004609797615557909, 0.013829393312335014, 0.06914696842432022, 0.016134291887283325, 0.0023048988077789545, 0.004609797615557909, 0.5531757473945618, 0.05139219015836716, 0.020556876435875893, 0.1576027125120163, 0.023983022198081017, 0.15417657792568207, 0.023983022198081017, 0.02740916796028614, 0.010278438217937946, 0.44197285175323486, 0.006852291990071535, 0.04453989863395691, 0.02740916796028614, 0.01370458398014307, 0.8934375047683716, 0.037226561456918716, 0.8964670300483704, 0.7226617336273193, 0.1413903385400772, 0.09426022320985794, 0.03142007440328598, 0.856021523475647, 0.020935818552970886, 0.11165770143270493, 0.02791442535817623, 0.006978606339544058, 0.11165770143270493, 0.003489303169772029, 0.05582885071635246, 0.05582885071635246, 0.003489303169772029, 0.03489303216338158, 0.5129275321960449, 0.052339546382427216, 0.003489303169772029, 0.8498613834381104, 0.925767719745636, 0.01173060666769743, 0.01173060666769743, 0.10557546466588974, 0.08993465453386307, 0.12512648105621338, 0.01955101080238819, 0.06647343933582306, 0.09384485334157944, 0.05083262920379639, 0.031281620264053345, 0.32454678416252136, 0.02346121333539486, 0.003910202533006668, 0.03910202160477638, 0.003910202533006668, 0.1463024765253067, 0.09143904596567154, 0.08534311503171921, 0.08534311503171921, 0.012191873043775558, 0.030479682609438896, 0.3169887065887451, 0.012191873043775558, 0.012191873043775558, 0.006095936521887779, 0.024383746087551117, 0.012191873043775558, 0.1645902842283249, 0.08428333699703217, 0.02107083424925804, 0.06321250647306442, 0.210708349943161, 0.02107083424925804, 0.5478416681289673, 0.04214166849851608, 0.02107083424925804, 0.7488085031509399, 0.055225785821676254, 0.08283868432044983, 0.7455481290817261, 0.055225785821676254, 0.006971449591219425, 0.0032533432822674513, 0.0162667166441679, 0.02881532534956932, 0.0004647633177228272, 0.006506686564534903, 0.00883050262928009, 0.0013942898949608207, 0.01533718965947628, 0.012548609636723995, 0.8918808102607727, 0.0009295266354456544, 0.006041923072189093, 0.0004647633177228272, 0.12367374449968338, 0.07729609310626984, 0.015459218062460423, 0.23188826441764832, 0.030918436124920845, 0.4173988997936249, 0.09275531023740768, 0.015459218062460423, 0.7977586984634399, 0.06753230839967728, 0.19584369659423828, 0.09904738515615463, 0.17333292961120605, 0.0382683090865612, 0.022510768845677376, 0.020259693264961243, 0.06303015351295471, 0.17108185589313507, 0.006753230933099985, 0.04277046397328377, 0.06077907979488373, 0.015757538378238678, 0.022510768845677376, 0.8154935836791992, 0.16309872269630432, 0.7451585531234741, 0.1146397814154625, 0.05731989070773125, 0.03222457319498062, 0.06444914638996124, 0.25779658555984497, 0.5800423622131348, 0.03222457319498062, 0.8792389035224915, 0.040089674293994904, 0.1252802312374115, 0.06514572352170944, 0.11024660617113113, 0.15534749627113342, 0.030067255720496178, 0.07516814023256302, 0.05011209473013878, 0.040089674293994904, 0.040089674293994904, 0.010022418573498726, 0.19042596220970154, 0.060134511440992355, 0.918021023273468, 0.006023909896612167, 0.006023909896612167, 0.04216736927628517, 0.036143459379673004, 0.6807017922401428, 0.054215189069509506, 0.036143459379673004, 0.012047819793224335, 0.006023909896612167, 0.09638255834579468, 0.006023909896612167, 0.012047819793224335, 0.19090141355991364, 0.06363380700349808, 0.7211831212043762, 0.6998145580291748, 0.13996291160583496, 0.927278459072113, 0.0029018495697528124, 0.004062589257955551, 0.008705548010766506, 0.004642959218472242, 0.020893316715955734, 0.007544808555394411, 0.005803699139505625, 0.0899573341012001, 0.016830727458000183, 0.03772404417395592, 0.004062589257955551, 0.0011607398046180606, 0.0029018495697528124, 0.7933656573295593, 0.8328478336334229, 0.009056845679879189, 0.07245476543903351, 0.1901937574148178, 0.13585267961025238, 0.06339792162179947, 0.05434107407927513, 0.036227382719516754, 0.09056845307350159, 0.018113691359758377, 0.2807622253894806, 0.036227382719516754, 0.08391395956277847, 0.125870943069458, 0.08391395956277847, 0.041956979781389236, 0.10489244759082794, 0.4615267813205719, 0.08391395956277847, 0.045560501515865326, 0.028475312516093254, 0.011390125378966331, 0.028475312516093254, 0.8371741771697998, 0.005695062689483166, 0.005695062689483166, 0.022780250757932663, 0.05138000100851059, 0.025690000504255295, 0.7193199992179871, 0.20552000403404236, 0.012619110755622387, 0.0063095553778111935, 0.015773888677358627, 0.0063095553778111935, 0.012619110755622387, 0.0063095553778111935, 0.0031547776889055967, 0.9338141679763794, 0.08705013245344162, 0.8705012798309326, 0.9559382796287537, 0.11478213965892792, 0.00956517830491066, 0.851300835609436, 0.00956517830491066, 0.00898686796426773, 0.00898686796426773, 0.9705817699432373, 0.09184465557336807, 0.7347572445869446], \"Term\": [\"aa\", \"aa\", \"aa\", \"aa\", \"aa\", \"aa\", \"aa\", \"aa\", \"aa\", \"aa\", \"aa\", \"aa\", \"aa\", \"aaa\", \"aaa\", \"aaa\", \"aaa\", \"aaa\", \"aaa\", \"aaa\", \"aaa\", \"aaa\", \"access\", \"access\", \"access\", \"access\", \"access\", \"access\", \"access\", \"access\", \"access\", \"access\", \"access\", \"access\", \"account\", \"account\", \"account\", \"account\", \"account\", \"account\", \"account\", \"account\", \"account\", \"account\", \"account\", \"acct\", \"acdelco\", \"acess\", \"adapt\", \"add\", \"add\", \"add\", \"add\", \"add\", \"add\", \"add\", \"add\", \"add\", \"add\", \"add\", \"add\", \"address\", \"adhd\", \"adult\", \"adult\", \"adult\", \"adult\", \"adult\", \"adv\", \"age\", \"age\", \"age\", \"age\", \"age\", \"age\", \"age\", \"age\", \"age\", \"age\", \"age\", \"alexa\", \"alexa\", \"alexa\", \"alexa\", \"alexa\", \"alexa\", \"alexa\", \"alexa\", \"alexa\", \"alexa\", \"alexa\", \"alexia\", \"alight\", \"align\", \"allot\", \"alot\", \"alot\", \"alot\", \"alot\", \"alot\", \"alot\", \"alot\", \"alot\", \"alot\", \"alot\", \"amazon\", \"amazon\", \"amazon\", \"amazon\", \"amazon\", \"amazon\", \"amazon\", \"amazon\", \"amazon\", \"amazon\", \"amazon\", \"amazon\", \"amazon\", \"amazon\", \"amazon\", \"android\", \"android\", \"android\", \"android\", \"android\", \"android\", \"android\", \"android\", \"angel\", \"anyday\", \"app\", \"app\", \"app\", \"app\", \"app\", \"app\", \"app\", \"app\", \"app\", \"app\", \"app\", \"app\", \"app\", \"app\", \"appschild\", \"ar\", \"ask\", \"ask\", \"ask\", \"ask\", \"ask\", \"ask\", \"ask\", \"ask\", \"ask\", \"asleep\", \"assumwd\", \"att\", \"attract\", \"audio\", \"audio\", \"audio\", \"audio\", \"audio\", \"audio\", \"audio\", \"audiobook\", \"august\", \"australia\", \"author\", \"autism\", \"autofocus\", \"avid\", \"avid\", \"avid\", \"avid\", \"avid\", \"avid\", \"avid\", \"backlight\", \"backlight\", \"backlight\", \"backlight\", \"backlit\", \"backlit\", \"backlit\", \"backup\", \"backup\", \"backup\", \"backup\", \"backup\", \"backward\", \"bad\", \"bad\", \"bad\", \"bad\", \"bad\", \"bad\", \"bad\", \"bad\", \"bad\", \"bad\", \"bad\", \"bad\", \"band\", \"band\", \"bang\", \"bang\", \"bang\", \"barley\", \"base\", \"base\", \"base\", \"base\", \"base\", \"base\", \"basic\", \"basic\", \"basic\", \"basic\", \"basic\", \"basic\", \"basic\", \"basic\", \"basic\", \"basic\", \"basic\", \"basic\", \"basic\", \"baskey\", \"bass\", \"batter\", \"baught\", \"beach\", \"beach\", \"beach\", \"beat\", \"beat\", \"beat\", \"beat\", \"beat\", \"beat\", \"beat\", \"beat\", \"beat\", \"beat\", \"beaten\", \"bed\", \"bed\", \"bed\", \"bed\", \"bedroom\", \"bedroom\", \"bedt\", \"beef\", \"beet\", \"best\", \"best\", \"best\", \"best\", \"best\", \"best\", \"best\", \"best\", \"best\", \"best\", \"best\", \"best\", \"best\", \"best\", \"best\", \"better\", \"better\", \"better\", \"better\", \"better\", \"better\", \"better\", \"better\", \"better\", \"better\", \"better\", \"better\", \"better\", \"better\", \"better\", \"big\", \"big\", \"big\", \"big\", \"big\", \"big\", \"big\", \"big\", \"big\", \"big\", \"big\", \"big\", \"big\", \"big\", \"big\", \"bigger\", \"bigger\", \"bigger\", \"bigger\", \"bigger\", \"bigger\", \"bigger\", \"bigger\", \"bigger\", \"bigger\", \"binder\", \"birthday\", \"birthday\", \"birthday\", \"birthday\", \"birthday\", \"birthday\", \"birthday\", \"bit\", \"bit\", \"bit\", \"bit\", \"bit\", \"bit\", \"bit\", \"bit\", \"bit\", \"bit\", \"bit\", \"bit\", \"bit\", \"bit\", \"black\", \"black\", \"black\", \"black\", \"black\", \"black\", \"black\", \"black\", \"black\", \"black\", \"black\", \"black\", \"bland\", \"blank\", \"bleed\", \"blister\", \"bloat\", \"blood\", \"blu\", \"blue\", \"blue\", \"blue\", \"blue\", \"blue\", \"blue\", \"blue\", \"bluetooth\", \"bluetooth\", \"bluetooth\", \"bluetooth\", \"bluetooth\", \"boat\", \"bonus\", \"bonus\", \"bonus\", \"bonus\", \"bonus\", \"bonus\", \"bonus\", \"book\", \"book\", \"book\", \"book\", \"book\", \"book\", \"book\", \"book\", \"book\", \"book\", \"booklet\", \"boredom\", \"bough\", \"bought\", \"bought\", \"bought\", \"bought\", \"bought\", \"bought\", \"bought\", \"bought\", \"bought\", \"bought\", \"bought\", \"bought\", \"bought\", \"bought\", \"bought\", \"bout\", \"bout\", \"box\", \"box\", \"box\", \"box\", \"box\", \"box\", \"box\", \"box\", \"box\", \"box\", \"box\", \"boy\", \"boy\", \"boy\", \"boy\", \"boy\", \"boyfriend\", \"boyfriend\", \"brainier\", \"brand\", \"brand\", \"brand\", \"brand\", \"brand\", \"brand\", \"brand\", \"brand\", \"brand\", \"brand\", \"brand\", \"brand\", \"breaker\", \"brightest\", \"brother\", \"brother\", \"brother\", \"brother\", \"brought\", \"brought\", \"brought\", \"brought\", \"brought\", \"brought\", \"brush\", \"buck\", \"buck\", \"buck\", \"buck\", \"bulk\", \"bulk\", \"bulk\", \"bulk\", \"bulk\", \"bulk\", \"bulk\", \"bulk\", \"bulk\", \"bumper\", \"bumper\", \"bumper\", \"bumper\", \"bumper\", \"bumper\", \"burnt\", \"button\", \"button\", \"button\", \"button\", \"button\", \"button\", \"button\", \"buy\", \"buy\", \"buy\", \"buy\", \"buy\", \"buy\", \"buy\", \"buy\", \"buy\", \"buy\", \"buy\", \"buy\", \"buy\", \"buy\", \"buy\", \"byod\", \"cake\", \"cam\", \"came\", \"came\", \"came\", \"came\", \"came\", \"came\", \"came\", \"came\", \"came\", \"came\", \"came\", \"came\", \"came\", \"camera\", \"camera\", \"camera\", \"camera\", \"camera\", \"camera\", \"camera\", \"camera\", \"camera\", \"camera\", \"camera\", \"camera\", \"card\", \"card\", \"card\", \"card\", \"card\", \"card\", \"card\", \"card\", \"card\", \"card\", \"card\", \"card\", \"carpal\", \"carrier\", \"case\", \"case\", \"case\", \"case\", \"case\", \"case\", \"case\", \"case\", \"case\", \"case\", \"case\", \"case\", \"case\", \"case\", \"case\", \"cast\", \"cautious\", \"cds\", \"cent\", \"center\", \"channel\", \"channel\", \"charger\", \"charger\", \"charger\", \"charger\", \"charger\", \"charger\", \"charger\", \"charger\", \"charger\", \"charger\", \"charm\", \"cheap\", \"cheap\", \"cheap\", \"cheap\", \"cheap\", \"cheap\", \"cheap\", \"cheap\", \"cheap\", \"cheap\", \"cheap\", \"cheap\", \"cheap\", \"cheap\", \"cheaper\", \"cheaper\", \"cheaper\", \"cheaper\", \"cheaper\", \"cheaper\", \"cheaper\", \"cheaper\", \"cheaper\", \"cheaper\", \"cheaper\", \"cheaper\", \"cheaper\", \"check\", \"check\", \"check\", \"check\", \"check\", \"check\", \"check\", \"check\", \"check\", \"check\", \"cheep\", \"child\", \"child\", \"child\", \"child\", \"child\", \"child\", \"child\", \"child\", \"child\", \"child\", \"child\", \"child\", \"child\", \"child\", \"childproof\", \"children\", \"children\", \"children\", \"children\", \"children\", \"children\", \"children\", \"children\", \"children\", \"children\", \"chipper\", \"circadian\", \"citizen\", \"citizen\", \"claim\", \"claim\", \"claim\", \"claim\", \"class\", \"class\", \"class\", \"class\", \"clear\", \"clear\", \"clear\", \"clear\", \"clear\", \"clear\", \"clear\", \"clear\", \"clear\", \"clear\", \"clear\", \"clear\", \"clearer\", \"clearer\", \"clerk\", \"clock\", \"clock\", \"clock\", \"closer\", \"closet\", \"club\", \"club\", \"club\", \"club\", \"clutter\", \"coat\", \"coat\", \"coat\", \"color\", \"color\", \"color\", \"color\", \"color\", \"color\", \"color\", \"color\", \"color\", \"color\", \"color\", \"color\", \"come\", \"come\", \"come\", \"come\", \"come\", \"come\", \"come\", \"come\", \"come\", \"come\", \"come\", \"come\", \"come\", \"come\", \"come\", \"common\", \"common\", \"common\", \"compact\", \"compact\", \"compact\", \"compact\", \"compact\", \"compact\", \"compact\", \"compact\", \"compact\", \"companion\", \"companion\", \"complain\", \"complain\", \"complain\", \"complain\", \"complain\", \"complain\", \"conceal\", \"connect\", \"connect\", \"connect\", \"connect\", \"connect\", \"contain\", \"contorl\", \"control\", \"control\", \"control\", \"control\", \"control\", \"control\", \"control\", \"control\", \"control\", \"control\", \"control\", \"control\", \"control\", \"cooler\", \"copper\", \"copper\", \"copper\", \"copper\", \"copper\", \"copper\", \"coppertop\", \"cord\", \"cord\", \"cord\", \"cord\", \"cord\", \"core\", \"core\", \"correct\", \"cost\", \"cost\", \"cost\", \"cost\", \"cost\", \"cost\", \"cost\", \"cost\", \"cost\", \"cost\", \"cost\", \"cost\", \"cost\", \"costco\", \"costco\", \"costco\", \"costco\", \"costco\", \"costco\", \"couldn\", \"couldn\", \"couldn\", \"couldn\", \"couldn\", \"couldn\", \"couldn\", \"couldn\", \"couldn\", \"couldn\", \"couldn\", \"couldn\", \"couldn\", \"couldn\", \"cover\", \"cover\", \"cover\", \"cover\", \"cover\", \"cover\", \"cover\", \"cover\", \"cover\", \"cover\", \"cover\", \"craft\", \"crisper\", \"curfew\", \"curfew\", \"current\", \"current\", \"current\", \"current\", \"custom\", \"cvs\", \"dad\", \"dad\", \"dad\", \"dad\", \"dad\", \"dad\", \"dark\", \"dark\", \"dark\", \"dark\", \"dark\", \"dark\", \"dark\", \"date\", \"date\", \"date\", \"date\", \"date\", \"date\", \"date\", \"daughter\", \"daughter\", \"daughter\", \"daughter\", \"daughter\", \"daughter\", \"daughter\", \"daughter\", \"daughter\", \"daughter\", \"daughter\", \"daughter\", \"daughter\", \"daughter\", \"daugter\", \"daugther\", \"daugther\", \"dauther\", \"dauther\", \"day\", \"day\", \"day\", \"day\", \"day\", \"day\", \"day\", \"day\", \"day\", \"day\", \"day\", \"day\", \"day\", \"day\", \"day\", \"dead\", \"dead\", \"dead\", \"dead\", \"dead\", \"dead\", \"deadbolt\", \"deadbolt\", \"deal\", \"deal\", \"deal\", \"deal\", \"deal\", \"deal\", \"deal\", \"deal\", \"deal\", \"deal\", \"deal\", \"deal\", \"deal\", \"deal\", \"death\", \"decent\", \"decent\", \"decent\", \"decent\", \"decent\", \"decent\", \"decent\", \"decent\", \"decent\", \"decent\", \"decent\", \"decent\", \"decent\", \"deck\", \"defect\", \"depth\", \"design\", \"design\", \"design\", \"design\", \"design\", \"design\", \"design\", \"design\", \"design\", \"didon\", \"die\", \"die\", \"die\", \"die\", \"die\", \"die\", \"die\", \"die\", \"die\", \"dif\", \"disappear\", \"disch\", \"dish\", \"display\", \"display\", \"display\", \"display\", \"display\", \"display\", \"display\", \"display\", \"display\", \"display\", \"display\", \"display\", \"display\", \"distinguish\", \"dnt\", \"doa\", \"dock\", \"dog\", \"dog\", \"dog\", \"dog\", \"dont\", \"dont\", \"dont\", \"dont\", \"dont\", \"dont\", \"dont\", \"dont\", \"dont\", \"dont\", \"dont\", \"dose\", \"dot\", \"download\", \"download\", \"download\", \"download\", \"download\", \"download\", \"download\", \"download\", \"download\", \"download\", \"download\", \"download\", \"download\", \"download\", \"dp\", \"drag\", \"drag\", \"draw\", \"draw\", \"dreamtab\", \"driven\", \"drug\", \"dryer\", \"dud\", \"dud\", \"dude\", \"duracel\", \"dvd\", \"ear\", \"earth\", \"easier\", \"easier\", \"easier\", \"easier\", \"easier\", \"easier\", \"easier\", \"easier\", \"easier\", \"easier\", \"easier\", \"easier\", \"easier\", \"easyto\", \"ebook\", \"echo\", \"echo\", \"ecosystem\", \"ecosystem\", \"els\", \"email\", \"email\", \"email\", \"email\", \"email\", \"email\", \"email\", \"email\", \"enjoy\", \"enjoy\", \"enjoy\", \"enjoy\", \"enjoy\", \"enjoy\", \"enjoy\", \"enjoy\", \"enjoy\", \"enjoy\", \"enjoy\", \"enjoy\", \"entertain\", \"entertain\", \"entertain\", \"everyday\", \"everyday\", \"everyday\", \"everyday\", \"everyday\", \"everyday\", \"exam\", \"excelent\", \"expand\", \"expand\", \"expand\", \"expand\", \"experiment\", \"extent\", \"facebook\", \"facebook\", \"facebook\", \"facebook\", \"facebook\", \"facebook\", \"facebook\", \"facebook\", \"facebook\", \"facebook\", \"familiar\", \"familiar\", \"familiar\", \"famous\", \"famous\", \"fan\", \"fan\", \"fan\", \"fan\", \"fan\", \"fan\", \"fan\", \"fan\", \"fan\", \"fan\", \"fan\", \"fan\", \"fancier\", \"far\", \"far\", \"far\", \"far\", \"far\", \"far\", \"far\", \"far\", \"far\", \"far\", \"far\", \"far\", \"far\", \"far\", \"far\", \"fast\", \"fast\", \"fast\", \"fast\", \"fast\", \"fast\", \"fast\", \"fast\", \"fast\", \"fast\", \"fast\", \"fast\", \"fast\", \"faster\", \"faster\", \"faster\", \"faster\", \"faster\", \"faster\", \"faster\", \"faster\", \"faster\", \"faster\", \"faster\", \"faster\", \"fat\", \"father\", \"father\", \"father\", \"father\", \"father\", \"father\", \"fault\", \"fault\", \"fault\", \"fault\", \"fed\", \"feel\", \"feel\", \"feel\", \"feel\", \"feel\", \"feel\", \"feel\", \"feel\", \"feel\", \"feel\", \"feel\", \"feel\", \"feel\", \"feel\", \"feel\", \"fi\", \"fi\", \"fi\", \"fi\", \"fianc\", \"fine\", \"fine\", \"fine\", \"fine\", \"fine\", \"fine\", \"fine\", \"fine\", \"fine\", \"fine\", \"fine\", \"fine\", \"fine\", \"fine\", \"fine\", \"fir\", \"firestick\", \"fit\", \"fit\", \"fit\", \"fit\", \"fit\", \"fit\", \"fit\", \"fit\", \"fit\", \"fit\", \"fit\", \"fix\", \"fix\", \"fix\", \"fix\", \"fix\", \"flag\", \"flash\", \"flash\", \"flash\", \"flash\", \"flash\", \"flash\", \"fo\", \"font\", \"font\", \"font\", \"font\", \"foot\", \"foray\", \"forgotten\", \"fort\", \"fort\", \"forth\", \"forth\", \"forward\", \"forward\", \"forward\", \"forward\", \"forward\", \"fox\", \"fraction\", \"fraction\", \"fraction\", \"fraction\", \"fraction\", \"fraction\", \"fraction\", \"free\", \"free\", \"free\", \"free\", \"free\", \"free\", \"free\", \"free\", \"free\", \"free\", \"free\", \"free\", \"free\", \"free\", \"free\", \"fresh\", \"fresh\", \"fresh\", \"fresh\", \"fresh\", \"fresh\", \"fresh\", \"fresh\", \"friday\", \"friday\", \"friday\", \"friday\", \"friday\", \"friday\", \"friday\", \"friday\", \"friend\", \"friend\", \"friend\", \"friend\", \"friend\", \"friend\", \"friend\", \"friend\", \"friend\", \"friend\", \"friend\", \"froze\", \"fun\", \"fun\", \"fun\", \"fun\", \"fun\", \"fun\", \"fun\", \"fun\", \"fun\", \"fun\", \"fun\", \"fun\", \"gb\", \"gb\", \"gb\", \"gb\", \"gb\", \"gb\", \"gb\", \"gb\", \"geek\", \"geek\", \"geek\", \"geek\", \"gen\", \"gen\", \"gen\", \"gen\", \"gen\", \"generic\", \"generic\", \"generic\", \"generic\", \"generic\", \"getjar\", \"gf\", \"giant\", \"gift\", \"gift\", \"gift\", \"gift\", \"gift\", \"gift\", \"gift\", \"gift\", \"gift\", \"gift\", \"gift\", \"gift\", \"gift\", \"gift\", \"git\", \"glare\", \"glare\", \"glare\", \"glare\", \"glare\", \"glare\", \"glass\", \"glass\", \"glass\", \"gleeful\", \"godson\", \"goggleplay\", \"gold\", \"gold\", \"golden\", \"good\", \"good\", \"good\", \"good\", \"good\", \"good\", \"good\", \"good\", \"good\", \"good\", \"good\", \"good\", \"good\", \"good\", \"good\", \"goodidn\", \"goog\", \"got\", \"got\", \"got\", \"got\", \"got\", \"got\", \"got\", \"got\", \"got\", \"got\", \"got\", \"got\", \"got\", \"got\", \"got\", \"grader\", \"grader\", \"grand\", \"grand\", \"grand\", \"grand\", \"grand\", \"grandchild\", \"grandchild\", \"grandchild\", \"grandchildren\", \"grandchildren\", \"grandchildren\", \"grandchildren\", \"grandpa\", \"grandson\", \"grandson\", \"grandson\", \"grandson\", \"grandson\", \"grandson\", \"grandson\", \"grandson\", \"grandson\", \"grandson\", \"grandson\", \"grandson\", \"great\", \"great\", \"great\", \"great\", \"great\", \"great\", \"great\", \"great\", \"great\", \"great\", \"great\", \"great\", \"great\", \"great\", \"great\", \"grey\", \"gripe\", \"group\", \"group\", \"group\", \"group\", \"grown\", \"grown\", \"grownup\", \"gun\", \"habit\", \"hack\", \"hair\", \"hair\", \"half\", \"half\", \"half\", \"half\", \"half\", \"half\", \"half\", \"half\", \"halloween\", \"halloween\", \"halloween\", \"hammer\", \"hand\", \"hand\", \"hand\", \"hand\", \"hand\", \"hand\", \"hand\", \"hand\", \"hand\", \"hand\", \"hand\", \"hand\", \"hand\", \"hang\", \"happier\", \"happier\", \"happier\", \"happier\", \"happier\", \"haptic\", \"hasn\", \"hasn\", \"hasn\", \"hasn\", \"hasn\", \"hasn\", \"hasn\", \"hate\", \"hate\", \"hate\", \"hate\", \"haven\", \"haven\", \"haven\", \"haven\", \"haven\", \"haven\", \"haven\", \"haven\", \"haven\", \"haven\", \"haven\", \"haven\", \"haven\", \"haven\", \"haven\", \"hay\", \"hbo\", \"hd\", \"hd\", \"hd\", \"hd\", \"hd\", \"hd\", \"hd\", \"hd\", \"hd\", \"hd\", \"hd\", \"hd\", \"hd\", \"hdx\", \"hdx\", \"hdx\", \"hdx\", \"hdx\", \"hdx\", \"headset\", \"headstart\", \"heard\", \"heard\", \"heard\", \"heard\", \"heard\", \"heard\", \"heart\", \"heart\", \"heft\", \"help\", \"help\", \"help\", \"help\", \"help\", \"help\", \"help\", \"help\", \"help\", \"hes\", \"hey\", \"hey\", \"hey\", \"hey\", \"hidden\", \"hide\", \"high\", \"high\", \"high\", \"high\", \"high\", \"high\", \"high\", \"high\", \"high\", \"high\", \"high\", \"high\", \"high\", \"highest\", \"highest\", \"hitch\", \"hold\", \"hold\", \"hold\", \"hold\", \"hold\", \"hold\", \"hold\", \"hold\", \"hold\", \"hold\", \"hold\", \"hold\", \"hold\", \"hold\", \"holiday\", \"holiday\", \"holiday\", \"home\", \"home\", \"home\", \"home\", \"home\", \"home\", \"home\", \"home\", \"home\", \"home\", \"home\", \"home\", \"home\", \"home\", \"homerun\", \"homework\", \"homework\", \"hour\", \"hour\", \"hour\", \"hour\", \"hour\", \"hour\", \"hour\", \"hour\", \"housework\", \"hover\", \"howto\", \"hp\", \"https\", \"hub\", \"hug\", \"hugh\", \"hulu\", \"hulu\", \"hulu\", \"husband\", \"husband\", \"husband\", \"husband\", \"husband\", \"husband\", \"husband\", \"husband\", \"husband\", \"husband\", \"husband\", \"iam\", \"iceland\", \"idea\", \"idea\", \"idea\", \"idea\", \"idea\", \"idea\", \"idea\", \"ikea\", \"inch\", \"inch\", \"inch\", \"inch\", \"infant\", \"input\", \"input\", \"insignia\", \"insulin\", \"interact\", \"interior\", \"internet\", \"internet\", \"internet\", \"internet\", \"internet\", \"internet\", \"internet\", \"internet\", \"internet\", \"internet\", \"internet\", \"internet\", \"internet\", \"ipad\", \"ipad\", \"ipad\", \"ipad\", \"ipad\", \"ipad\", \"ipad\", \"ipad\", \"ipad\", \"ipad\", \"ipad\", \"ipad\", \"ipad\", \"ipad\", \"ipad\", \"ipod\", \"ipod\", \"item\", \"item\", \"item\", \"item\", \"item\", \"item\", \"item\", \"item\", \"item\", \"item\", \"item\", \"item\", \"item\", \"ixl\", \"jacket\", \"jerk\", \"jissela\", \"jr\", \"juju\", \"junk\", \"junk\", \"junk\", \"junk\", \"kathleen\", \"keeper\", \"kept\", \"kept\", \"kept\", \"kept\", \"kept\", \"kept\", \"kept\", \"kept\", \"kept\", \"kept\", \"keyboard\", \"keyboard\", \"keyboard\", \"keyboard\", \"keyboard\", \"keyboard\", \"keyboard\", \"keyboard\", \"kid\", \"kid\", \"kid\", \"kid\", \"kid\", \"kid\", \"kid\", \"kid\", \"kid\", \"kid\", \"kindel\", \"kiosk\", \"kirkland\", \"knack\", \"knew\", \"knew\", \"knew\", \"knew\", \"knew\", \"knew\", \"knew\", \"know\", \"know\", \"know\", \"know\", \"know\", \"know\", \"know\", \"know\", \"know\", \"know\", \"know\", \"know\", \"know\", \"know\", \"lacka\", \"lantern\", \"lantern\", \"lap\", \"lap\", \"lap\", \"lap\", \"laptop\", \"laptop\", \"laptop\", \"laptop\", \"laptop\", \"laptop\", \"laptop\", \"laptop\", \"laptop\", \"laptop\", \"larger\", \"larger\", \"larger\", \"larger\", \"larger\", \"larger\", \"larger\", \"larger\", \"larger\", \"larger\", \"larger\", \"latest\", \"latest\", \"latest\", \"latest\", \"latest\", \"latest\", \"latest\", \"latest\", \"latest\", \"law\", \"law\", \"law\", \"law\", \"law\", \"lay\", \"layout\", \"layout\", \"learn\", \"learn\", \"learn\", \"learn\", \"learn\", \"learn\", \"learn\", \"learn\", \"learn\", \"led\", \"led\", \"led\", \"led\", \"led\", \"leg\", \"lg\", \"lg\", \"lick\", \"life\", \"life\", \"life\", \"life\", \"life\", \"life\", \"life\", \"life\", \"life\", \"life\", \"life\", \"life\", \"life\", \"life\", \"life\", \"lifw\", \"ligher\", \"light\", \"light\", \"light\", \"light\", \"light\", \"light\", \"light\", \"light\", \"light\", \"light\", \"light\", \"light\", \"light\", \"light\", \"light\", \"lighter\", \"lighter\", \"lighter\", \"lighter\", \"lightweight\", \"lightweight\", \"lightweight\", \"lightweight\", \"lightweight\", \"lightweight\", \"lightweight\", \"lightweight\", \"lighweight\", \"like\", \"like\", \"like\", \"like\", \"like\", \"like\", \"like\", \"like\", \"like\", \"like\", \"like\", \"like\", \"like\", \"like\", \"like\", \"lil\", \"lil\", \"limit\", \"limit\", \"limit\", \"limit\", \"limit\", \"limit\", \"limit\", \"limit\", \"limit\", \"link\", \"link\", \"link\", \"link\", \"link\", \"link\", \"link\", \"listen\", \"listen\", \"listen\", \"listen\", \"listen\", \"listen\", \"listen\", \"listen\", \"lithium\", \"lithium\", \"lithium\", \"ll\", \"ll\", \"ll\", \"ll\", \"ll\", \"ll\", \"ll\", \"ll\", \"ll\", \"ll\", \"ll\", \"ll\", \"ll\", \"ll\", \"ll\", \"llite\", \"load\", \"load\", \"load\", \"load\", \"load\", \"load\", \"load\", \"load\", \"load\", \"load\", \"logic\", \"login\", \"lol\", \"lol\", \"lol\", \"lol\", \"lol\", \"lol\", \"lol\", \"lol\", \"long\", \"long\", \"long\", \"long\", \"long\", \"long\", \"long\", \"long\", \"long\", \"long\", \"long\", \"long\", \"long\", \"long\", \"long\", \"longer\", \"longer\", \"longer\", \"longer\", \"longer\", \"longer\", \"longer\", \"longer\", \"longer\", \"longer\", \"longer\", \"longer\", \"longer\", \"longer\", \"look\", \"look\", \"look\", \"look\", \"look\", \"look\", \"look\", \"look\", \"look\", \"look\", \"look\", \"look\", \"look\", \"look\", \"look\", \"lost\", \"lost\", \"lost\", \"lost\", \"lost\", \"lost\", \"lot\", \"lot\", \"lot\", \"lot\", \"lot\", \"lot\", \"lot\", \"lot\", \"lot\", \"lot\", \"lot\", \"lot\", \"lot\", \"lot\", \"lot\", \"love\", \"love\", \"love\", \"love\", \"love\", \"love\", \"love\", \"love\", \"love\", \"love\", \"love\", \"love\", \"love\", \"love\", \"love\", \"lovin\", \"low\", \"low\", \"low\", \"low\", \"low\", \"low\", \"low\", \"low\", \"low\", \"low\", \"low\", \"low\", \"low\", \"low\", \"lte\", \"lunch\", \"lunch\", \"ma\", \"macbook\", \"mag\", \"magic\", \"magic\", \"mah\", \"mail\", \"mail\", \"mail\", \"mail\", \"mail\", \"mail\", \"main\", \"main\", \"main\", \"main\", \"main\", \"main\", \"main\", \"main\", \"main\", \"mainstream\", \"major\", \"major\", \"major\", \"major\", \"major\", \"major\", \"major\", \"major\", \"major\", \"major\", \"map\", \"march\", \"march\", \"market\", \"market\", \"market\", \"market\", \"market\", \"market\", \"market\", \"market\", \"market\", \"market\", \"market\", \"market\", \"market\", \"marketchild\", \"matthew\", \"maui\", \"meant\", \"meant\", \"media\", \"media\", \"media\", \"media\", \"media\", \"media\", \"media\", \"media\", \"member\", \"member\", \"member\", \"member\", \"member\", \"member\", \"member\", \"member\", \"member\", \"member\", \"member\", \"membership\", \"membership\", \"membership\", \"membership\", \"menial\", \"menu\", \"menu\", \"menu\", \"mere\", \"mesh\", \"met\", \"met\", \"met\", \"met\", \"met\", \"metal\", \"mexico\", \"mgr\", \"micro\", \"micro\", \"micro\", \"micro\", \"micro\", \"microsd\", \"microsd\", \"microsd\", \"mindless\", \"mini\", \"mini\", \"mini\", \"mini\", \"mini\", \"mini\", \"mix\", \"mobi\", \"mode\", \"mode\", \"mode\", \"mode\", \"mode\", \"mode\", \"mode\", \"mode\", \"mode\", \"model\", \"model\", \"model\", \"model\", \"model\", \"model\", \"model\", \"model\", \"model\", \"model\", \"model\", \"model\", \"modern\", \"modern\", \"mom\", \"mom\", \"mom\", \"mom\", \"mom\", \"mom\", \"mom\", \"mom\", \"mom\", \"money\", \"money\", \"money\", \"money\", \"money\", \"money\", \"money\", \"money\", \"money\", \"money\", \"money\", \"money\", \"money\", \"money\", \"morn\", \"mother\", \"mother\", \"mother\", \"mother\", \"mother\", \"mother\", \"mother\", \"mother\", \"mother\", \"motion\", \"motion\", \"mtv\", \"music\", \"music\", \"music\", \"music\", \"music\", \"music\", \"music\", \"music\", \"music\", \"music\", \"music\", \"music\", \"music\", \"nabi\", \"nabi\", \"nabi\", \"nabi\", \"nabi\", \"nabi\", \"nabi\", \"namebrand\", \"nbc\", \"need\", \"need\", \"need\", \"need\", \"need\", \"need\", \"need\", \"need\", \"need\", \"need\", \"need\", \"need\", \"need\", \"need\", \"need\", \"nephew\", \"nephew\", \"nephew\", \"nephew\", \"nephew\", \"nephew\", \"nephew\", \"nephew\", \"nervous\", \"nervous\", \"netflix\", \"netflix\", \"netflix\", \"netflix\", \"netflix\", \"netflix\", \"netflix\", \"netflix\", \"netflix\", \"netflix\", \"netflix\", \"new\", \"new\", \"new\", \"new\", \"new\", \"new\", \"new\", \"new\", \"new\", \"new\", \"new\", \"new\", \"new\", \"new\", \"new\", \"newstand\", \"nextbook\", \"nexus\", \"nexus\", \"nexus\", \"nexus\", \"nice\", \"nice\", \"nice\", \"nice\", \"nice\", \"nice\", \"nice\", \"nice\", \"nice\", \"nice\", \"nice\", \"nice\", \"nice\", \"nice\", \"nice\", \"nomad\", \"nook\", \"nook\", \"nook\", \"nook\", \"nook\", \"nook\", \"nose\", \"nt\", \"nvidia\", \"occur\", \"odd\", \"odd\", \"ok\", \"ok\", \"ok\", \"ok\", \"ok\", \"ok\", \"ok\", \"ok\", \"ok\", \"ok\", \"old\", \"old\", \"old\", \"old\", \"old\", \"old\", \"old\", \"old\", \"old\", \"old\", \"old\", \"old\", \"old\", \"old\", \"old\", \"older\", \"older\", \"older\", \"older\", \"older\", \"older\", \"older\", \"older\", \"older\", \"older\", \"older\", \"older\", \"older\", \"onext\", \"oonz\", \"option\", \"option\", \"option\", \"option\", \"option\", \"option\", \"option\", \"option\", \"option\", \"option\", \"order\", \"order\", \"order\", \"order\", \"order\", \"order\", \"order\", \"order\", \"order\", \"order\", \"order\", \"order\", \"order\", \"origami\", \"os\", \"os\", \"os\", \"os\", \"os\", \"os\", \"outlet\", \"outlet\", \"pace\", \"pack\", \"pack\", \"pack\", \"pack\", \"pack\", \"pack\", \"pack\", \"pack\", \"pack\", \"pack\", \"pack\", \"pack\", \"pad\", \"pad\", \"pad\", \"pad\", \"pad\", \"pad\", \"pad\", \"pad\", \"pad\", \"page\", \"page\", \"page\", \"page\", \"page\", \"page\", \"page\", \"page\", \"paid\", \"paid\", \"paid\", \"paid\", \"paid\", \"paid\", \"paid\", \"paid\", \"palm\", \"pandora\", \"paper\", \"paper\", \"paper\", \"paper\", \"paperback\", \"pare\", \"parent\", \"parent\", \"parent\", \"parent\", \"partial\", \"particular\", \"particular\", \"particular\", \"particular\", \"particular\", \"patient\", \"pay\", \"pay\", \"pay\", \"pay\", \"pay\", \"pay\", \"pay\", \"pay\", \"pay\", \"pay\", \"pay\", \"pdfs\", \"perfect\", \"perfect\", \"perfect\", \"perfect\", \"perfect\", \"perfect\", \"perfect\", \"perfect\", \"perfect\", \"perfect\", \"perfect\", \"perfect\", \"perfect\", \"perfect\", \"perfect\", \"perform\", \"perform\", \"perform\", \"perform\", \"perform\", \"perform\", \"perform\", \"period\", \"period\", \"person\", \"person\", \"person\", \"person\", \"person\", \"person\", \"person\", \"person\", \"person\", \"person\", \"personnel\", \"phablet\", \"phone\", \"phone\", \"phone\", \"phone\", \"phone\", \"phone\", \"phone\", \"phone\", \"phone\", \"phone\", \"phone\", \"phooey\", \"pic\", \"pic\", \"pic\", \"pickup\", \"pink\", \"pink\", \"pink\", \"pink\", \"pintrest\", \"platform\", \"platform\", \"platform\", \"platform\", \"play\", \"play\", \"play\", \"play\", \"play\", \"play\", \"play\", \"play\", \"play\", \"play\", \"play\", \"play\", \"play\", \"play\", \"play\", \"playback\", \"playback\", \"player\", \"player\", \"player\", \"plug\", \"plug\", \"plug\", \"plug\", \"plug\", \"point\", \"point\", \"point\", \"point\", \"point\", \"point\", \"point\", \"point\", \"point\", \"point\", \"point\", \"point\", \"pokemon\", \"poloroid\", \"pool\", \"pool\", \"pool\", \"port\", \"port\", \"port\", \"port\", \"port\", \"port\", \"port\", \"portal\", \"pove\", \"power\", \"power\", \"power\", \"power\", \"power\", \"power\", \"power\", \"power\", \"power\", \"power\", \"power\", \"power\", \"prefect\", \"premium\", \"premium\", \"premium\", \"premium\", \"premium\", \"premium\", \"present\", \"present\", \"present\", \"present\", \"present\", \"present\", \"present\", \"present\", \"press\", \"press\", \"press\", \"press\", \"press\", \"previous\", \"previous\", \"previous\", \"previous\", \"previous\", \"previous\", \"previous\", \"previous\", \"previous\", \"previous\", \"previous\", \"previous\", \"price\", \"price\", \"price\", \"price\", \"price\", \"price\", \"price\", \"price\", \"price\", \"price\", \"price\", \"price\", \"price\", \"price\", \"price\", \"prime\", \"prime\", \"prime\", \"prime\", \"prime\", \"prime\", \"prime\", \"prime\", \"prime\", \"prime\", \"prime\", \"prime\", \"prime\", \"problem\", \"problem\", \"problem\", \"problem\", \"problem\", \"problem\", \"problem\", \"problem\", \"problem\", \"problem\", \"problem\", \"product\", \"product\", \"product\", \"product\", \"product\", \"product\", \"product\", \"product\", \"product\", \"product\", \"product\", \"product\", \"product\", \"product\", \"product\", \"prof\", \"prone\", \"proof\", \"proof\", \"proof\", \"proof\", \"proof\", \"proof\", \"protect\", \"protect\", \"protect\", \"protect\", \"protect\", \"pumper\", \"pw\", \"quad\", \"quetion\", \"quick\", \"quick\", \"quick\", \"quick\", \"quick\", \"quick\", \"quick\", \"quick\", \"quick\", \"quick\", \"quick\", \"quick\", \"quick\", \"quicker\", \"quicker\", \"quieter\", \"radio\", \"radio\", \"radio\", \"radio\", \"radio\", \"radio\", \"radio\", \"radio\", \"rain\", \"ratio\", \"ratio\", \"ration\", \"ray\", \"ray\", \"rayovac\", \"rayovac\", \"rc\", \"rc\", \"rd\", \"rd\", \"rd\", \"rd\", \"rd\", \"rd\", \"read\", \"read\", \"read\", \"read\", \"read\", \"read\", \"read\", \"read\", \"read\", \"read\", \"read\", \"read\", \"read\", \"read\", \"reader\", \"reader\", \"reader\", \"reader\", \"reader\", \"reader\", \"reader\", \"reader\", \"reader\", \"reader\", \"real\", \"real\", \"real\", \"real\", \"real\", \"real\", \"real\", \"real\", \"real\", \"rear\", \"rear\", \"rear\", \"rear\", \"recommend\", \"recommend\", \"recommend\", \"recommend\", \"recommend\", \"recommend\", \"recommend\", \"recommend\", \"recommend\", \"recommend\", \"recommend\", \"recommend\", \"recommend\", \"recommend\", \"recommend\", \"rectangular\", \"red\", \"red\", \"red\", \"red\", \"redbox\", \"redesign\", \"refresh\", \"reg\", \"relax\", \"renew\", \"rep\", \"rep\", \"repair\", \"repossess\", \"resist\", \"resist\", \"respond\", \"respond\", \"respond\", \"respond\", \"restock\", \"review\", \"review\", \"review\", \"review\", \"review\", \"review\", \"review\", \"review\", \"review\", \"review\", \"review\", \"reward\", \"rhythm\", \"right\", \"right\", \"right\", \"right\", \"right\", \"right\", \"right\", \"right\", \"right\", \"right\", \"right\", \"right\", \"right\", \"right\", \"right\", \"rival\", \"robot\", \"robust\", \"robust\", \"robust\", \"root\", \"rough\", \"rough\", \"rough\", \"rough\", \"rough\", \"rough\", \"rough\", \"rough\", \"row\", \"rt\", \"rubber\", \"rubber\", \"rubber\", \"rubber\", \"rubber\", \"run\", \"run\", \"run\", \"run\", \"run\", \"run\", \"run\", \"run\", \"run\", \"run\", \"run\", \"run\", \"run\", \"safe\", \"safe\", \"safe\", \"safe\", \"safe\", \"safeguard\", \"said\", \"said\", \"said\", \"said\", \"said\", \"said\", \"said\", \"said\", \"said\", \"said\", \"said\", \"said\", \"said\", \"sale\", \"sale\", \"sale\", \"sale\", \"sale\", \"sale\", \"sale\", \"sale\", \"sale\", \"sale\", \"sale\", \"sale\", \"salesgirl\", \"sam\", \"samaumg\", \"scale\", \"scale\", \"school\", \"school\", \"school\", \"school\", \"school\", \"school\", \"school\", \"school\", \"school\", \"score\", \"screed\", \"screen\", \"screen\", \"screen\", \"screen\", \"screen\", \"screen\", \"screen\", \"screen\", \"screen\", \"screen\", \"screen\", \"screen\", \"screen\", \"screen\", \"screen\", \"sd\", \"sd\", \"sd\", \"sd\", \"sd\", \"sd\", \"sd\", \"seal\", \"second\", \"second\", \"second\", \"second\", \"second\", \"second\", \"second\", \"second\", \"second\", \"second\", \"second\", \"second\", \"second\", \"second\", \"sega\", \"seller\", \"seller\", \"senior\", \"senior\", \"senior\", \"session\", \"set\", \"set\", \"set\", \"set\", \"set\", \"set\", \"set\", \"set\", \"set\", \"set\", \"set\", \"set\", \"set\", \"set\", \"setup\", \"setup\", \"setup\", \"setup\", \"setup\", \"setup\", \"setup\", \"sf\", \"shatter\", \"shelf\", \"shelf\", \"shelf\", \"shelf\", \"shelf\", \"shelf\", \"shelf\", \"shelf\", \"shelf\", \"shield\", \"ship\", \"ship\", \"ship\", \"ship\", \"ship\", \"short\", \"short\", \"short\", \"short\", \"short\", \"short\", \"short\", \"short\", \"shorter\", \"shorter\", \"shorter\", \"shorter\", \"shown\", \"shown\", \"shown\", \"shrink\", \"shrink\", \"shrink\", \"shrink\", \"shrink\", \"shut\", \"shut\", \"shut\", \"shut\", \"shut\", \"shut\", \"siri\", \"sister\", \"sister\", \"sister\", \"sister\", \"sister\", \"sister\", \"sister\", \"sit\", \"sit\", \"sit\", \"sit\", \"size\", \"size\", \"size\", \"size\", \"size\", \"size\", \"size\", \"size\", \"size\", \"size\", \"size\", \"size\", \"size\", \"size\", \"size\", \"sleek\", \"sleek\", \"sleek\", \"sleeker\", \"slight\", \"slight\", \"slik\", \"slip\", \"slip\", \"slot\", \"slot\", \"slot\", \"slot\", \"slot\", \"slot\", \"slot\", \"slot\", \"slow\", \"slow\", \"slow\", \"slow\", \"slow\", \"slow\", \"slow\", \"slow\", \"slow\", \"slow\", \"slow\", \"slow\", \"slow\", \"slr\", \"small\", \"small\", \"small\", \"small\", \"small\", \"small\", \"small\", \"small\", \"small\", \"small\", \"small\", \"small\", \"small\", \"small\", \"small\", \"smaller\", \"smaller\", \"smaller\", \"smaller\", \"smaller\", \"smaller\", \"smaller\", \"smaller\", \"smaller\", \"smaller\", \"smell\", \"smoke\", \"smoke\", \"smoke\", \"smoke\", \"smoke\", \"smoke\", \"smooth\", \"smooth\", \"smooth\", \"smooth\", \"snap\", \"snap\", \"snap\", \"snappier\", \"social\", \"social\", \"social\", \"soft\", \"soft\", \"solid\", \"solid\", \"solid\", \"solid\", \"solid\", \"solid\", \"solid\", \"solid\", \"solid\", \"solid\", \"son\", \"son\", \"son\", \"son\", \"son\", \"son\", \"son\", \"son\", \"son\", \"son\", \"son\", \"son\", \"son\", \"son\", \"son\", \"sone\", \"soo\", \"sooner\", \"sooner\", \"sooner\", \"sooo\", \"soooooo\", \"sound\", \"sound\", \"sound\", \"sound\", \"sound\", \"sound\", \"sound\", \"sound\", \"sound\", \"sound\", \"sound\", \"sound\", \"sound\", \"space\", \"space\", \"space\", \"space\", \"space\", \"space\", \"space\", \"space\", \"space\", \"space\", \"space\", \"space\", \"space\", \"space\", \"span\", \"span\", \"span\", \"spare\", \"spare\", \"spare\", \"spare\", \"speak\", \"speak\", \"speaker\", \"speaker\", \"speaker\", \"speaker\", \"spend\", \"spend\", \"spend\", \"spend\", \"spend\", \"spend\", \"spend\", \"spend\", \"spend\", \"spend\", \"spend\", \"spend\", \"spill\", \"spin\", \"spoiler\", \"sport\", \"squad\", \"squad\", \"squad\", \"squarish\", \"stair\", \"start\", \"start\", \"start\", \"start\", \"start\", \"start\", \"start\", \"start\", \"start\", \"start\", \"start\", \"start\", \"starter\", \"starter\", \"starter\", \"starter\", \"starter\", \"starter\", \"station\", \"steelbook\", \"stone\", \"stood\", \"store\", \"store\", \"store\", \"store\", \"store\", \"store\", \"store\", \"store\", \"store\", \"store\", \"store\", \"store\", \"store\", \"straightforward\", \"strain\", \"strain\", \"stream\", \"stream\", \"stream\", \"stream\", \"stream\", \"stream\", \"street\", \"stringer\", \"stroyek\", \"stuff\", \"stuff\", \"stuff\", \"stuff\", \"stuff\", \"stuff\", \"stuff\", \"stuff\", \"stuff\", \"stuff\", \"stuff\", \"stuff\", \"stuff\", \"stuff\", \"summer\", \"sunlight\", \"sunlight\", \"sunlight\", \"sunlight\", \"superb\", \"superb\", \"superb\", \"sure\", \"sure\", \"sure\", \"sure\", \"sure\", \"sure\", \"sure\", \"sure\", \"sure\", \"sure\", \"sure\", \"sure\", \"sure\", \"sure\", \"sure\", \"surf\", \"surf\", \"surf\", \"swipe\", \"swipe\", \"swipe\", \"tablet\", \"tablet\", \"tablet\", \"tablet\", \"tablet\", \"tablet\", \"tablet\", \"tablet\", \"tablet\", \"tablet\", \"tablet\", \"tablet\", \"tablet\", \"tablet\", \"tablet\", \"tablett\", \"tabletyou\", \"tad\", \"tad\", \"tad\", \"tag\", \"tag\", \"tag\", \"tag\", \"tag\", \"tag\", \"talk\", \"talk\", \"talk\", \"tap\", \"tap\", \"taught\", \"tech\", \"tech\", \"tech\", \"tech\", \"tech\", \"tech\", \"tell\", \"tell\", \"tell\", \"tell\", \"tell\", \"tell\", \"tell\", \"tell\", \"tell\", \"tell\", \"tell\", \"tell\", \"test\", \"test\", \"test\", \"test\", \"test\", \"test\", \"test\", \"tester\", \"tester\", \"tester\", \"text\", \"text\", \"text\", \"text\", \"text\", \"text\", \"text\", \"text\", \"th\", \"th\", \"th\", \"th\", \"th\", \"th\", \"th\", \"th\", \"th\", \"thank\", \"thank\", \"thank\", \"thank\", \"thank\", \"thank\", \"thank\", \"thank\", \"theach\", \"thermostat\", \"thermostat\", \"thicker\", \"thing\", \"thing\", \"thing\", \"thing\", \"thing\", \"thing\", \"thing\", \"thing\", \"thing\", \"thing\", \"thing\", \"thing\", \"thing\", \"thing\", \"thing\", \"think\", \"think\", \"think\", \"think\", \"think\", \"think\", \"think\", \"think\", \"think\", \"think\", \"think\", \"think\", \"think\", \"think\", \"thought\", \"thought\", \"thought\", \"thought\", \"thought\", \"thought\", \"thought\", \"thought\", \"thought\", \"thought\", \"thought\", \"thought\", \"thought\", \"thought\", \"til\", \"til\", \"time\", \"time\", \"time\", \"time\", \"time\", \"time\", \"time\", \"time\", \"time\", \"time\", \"time\", \"time\", \"time\", \"time\", \"time\", \"timer\", \"timer\", \"timer\", \"timer\", \"timer\", \"tinier\", \"tmtis\", \"toast\", \"toddler\", \"toddler\", \"toddler\", \"toddler\", \"toddler\", \"toddler\", \"toddler\", \"toddler\", \"toddler\", \"told\", \"told\", \"told\", \"told\", \"told\", \"told\", \"told\", \"tomorrow\", \"ton\", \"ton\", \"ton\", \"ton\", \"ton\", \"ton\", \"took\", \"took\", \"took\", \"took\", \"took\", \"took\", \"took\", \"took\", \"took\", \"took\", \"took\", \"took\", \"took\", \"took\", \"tool\", \"tool\", \"tool\", \"tool\", \"tool\", \"tool\", \"tool\", \"tool\", \"tool\", \"tot\", \"touch\", \"touch\", \"touch\", \"touch\", \"touch\", \"touch\", \"touch\", \"touch\", \"touch\", \"touch\", \"touch\", \"touch\", \"town\", \"trace\", \"traditionalist\", \"transfer\", \"transfer\", \"transfer\", \"trash\", \"trash\", \"travel\", \"travel\", \"travel\", \"travel\", \"travel\", \"travel\", \"travel\", \"travel\", \"travel\", \"travel\", \"tree\", \"tree\", \"trimmer\", \"trip\", \"trip\", \"trip\", \"trip\", \"trip\", \"trip\", \"trip\", \"trip\", \"trys\", \"tuck\", \"turn\", \"turn\", \"turn\", \"turn\", \"turn\", \"turn\", \"turn\", \"turn\", \"turn\", \"turn\", \"twice\", \"twice\", \"twice\", \"twice\", \"twice\", \"twice\", \"twice\", \"twice\", \"ty\", \"ugh\", \"unbox\", \"underground\", \"underground\", \"underground\", \"underground\", \"underground\", \"understand\", \"understand\", \"understand\", \"understand\", \"understand\", \"understand\", \"understand\", \"understand\", \"understand\", \"unit\", \"unit\", \"unit\", \"unit\", \"unit\", \"unit\", \"unit\", \"unit\", \"unit\", \"unreal\", \"upset\", \"upset\", \"ur\", \"use\", \"use\", \"use\", \"use\", \"use\", \"use\", \"use\", \"use\", \"use\", \"use\", \"use\", \"use\", \"use\", \"use\", \"use\", \"useful\", \"useful\", \"useful\", \"useful\", \"useful\", \"useful\", \"useful\", \"useful\", \"user\", \"user\", \"user\", \"user\", \"user\", \"user\", \"user\", \"user\", \"user\", \"user\", \"user\", \"user\", \"user\", \"usin\", \"usr\", \"vac\", \"vac\", \"ve\", \"ve\", \"ve\", \"ve\", \"ve\", \"ve\", \"ve\", \"ve\", \"ve\", \"ve\", \"ve\", \"ve\", \"ve\", \"ve\", \"ve\", \"version\", \"version\", \"version\", \"version\", \"version\", \"version\", \"version\", \"version\", \"version\", \"version\", \"version\", \"video\", \"video\", \"video\", \"video\", \"video\", \"video\", \"video\", \"video\", \"video\", \"video\", \"video\", \"video\", \"view\", \"view\", \"view\", \"view\", \"view\", \"view\", \"view\", \"view\", \"view\", \"visa\", \"vision\", \"visual\", \"vlc\", \"vudu\", \"wad\", \"wait\", \"wait\", \"wait\", \"wait\", \"wait\", \"wait\", \"wait\", \"wait\", \"wait\", \"wait\", \"wanna\", \"want\", \"want\", \"want\", \"want\", \"want\", \"want\", \"want\", \"want\", \"want\", \"want\", \"want\", \"want\", \"want\", \"want\", \"want\", \"warm\", \"warm\", \"washer\", \"watch\", \"watch\", \"watch\", \"watch\", \"watch\", \"watch\", \"watch\", \"watch\", \"watch\", \"watch\", \"watch\", \"watch\", \"watcher\", \"water\", \"water\", \"water\", \"water\", \"water\", \"water\", \"water\", \"way\", \"way\", \"way\", \"way\", \"way\", \"way\", \"way\", \"way\", \"way\", \"way\", \"way\", \"way\", \"way\", \"way\", \"way\", \"weak\", \"weak\", \"weak\", \"weak\", \"weak\", \"weather\", \"weather\", \"weather\", \"weather\", \"weather\", \"weather\", \"web\", \"web\", \"web\", \"web\", \"web\", \"web\", \"web\", \"web\", \"web\", \"web\", \"web\", \"web\", \"week\", \"week\", \"week\", \"week\", \"week\", \"week\", \"week\", \"week\", \"week\", \"week\", \"week\", \"week\", \"week\", \"weekend\", \"weekend\", \"weight\", \"weight\", \"weight\", \"weight\", \"weight\", \"weight\", \"weight\", \"weight\", \"weight\", \"weight\", \"went\", \"went\", \"went\", \"went\", \"went\", \"went\", \"went\", \"went\", \"went\", \"went\", \"went\", \"went\", \"weren\", \"weren\", \"weren\", \"werent\", \"wet\", \"wheni\", \"whey\", \"whilst\", \"whit\", \"white\", \"white\", \"white\", \"white\", \"white\", \"white\", \"white\", \"white\", \"wi\", \"wi\", \"wi\", \"wi\", \"wide\", \"wide\", \"wide\", \"wife\", \"wife\", \"wife\", \"wife\", \"wife\", \"wife\", \"wife\", \"wife\", \"wife\", \"wife\", \"wife\", \"wife\", \"wife\", \"wifi\", \"wifi\", \"wifi\", \"wifi\", \"wifi\", \"wifi\", \"wifi\", \"wifi\", \"wifi\", \"wifi\", \"wifi\", \"wifi\", \"wifi\", \"wii\", \"wii\", \"wikipedia\", \"win\", \"win\", \"win\", \"win\", \"wine\", \"wish\", \"wish\", \"wish\", \"wish\", \"wish\", \"wish\", \"wish\", \"wish\", \"wish\", \"wish\", \"wish\", \"wish\", \"wish\", \"withstand\", \"wizard\", \"won\", \"won\", \"won\", \"won\", \"won\", \"won\", \"won\", \"won\", \"won\", \"won\", \"won\", \"won\", \"won\", \"won\", \"won\", \"wonderful\", \"wonderful\", \"wonderful\", \"wonderful\", \"wonderful\", \"wonderful\", \"wonderful\", \"wonderful\", \"wonderful\", \"wonderful\", \"wonderful\", \"wonderful\", \"wonderful\", \"wont\", \"wont\", \"wont\", \"wont\", \"wont\", \"wont\", \"wont\", \"wont\", \"woo\", \"word\", \"word\", \"word\", \"word\", \"work\", \"work\", \"work\", \"work\", \"work\", \"work\", \"work\", \"work\", \"work\", \"work\", \"work\", \"work\", \"work\", \"work\", \"world\", \"world\", \"world\", \"world\", \"world\", \"world\", \"world\", \"world\", \"worm\", \"worth\", \"worth\", \"worth\", \"worth\", \"worth\", \"worth\", \"worth\", \"worth\", \"worth\", \"worth\", \"worth\", \"worth\", \"worth\", \"worth\", \"worthless\", \"worthless\", \"wouldnt\", \"wouldnt\", \"wouldnt\", \"wrap\", \"wrap\", \"wrap\", \"wrap\", \"wrap\", \"wrath\", \"wrong\", \"wrong\", \"wrong\", \"wrong\", \"wrong\", \"wrong\", \"wrong\", \"wrong\", \"wrong\", \"wrong\", \"wrong\", \"wrong\", \"wrong\", \"www\", \"xbox\", \"xbox\", \"xbox\", \"xbox\", \"xbox\", \"xbox\", \"xbox\", \"xbox\", \"xbox\", \"xbox\", \"xbox\", \"xbox\", \"xmas\", \"xmas\", \"xmas\", \"ya\", \"ya\", \"yeah\", \"year\", \"year\", \"year\", \"year\", \"year\", \"year\", \"year\", \"year\", \"year\", \"year\", \"year\", \"year\", \"year\", \"year\", \"yep\", \"yes\", \"yes\", \"yes\", \"yes\", \"yes\", \"yes\", \"yes\", \"yes\", \"yes\", \"yes\", \"yes\", \"yo\", \"yo\", \"yo\", \"yo\", \"yo\", \"yo\", \"yo\", \"young\", \"young\", \"young\", \"young\", \"young\", \"young\", \"young\", \"young\", \"youngest\", \"youngest\", \"youngest\", \"youngest\", \"yr\", \"yr\", \"yr\", \"yr\", \"yr\", \"yr\", \"yr\", \"yr\", \"yup\", \"yup\", \"\\u00e4\\u00f4m\", \"\\u00e4\\u00f4s\", \"\\u00e4\\u00f4s\", \"\\u00e4\\u00f4s\", \"\\u00e4\\u00f4s\", \"\\u00e4\\u00f4t\", \"\\u00e4\\u00f4t\", \"\\u00e4\\u00f4t\", \"\\u00e4\\u00f9\", \"\\u00e4\\u00f9\"]}, \"R\": 30, \"lambda.step\": 0.01, \"plot.opts\": {\"xlab\": \"PC1\", \"ylab\": \"PC2\"}, \"topic.order\": [1, 2, 3, 4, 5, 6, 7, 8, 9, 10, 11, 12, 13, 14, 15]};\n",
       "\n",
       "function LDAvis_load_lib(url, callback){\n",
       "  var s = document.createElement('script');\n",
       "  s.src = url;\n",
       "  s.async = true;\n",
       "  s.onreadystatechange = s.onload = callback;\n",
       "  s.onerror = function(){console.warn(\"failed to load library \" + url);};\n",
       "  document.getElementsByTagName(\"head\")[0].appendChild(s);\n",
       "}\n",
       "\n",
       "if(typeof(LDAvis) !== \"undefined\"){\n",
       "   // already loaded: just create the visualization\n",
       "   !function(LDAvis){\n",
       "       new LDAvis(\"#\" + \"ldavis_el6164150907164324270239031\", ldavis_el6164150907164324270239031_data);\n",
       "   }(LDAvis);\n",
       "}else if(typeof define === \"function\" && define.amd){\n",
       "   // require.js is available: use it to load d3/LDAvis\n",
       "   require.config({paths: {d3: \"https://cdnjs.cloudflare.com/ajax/libs/d3/3.5.5/d3.min\"}});\n",
       "   require([\"d3\"], function(d3){\n",
       "      window.d3 = d3;\n",
       "      LDAvis_load_lib(\"https://cdn.rawgit.com/bmabey/pyLDAvis/files/ldavis.v1.0.0.js\", function(){\n",
       "        new LDAvis(\"#\" + \"ldavis_el6164150907164324270239031\", ldavis_el6164150907164324270239031_data);\n",
       "      });\n",
       "    });\n",
       "}else{\n",
       "    // require.js not available: dynamically load d3 & LDAvis\n",
       "    LDAvis_load_lib(\"https://cdnjs.cloudflare.com/ajax/libs/d3/3.5.5/d3.min.js\", function(){\n",
       "         LDAvis_load_lib(\"https://cdn.rawgit.com/bmabey/pyLDAvis/files/ldavis.v1.0.0.js\", function(){\n",
       "                 new LDAvis(\"#\" + \"ldavis_el6164150907164324270239031\", ldavis_el6164150907164324270239031_data);\n",
       "            })\n",
       "         });\n",
       "}\n",
       "</script>"
      ],
      "text/plain": [
       "<IPython.core.display.HTML object>"
      ]
     },
     "execution_count": 53,
     "metadata": {},
     "output_type": "execute_result"
    }
   ],
   "source": [
    "lda_display = pyLDAvis.gensim.prepare(lda, corpus, texts_dictionary, sort_topics=False)\n",
    "pyLDAvis.display(lda_display)"
   ]
  },
  {
   "cell_type": "code",
   "execution_count": 54,
   "metadata": {},
   "outputs": [
    {
     "name": "stdout",
     "output_type": "stream",
     "text": [
      "\n",
      "Perplexity:  -6.130588719848048\n"
     ]
    }
   ],
   "source": [
    "# Compute Perplexity\n",
    "print('\\nPerplexity: ', lda.log_perplexity(corpus))  # a measure of how good the model is. lower the better."
   ]
  },
  {
   "cell_type": "markdown",
   "metadata": {},
   "source": [
    "## Stretch Goals\n",
    "\n",
    "* Incorporate Named Entity Recognition in your analysis\n",
    "* Incorporate some custom pre-processing from our previous lessons (like spacy lemmatization)\n",
    "* Analyze a dataset of interest to you with topic modeling"
   ]
  },
  {
   "cell_type": "code",
   "execution_count": null,
   "metadata": {},
   "outputs": [],
   "source": []
  },
  {
   "cell_type": "code",
   "execution_count": null,
   "metadata": {},
   "outputs": [],
   "source": []
  },
  {
   "cell_type": "code",
   "execution_count": null,
   "metadata": {},
   "outputs": [],
   "source": []
  },
  {
   "cell_type": "code",
   "execution_count": null,
   "metadata": {},
   "outputs": [],
   "source": []
  },
  {
   "cell_type": "code",
   "execution_count": null,
   "metadata": {},
   "outputs": [],
   "source": []
  }
 ],
 "metadata": {
  "kernelspec": {
   "display_name": "U4-S1-NLP (Python3)",
   "language": "python",
   "name": "u4-s1-nlp"
  },
  "language_info": {
   "codemirror_mode": {
    "name": "ipython",
    "version": 3
   },
   "file_extension": ".py",
   "mimetype": "text/x-python",
   "name": "python",
   "nbconvert_exporter": "python",
   "pygments_lexer": "ipython3",
   "version": "3.7.0"
  }
 },
 "nbformat": 4,
 "nbformat_minor": 4
}
